{
 "cells": [
  {
   "cell_type": "code",
   "execution_count": 1,
   "id": "ac2efca1-2811-4077-85e4-5f012ea3a583",
   "metadata": {},
   "outputs": [],
   "source": [
    "# JSON\n",
    "# JavaScript object notation olarak isimlendirilir"
   ]
  },
  {
   "cell_type": "code",
   "execution_count": 1,
   "id": "7c7c84d8-7f25-4997-81de-67a986e90e61",
   "metadata": {},
   "outputs": [
    {
     "name": "stdout",
     "output_type": "stream",
     "text": [
      "30\n"
     ]
    }
   ],
   "source": [
    "import json\n",
    "# Bir json veriniz varsa bunu dictionary veri tipine çevirebilirsiniz\n",
    "# json.loads() komutu ile\n",
    "import json\n",
    "\n",
    "# JSON data:\n",
    "x =  '{ \"name\":\"John\", \"age\":30, \"city\":\"New York\"}'\n",
    "\n",
    "# parse x:\n",
    "y = json.loads(x)\n",
    "\n",
    "# sonuç Python dictionary olacaktır:\n",
    "print(y[\"age\"])"
   ]
  },
  {
   "cell_type": "code",
   "execution_count": 3,
   "id": "ae6c578d-3b8d-4955-9cfd-b05f91128d59",
   "metadata": {},
   "outputs": [
    {
     "name": "stdout",
     "output_type": "stream",
     "text": [
      "{\"name\": \"John\", \"age\": 30, \"city\": \"New York\"}\n"
     ]
    }
   ],
   "source": [
    "# bir dictionary veri json veriye dönüştürülebilir\n",
    "import json\n",
    "\n",
    "# a Python object (dict):\n",
    "x = {\n",
    "  \"name\": \"John\",\n",
    "  \"age\": 30,\n",
    "  \"city\": \"New York\"\n",
    "}\n",
    "\n",
    "# convert into JSON:\n",
    "y = json.dumps(x)\n",
    "\n",
    "# the result is a JSON string:\n",
    "print(y)"
   ]
  },
  {
   "cell_type": "code",
   "execution_count": 2,
   "id": "4c2e358d-48da-4777-921c-b4509df65378",
   "metadata": {},
   "outputs": [
    {
     "name": "stdout",
     "output_type": "stream",
     "text": [
      "{\"name\": \"John\", \"age\": 30}\n",
      "[\"apple\", \"bananas\"]\n",
      "[\"apple\", \"bananas\"]\n",
      "\"hello\"\n",
      "42\n",
      "31.76\n",
      "true\n",
      "false\n",
      "null\n"
     ]
    }
   ],
   "source": [
    "#\n",
    "print(json.dumps({\"name\": \"John\", \"age\": 30}))\n",
    "print(json.dumps([\"apple\", \"bananas\"]))\n",
    "print(json.dumps((\"apple\", \"bananas\")))\n",
    "print(json.dumps(\"hello\"))\n",
    "print(json.dumps(42))\n",
    "print(json.dumps(31.76))\n",
    "print(json.dumps(True))\n",
    "print(json.dumps(False))\n",
    "print(json.dumps(None))"
   ]
  },
  {
   "cell_type": "code",
   "execution_count": null,
   "id": "af7242d9-8fd2-4b94-bbc3-393d52b08ecb",
   "metadata": {},
   "outputs": [],
   "source": [
    "# RegEx yani regular expressions karakterleri stringlerde aramanızı sağlar"
   ]
  },
  {
   "cell_type": "code",
   "execution_count": 4,
   "id": "8d8d588c-e433-438d-b3cd-8a19ab7143f1",
   "metadata": {},
   "outputs": [
    {
     "name": "stdout",
     "output_type": "stream",
     "text": [
      "<re.Match object; span=(0, 17), match='The rain in Spain'>\n"
     ]
    }
   ],
   "source": [
    "import re\n",
    "# ^ The ile başlayan ve Spain ile biten\n",
    "txt = \"The rain in Spain\"\n",
    "x = re.search(\"^The.*Spain$\", txt)\n",
    "print(x)"
   ]
  },
  {
   "cell_type": "code",
   "execution_count": 5,
   "id": "eb4ea771-7b02-488a-b4d5-dabd523bc539",
   "metadata": {},
   "outputs": [
    {
     "name": "stdout",
     "output_type": "stream",
     "text": [
      "['ai', 'ai']\n"
     ]
    }
   ],
   "source": [
    "import re\n",
    "\n",
    "txt = \"The rain in Spain\"\n",
    "x = re.findall(\"ai\", txt)\n",
    "print(x)"
   ]
  },
  {
   "cell_type": "code",
   "execution_count": 5,
   "id": "3f835a3c-7526-4df3-aca2-14cf2127bc2f",
   "metadata": {},
   "outputs": [
    {
     "name": "stdout",
     "output_type": "stream",
     "text": [
      "['ai', 'ai']\n"
     ]
    }
   ],
   "source": [
    "# bir for döngüsüyle bir liste içerisindeki tüm elemanları\n",
    "# dönerek içerisinde \"e\" bulunan elemanları ekrana\n",
    "#regex ile yazdırınız"
   ]
  },
  {
   "cell_type": "code",
   "execution_count": 8,
   "id": "5cb63f30-2778-4ffc-b90d-8aca1604dfad",
   "metadata": {},
   "outputs": [
    {
     "name": "stdout",
     "output_type": "stream",
     "text": [
      "Collecting camelcase\n",
      "  Downloading camelcase-0.2.tar.gz (1.3 kB)\n",
      "  Preparing metadata (setup.py) ... \u001b[?25ldone\n",
      "\u001b[?25hBuilding wheels for collected packages: camelcase\n",
      "  Building wheel for camelcase (setup.py) ... \u001b[?25ldone\n",
      "\u001b[?25h  Created wheel for camelcase: filename=camelcase-0.2-py3-none-any.whl size=1772 sha256=e464d0dfe640e12ab3729cf7a1b89424e89c5e4d40b6df011efbd7feb4b50ae8\n",
      "  Stored in directory: /Users/muzaffer/Library/Caches/pip/wheels/a7/40/a3/900133dd6de3e10c219659fec4118138db05d778e519c0b2bc\n",
      "Successfully built camelcase\n",
      "Installing collected packages: camelcase\n",
      "Successfully installed camelcase-0.2\n",
      "\n",
      "\u001b[1m[\u001b[0m\u001b[34;49mnotice\u001b[0m\u001b[1;39;49m]\u001b[0m\u001b[39;49m A new release of pip is available: \u001b[0m\u001b[31;49m23.3.1\u001b[0m\u001b[39;49m -> \u001b[0m\u001b[32;49m24.0\u001b[0m\n",
      "\u001b[1m[\u001b[0m\u001b[34;49mnotice\u001b[0m\u001b[1;39;49m]\u001b[0m\u001b[39;49m To update, run: \u001b[0m\u001b[32;49m/opt/homebrew/Cellar/jupyterlab/4.0.9_2/libexec/bin/python -m pip install --upgrade pip\u001b[0m\n",
      "Note: you may need to restart the kernel to use updated packages.\n"
     ]
    }
   ],
   "source": [
    "pip install camelcase\n"
   ]
  },
  {
   "cell_type": "code",
   "execution_count": 9,
   "id": "8e6ad551-fd60-4915-8674-47c0de7bb60f",
   "metadata": {},
   "outputs": [
    {
     "name": "stdout",
     "output_type": "stream",
     "text": [
      "Hello World\n"
     ]
    }
   ],
   "source": [
    "import camelcase\n",
    "\n",
    "c = camelcase.CamelCase()\n",
    "\n",
    "txt = \"hello world\"\n",
    "\n",
    "print(c.hump(txt))"
   ]
  },
  {
   "cell_type": "code",
   "execution_count": null,
   "id": "07a2967b-c8ad-4869-8154-12b2c2ec4aaa",
   "metadata": {},
   "outputs": [],
   "source": [
    "#daha çok paket için: pypi.org"
   ]
  },
  {
   "cell_type": "code",
   "execution_count": null,
   "id": "e05f8f17-d2f7-4331-bb61-c2374cf11546",
   "metadata": {},
   "outputs": [],
   "source": [
    "# Modules\n",
    "# Modüller uygulamanıza eklemek istediğiniz libraryler olarak düşünebiliriz\n",
    "# Modüller .py dosyaları ile oluşturulur"
   ]
  },
  {
   "cell_type": "code",
   "execution_count": 8,
   "id": "b9c5f591-e899-4829-9b81-37ed3b39d5fd",
   "metadata": {},
   "outputs": [
    {
     "name": "stdout",
     "output_type": "stream",
     "text": [
      "Hello, Muzaffer\n"
     ]
    }
   ],
   "source": [
    "import myModule\n",
    "\n",
    "myModule.greeting(\"Muzaffer\")"
   ]
  },
  {
   "cell_type": "code",
   "execution_count": 10,
   "id": "6f3a696f-77a8-45cd-a60c-2407f0af8e8c",
   "metadata": {},
   "outputs": [],
   "source": [
    "import myModule as my "
   ]
  },
  {
   "cell_type": "code",
   "execution_count": 11,
   "id": "3a7c82c7-82c6-4de4-a7bc-1898e8e16d63",
   "metadata": {},
   "outputs": [
    {
     "name": "stdout",
     "output_type": "stream",
     "text": [
      "36\n"
     ]
    }
   ],
   "source": [
    "#myModule içinden veri almak\n",
    "a = my.person1[\"age\"]\n",
    "print(a)"
   ]
  },
  {
   "cell_type": "code",
   "execution_count": null,
   "id": "32417ca6-c8b1-4056-a298-79481e812a03",
   "metadata": {},
   "outputs": [],
   "source": [
    "from myModule import person1\n",
    "\n",
    "print (person1[\"age\"])"
   ]
  }
 ],
 "metadata": {
  "kernelspec": {
   "display_name": "Python 3 (ipykernel)",
   "language": "python",
   "name": "python3"
  },
  "language_info": {
   "codemirror_mode": {
    "name": "ipython",
    "version": 3
   },
   "file_extension": ".py",
   "mimetype": "text/x-python",
   "name": "python",
   "nbconvert_exporter": "python",
   "pygments_lexer": "ipython3",
   "version": "3.12.1"
  }
 },
 "nbformat": 4,
 "nbformat_minor": 5
}

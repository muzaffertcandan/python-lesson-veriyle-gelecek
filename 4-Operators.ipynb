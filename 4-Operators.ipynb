{
 "cells": [
  {
   "cell_type": "code",
   "execution_count": 1,
   "id": "217a4d75-21fd-4942-8acb-173b22e44448",
   "metadata": {},
   "outputs": [],
   "source": [
    "# 4- Matematiksel Operatörler"
   ]
  },
  {
   "cell_type": "code",
   "execution_count": 5,
   "id": "741e7cc3-0e63-4e81-a40a-0ec769f80ba6",
   "metadata": {},
   "outputs": [
    {
     "name": "stdout",
     "output_type": "stream",
     "text": [
      "15\n"
     ]
    }
   ],
   "source": [
    "print(10 + 5)\n"
   ]
  },
  {
   "cell_type": "code",
   "execution_count": 7,
   "id": "d6716ede-b385-49e1-a95b-5d3272b625ab",
   "metadata": {},
   "outputs": [
    {
     "name": "stdout",
     "output_type": "stream",
     "text": [
      "103999895358291891799\n"
     ]
    }
   ],
   "source": [
    "x = 3 + 5123456780987654321+23+4567+8908765432\n",
    "y = 55\n",
    "\n",
    "print(x + y)"
   ]
  },
  {
   "cell_type": "code",
   "execution_count": 9,
   "id": "f597d95c-e586-4c96-ac06-d14482e8be2c",
   "metadata": {},
   "outputs": [],
   "source": [
    "x = 4\n",
    "y = 8"
   ]
  },
  {
   "cell_type": "code",
   "execution_count": 10,
   "id": "41cd9922-768e-473e-98c6-4fb61d979f0c",
   "metadata": {},
   "outputs": [
    {
     "name": "stdout",
     "output_type": "stream",
     "text": [
      "32\n"
     ]
    }
   ],
   "source": [
    "print (x * y)"
   ]
  },
  {
   "cell_type": "code",
   "execution_count": 14,
   "id": "3d85ecef-36b8-444f-8473-c5aebe8f4269",
   "metadata": {},
   "outputs": [
    {
     "name": "stdout",
     "output_type": "stream",
     "text": [
      "z ilk değer 25\n",
      "z son değer 4.0\n"
     ]
    }
   ],
   "source": [
    "# Çıkarma operatörü  -\n",
    "# Bölme operatörü   /\n",
    "x = 100\n",
    "y = 75\n",
    "z = x - y\n",
    "print(\"z ilk değer\",z)\n",
    "z = x / z\n",
    "print(\"z son değer\",z)"
   ]
  },
  {
   "cell_type": "code",
   "execution_count": 20,
   "id": "036a3744-5d6b-4260-84ae-0baca4a5dc5c",
   "metadata": {},
   "outputs": [
    {
     "name": "stdin",
     "output_type": "stream",
     "text": [
      "x değeri giriniz: 5\n",
      "y değeri giriniz: 5.5\n"
     ]
    },
    {
     "ename": "ValueError",
     "evalue": "invalid literal for int() with base 10: '5.5'",
     "output_type": "error",
     "traceback": [
      "\u001b[0;31m---------------------------------------------------------------------------\u001b[0m",
      "\u001b[0;31mValueError\u001b[0m                                Traceback (most recent call last)",
      "Cell \u001b[0;32mIn[20], line 4\u001b[0m\n\u001b[1;32m      1\u001b[0m \u001b[38;5;66;03m# Alıştırma: x ve y değerlerini kullanıcıdan alınız ve bu değerlerin ortalamalarını bularak ekrana yazdırınız\u001b[39;00m\n\u001b[1;32m      2\u001b[0m \u001b[38;5;66;03m# (Kullanıcının 0 dan büyük değerler girdiği varsayılmıştır)\u001b[39;00m\n\u001b[1;32m      3\u001b[0m x \u001b[38;5;241m=\u001b[39m \u001b[38;5;28mint\u001b[39m(\u001b[38;5;28minput\u001b[39m(\u001b[38;5;124m\"\u001b[39m\u001b[38;5;124mx değeri giriniz:\u001b[39m\u001b[38;5;124m\"\u001b[39m))\n\u001b[0;32m----> 4\u001b[0m y \u001b[38;5;241m=\u001b[39m \u001b[38;5;28;43mint\u001b[39;49m\u001b[43m(\u001b[49m\u001b[38;5;28;43minput\u001b[39;49m\u001b[43m(\u001b[49m\u001b[38;5;124;43m\"\u001b[39;49m\u001b[38;5;124;43my değeri giriniz:\u001b[39;49m\u001b[38;5;124;43m\"\u001b[39;49m\u001b[43m)\u001b[49m\u001b[43m)\u001b[49m\n\u001b[1;32m      5\u001b[0m ortalama \u001b[38;5;241m=\u001b[39m (x\u001b[38;5;241m+\u001b[39my) \u001b[38;5;241m/\u001b[39m \u001b[38;5;241m2\u001b[39m\n\u001b[1;32m      6\u001b[0m \u001b[38;5;28mprint\u001b[39m(ortalama)\n",
      "\u001b[0;31mValueError\u001b[0m: invalid literal for int() with base 10: '5.5'"
     ]
    }
   ],
   "source": [
    "# Alıştırma: x ve y değerlerini kullanıcıdan alınız ve bu değerlerin ortalamalarını bularak ekrana yazdırınız\n",
    "# (Kullanıcının 0 dan büyük değerler girdiği varsayılmıştır)\n",
    "x = float(input(\"x değeri giriniz:\"))\n",
    "y = float(input(\"y değeri giriniz:\"))\n",
    "ortalama = (x+y) / 2\n",
    "print(ortalama)"
   ]
  },
  {
   "cell_type": "code",
   "execution_count": 23,
   "id": "7d22ef7d-4ec0-4418-8ac6-5ef19759ea2b",
   "metadata": {},
   "outputs": [
    {
     "name": "stdout",
     "output_type": "stream",
     "text": [
      "1\n"
     ]
    }
   ],
   "source": [
    "print(13%3)"
   ]
  },
  {
   "cell_type": "code",
   "execution_count": 28,
   "id": "4771a971-a426-429d-bd5a-f41bfabd6a4c",
   "metadata": {},
   "outputs": [
    {
     "name": "stdout",
     "output_type": "stream",
     "text": [
      "2\n",
      "2.3333333333333335\n"
     ]
    }
   ],
   "source": [
    "print(7//3)\n",
    "print(7/3)"
   ]
  },
  {
   "cell_type": "code",
   "execution_count": 21,
   "id": "7c4dc44c-dada-4e28-ba46-921cc597bdd0",
   "metadata": {},
   "outputs": [
    {
     "name": "stdout",
     "output_type": "stream",
     "text": [
      "64\n"
     ]
    }
   ],
   "source": [
    "print(4**3)"
   ]
  },
  {
   "cell_type": "code",
   "execution_count": 30,
   "id": "7124dd9c-bf02-47ef-88b1-2532433e1484",
   "metadata": {},
   "outputs": [
    {
     "name": "stdout",
     "output_type": "stream",
     "text": [
      "1\n"
     ]
    }
   ],
   "source": [
    "#X = 5 sayısının üssünü 2 alınız sonrasında bu sayıyı 3 e bölerek kalanını bulunuz\n",
    "\n",
    "#Lütfen +=    %= gibi operatörleri kullanınız\n",
    "x = 5\n",
    "x **= 2\n",
    "x %= 3\n",
    "print (x)"
   ]
  },
  {
   "cell_type": "code",
   "execution_count": 31,
   "id": "2bb0400a-9ca5-4666-b78b-a8f04bfe74a6",
   "metadata": {},
   "outputs": [
    {
     "name": "stdout",
     "output_type": "stream",
     "text": [
      "False\n"
     ]
    }
   ],
   "source": [
    "x = 5\n",
    "y = 3\n",
    "\n",
    "print(x == y)"
   ]
  },
  {
   "cell_type": "code",
   "execution_count": 44,
   "id": "ff6e0a64-1109-4c70-b525-ec93f980b542",
   "metadata": {},
   "outputs": [],
   "source": [
    "a = 139\n",
    "b = -144\n",
    "c = \"-144\"\n",
    "\n",
    "#A değişkeni B değişkeninden büyük veya eşit midir ?\n",
    "\n",
    "#B değişkeni C değişkeninden Büyük veya eşit midir?\n",
    "\n",
    "#Kod ifadelerini yazarak tanımlayınız"
   ]
  },
  {
   "cell_type": "code",
   "execution_count": 38,
   "id": "a736d7c1-1254-4901-acb5-02f8d401ed72",
   "metadata": {},
   "outputs": [
    {
     "name": "stdout",
     "output_type": "stream",
     "text": [
      "False\n"
     ]
    }
   ],
   "source": [
    "\n",
    "x = \"Ahmet\"\n",
    "y = \"ahmet\"\n",
    "print (x==y)\n"
   ]
  },
  {
   "cell_type": "code",
   "execution_count": 35,
   "id": "637c3320-0410-40f9-a5ff-c3cfb07abce3",
   "metadata": {
    "scrolled": true
   },
   "outputs": [
    {
     "name": "stdout",
     "output_type": "stream",
     "text": [
      "eşittir:  False\n",
      "eşit değildir:  True\n",
      "False\n"
     ]
    }
   ],
   "source": [
    "x = 5\n",
    "y = 3\n",
    "z= 3     # integer 3 değeri ile string olan \"3\" değeri birbirine eşit değildir\n",
    "print(\"eşittir: \",x == y)\n",
    "print(\"eşit değildir: \",x != y)\n",
    "print(y == z)"
   ]
  },
  {
   "cell_type": "code",
   "execution_count": null,
   "id": "3dd2eef0-c28d-4452-89f2-4b2a01e35870",
   "metadata": {},
   "outputs": [],
   "source": [
    "# Kütüphane İmport etme\n",
    "import math\n"
   ]
  },
  {
   "cell_type": "code",
   "execution_count": 45,
   "id": "c13e74dc-06fb-43bc-b884-7faa3714b542",
   "metadata": {},
   "outputs": [
    {
     "name": "stdout",
     "output_type": "stream",
     "text": [
      "8.0\n"
     ]
    }
   ],
   "source": [
    "x = math.sqrt(64)\n",
    "\n",
    "print(x)"
   ]
  },
  {
   "cell_type": "code",
   "execution_count": 46,
   "id": "1ce0f65e-0f97-4743-93ba-1ef4b3064939",
   "metadata": {},
   "outputs": [
    {
     "name": "stdout",
     "output_type": "stream",
     "text": [
      "3.141592653589793\n"
     ]
    }
   ],
   "source": [
    "x = math.pi\n",
    "\n",
    "print(x)"
   ]
  },
  {
   "cell_type": "code",
   "execution_count": null,
   "id": "0dab1d2c-d4e3-4a72-b913-04f6e791cd15",
   "metadata": {},
   "outputs": [],
   "source": [
    "\n"
   ]
  },
  {
   "cell_type": "code",
   "execution_count": 52,
   "id": "0d76d76b-093a-4467-9e2d-af309770f132",
   "metadata": {},
   "outputs": [
    {
     "name": "stdout",
     "output_type": "stream",
     "text": [
      "Collecting pandas\n",
      "  Downloading pandas-2.2.0-cp312-cp312-macosx_11_0_arm64.whl.metadata (19 kB)\n",
      "Collecting numpy<2,>=1.26.0 (from pandas)\n",
      "  Downloading numpy-1.26.4-cp312-cp312-macosx_11_0_arm64.whl.metadata (61 kB)\n",
      "\u001b[2K     \u001b[90m━━━━━━━━━━━━━━━━━━━━━━━━━━━━━━━━━━━━━━━━\u001b[0m \u001b[32m61.1/61.1 kB\u001b[0m \u001b[31m1.0 MB/s\u001b[0m eta \u001b[36m0:00:00\u001b[0ma \u001b[36m0:00:01\u001b[0m\n",
      "\u001b[?25hRequirement already satisfied: python-dateutil>=2.8.2 in /opt/homebrew/opt/python-dateutil/lib/python3.12/site-packages (from pandas) (2.8.2)\n",
      "Collecting pytz>=2020.1 (from pandas)\n",
      "  Downloading pytz-2024.1-py2.py3-none-any.whl.metadata (22 kB)\n",
      "Collecting tzdata>=2022.7 (from pandas)\n",
      "  Downloading tzdata-2024.1-py2.py3-none-any.whl.metadata (1.4 kB)\n",
      "Requirement already satisfied: six>=1.5 in /opt/homebrew/opt/six/lib/python3.12/site-packages (from python-dateutil>=2.8.2->pandas) (1.16.0)\n",
      "Downloading pandas-2.2.0-cp312-cp312-macosx_11_0_arm64.whl (11.7 MB)\n",
      "\u001b[2K   \u001b[90m━━━━━━━━━━━━━━━━━━━━━━━━━━━━━━━━━━━━━━━━\u001b[0m \u001b[32m11.7/11.7 MB\u001b[0m \u001b[31m2.0 MB/s\u001b[0m eta \u001b[36m0:00:00\u001b[0m00:01\u001b[0m00:01\u001b[0m\n",
      "\u001b[?25hDownloading numpy-1.26.4-cp312-cp312-macosx_11_0_arm64.whl (13.7 MB)\n",
      "\u001b[2K   \u001b[90m━━━━━━━━━━━━━━━━━━━━━━━━━━━━━━━━━━━━━━━━\u001b[0m \u001b[32m13.7/13.7 MB\u001b[0m \u001b[31m1.3 MB/s\u001b[0m eta \u001b[36m0:00:00\u001b[0m00:01\u001b[0m00:01\u001b[0mm\n",
      "\u001b[?25hDownloading pytz-2024.1-py2.py3-none-any.whl (505 kB)\n",
      "\u001b[2K   \u001b[90m━━━━━━━━━━━━━━━━━━━━━━━━━━━━━━━━━━━━━━━━\u001b[0m \u001b[32m505.5/505.5 kB\u001b[0m \u001b[31m1.2 MB/s\u001b[0m eta \u001b[36m0:00:00\u001b[0ma \u001b[36m0:00:01\u001b[0m\n",
      "\u001b[?25hDownloading tzdata-2024.1-py2.py3-none-any.whl (345 kB)\n",
      "\u001b[2K   \u001b[90m━━━━━━━━━━━━━━━━━━━━━━━━━━━━━━━━━━━━━━━━\u001b[0m \u001b[32m345.4/345.4 kB\u001b[0m \u001b[31m1.3 MB/s\u001b[0m eta \u001b[36m0:00:00\u001b[0ma \u001b[36m0:00:01\u001b[0m\n",
      "\u001b[?25hInstalling collected packages: pytz, tzdata, numpy, pandas\n",
      "Successfully installed numpy-1.26.4 pandas-2.2.0 pytz-2024.1 tzdata-2024.1\n",
      "\n",
      "\u001b[1m[\u001b[0m\u001b[34;49mnotice\u001b[0m\u001b[1;39;49m]\u001b[0m\u001b[39;49m A new release of pip is available: \u001b[0m\u001b[31;49m23.3.1\u001b[0m\u001b[39;49m -> \u001b[0m\u001b[32;49m24.0\u001b[0m\n",
      "\u001b[1m[\u001b[0m\u001b[34;49mnotice\u001b[0m\u001b[1;39;49m]\u001b[0m\u001b[39;49m To update, run: \u001b[0m\u001b[32;49m/opt/homebrew/Cellar/jupyterlab/4.0.9_2/libexec/bin/python -m pip install --upgrade pip\u001b[0m\n",
      "Note: you may need to restart the kernel to use updated packages.\n"
     ]
    }
   ],
   "source": [
    "pip install pandas"
   ]
  },
  {
   "cell_type": "code",
   "execution_count": 54,
   "id": "33c30874-af6e-4716-9736-352ef45dfcb0",
   "metadata": {},
   "outputs": [],
   "source": [
    "import pandas as pd"
   ]
  },
  {
   "cell_type": "code",
   "execution_count": 56,
   "id": "9b282f99-af4a-45f9-b7d1-4358bb170d31",
   "metadata": {},
   "outputs": [
    {
     "name": "stdout",
     "output_type": "stream",
     "text": [
      "    cars  passings\n",
      "0    BMW         3\n",
      "1  Volvo         7\n",
      "2   Ford         2\n"
     ]
    }
   ],
   "source": [
    "mydataset = {\n",
    "  'cars': [\"BMW\", \"Volvo\", \"Ford\"],\n",
    "  'passings': [3, 7, 2]\n",
    "}\n",
    "\n",
    "myvar = pd.DataFrame(mydataset)\n",
    "\n",
    "print(myvar)"
   ]
  },
  {
   "cell_type": "code",
   "execution_count": 48,
   "id": "8a18c3fd-0d00-4fae-a851-e3a06c344272",
   "metadata": {},
   "outputs": [
    {
     "name": "stdout",
     "output_type": "stream",
     "text": [
      "2\n",
      "1\n"
     ]
    }
   ],
   "source": [
    "x = math.ceil(1.4)\n",
    "y = math.floor(1.4)\n",
    "\n",
    "print(x) # returns 2\n",
    "print(y) # returns 1"
   ]
  },
  {
   "cell_type": "code",
   "execution_count": 57,
   "id": "cc14a6c8-cd84-402e-81d4-87eecdbd3921",
   "metadata": {},
   "outputs": [
    {
     "name": "stdout",
     "output_type": "stream",
     "text": [
      "2024-02-22 14:56:10.434102\n"
     ]
    }
   ],
   "source": [
    "# Python ile datetimelar ile çalışmak\n",
    "import datetime\n",
    "\n",
    "x = datetime.datetime.now()\n",
    "print(x)"
   ]
  },
  {
   "cell_type": "code",
   "execution_count": 3,
   "id": "07665221-793d-4c47-b74d-320edd450890",
   "metadata": {},
   "outputs": [
    {
     "name": "stdout",
     "output_type": "stream",
     "text": [
      "2024\n",
      "Friday\n"
     ]
    }
   ],
   "source": [
    "import datetime\n",
    "\n",
    "x = datetime.datetime.now()\n",
    "\n",
    "print(x.year)\n",
    "print(x.strftime(\"%A\"))"
   ]
  },
  {
   "cell_type": "code",
   "execution_count": 4,
   "id": "2e20c44f-4a1e-4685-b1b8-907fcc3ac81e",
   "metadata": {},
   "outputs": [
    {
     "name": "stdin",
     "output_type": "stream",
     "text": [
      "doğduğunuz yılı yazınız: örn:1999  5\n"
     ]
    },
    {
     "name": "stdout",
     "output_type": "stream",
     "text": [
      "2019\n"
     ]
    }
   ],
   "source": [
    "# ALIŞTIRMA:\n",
    "# Datetime kütüphanesini kullanarak bulunduğumuz yılı bulunuz\n",
    "# kullanıcının hangi yıl doğduğu verisini alınız\n",
    "# kullanıcının kaç yaşında olduğunu ekrana yazdırınız\n",
    "x = datetime.datetime.now()\n",
    "now = x.year\n",
    "user_date = int(input(\"doğduğunuz yılı yazınız: örn:1999 \"))\n",
    "user_age = (now - user_date)\n",
    "print (user_age)"
   ]
  },
  {
   "cell_type": "code",
   "execution_count": null,
   "id": "fa1e8760-e4d6-4e63-9bf0-1c34dfab03f6",
   "metadata": {},
   "outputs": [],
   "source": [
    "#ALIŞTIRMA:\n",
    "# Bir iş yerinde 8 saat çalışılmaktadır\n",
    "# İşe şuan başlamış bir kişi saat kaçta işi bırakacaktır (18.20) gibi"
   ]
  },
  {
   "cell_type": "code",
   "execution_count": 23,
   "id": "705b7a41-200d-4625-bbda-45fe36e6e87b",
   "metadata": {},
   "outputs": [
    {
     "name": "stdout",
     "output_type": "stream",
     "text": [
      "çalışma bitiş saati: 10:34\n"
     ]
    }
   ],
   "source": []
  },
  {
   "cell_type": "code",
   "execution_count": null,
   "id": "5cf8f649-9ea8-4872-837b-dacc1800cf24",
   "metadata": {},
   "outputs": [],
   "source": []
  }
 ],
 "metadata": {
  "kernelspec": {
   "display_name": "Python 3 (ipykernel)",
   "language": "python",
   "name": "python3"
  },
  "language_info": {
   "codemirror_mode": {
    "name": "ipython",
    "version": 3
   },
   "file_extension": ".py",
   "mimetype": "text/x-python",
   "name": "python",
   "nbconvert_exporter": "python",
   "pygments_lexer": "ipython3",
   "version": "3.12.1"
  }
 },
 "nbformat": 4,
 "nbformat_minor": 5
}

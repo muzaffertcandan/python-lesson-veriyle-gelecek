{
 "cells": [
  {
   "cell_type": "code",
   "execution_count": null,
   "id": "19cf60a4-8a1f-471c-9bc4-170c93179fc9",
   "metadata": {},
   "outputs": [],
   "source": [
    "# if else\n",
    "\n",
    "a = 200\n",
    "b = 33\n",
    "if b > a:\n",
    "  print(\"b büyüktür a dan\")\n",
    "elif a == b:\n",
    "  print(\"a ve b eşittir\")\n",
    "else:\n",
    "  print(\"a büyüktür b den\")"
   ]
  },
  {
   "cell_type": "code",
   "execution_count": null,
   "id": "a16de710-52b0-4225-988f-c44df2a9edd8",
   "metadata": {},
   "outputs": [],
   "source": [
    "a = 200\n",
    "b = 33\n",
    "c = 500\n",
    "if a > b or a > c:\n",
    "  print(\"2 durumdan en az 1 i doğrudur\")\n",
    "else:\n",
    "    print(\"2 durum da yanlıştır\")"
   ]
  },
  {
   "cell_type": "code",
   "execution_count": null,
   "id": "e9fdbde1-a35a-4a5d-b0bb-8f0ea6462bff",
   "metadata": {},
   "outputs": [],
   "source": [
    "# While\n",
    "i = 1\n",
    "while i < 6:\n",
    "  print(i)\n",
    "  i += 1"
   ]
  },
  {
   "cell_type": "code",
   "execution_count": null,
   "id": "a599f1fe-599b-4478-ba17-9f77f4ea1d84",
   "metadata": {},
   "outputs": [],
   "source": [
    "# for loops\n",
    "fruits = [\"elma\", \"armut\", \"kivi\"]\n",
    "for x in fruits:\n",
    "  print(x)"
   ]
  },
  {
   "cell_type": "code",
   "execution_count": null,
   "id": "3ceba2fc-2e61-4247-927b-7cc6323cc07f",
   "metadata": {},
   "outputs": [],
   "source": [
    "fruits = [\"elma\", \"armut\", \"kivi\"]\n",
    "for x in fruits:\n",
    "  print(x)\n",
    "  if x == \"armut\":\n",
    "    break"
   ]
  },
  {
   "cell_type": "code",
   "execution_count": null,
   "id": "96b1492e-2564-4f61-8ee3-5a2376329d20",
   "metadata": {},
   "outputs": [],
   "source": [
    "my_list = range(10)\n",
    "for i in my_list:\n",
    "    print(i)"
   ]
  },
  {
   "cell_type": "code",
   "execution_count": 9,
   "id": "f80bafb8-8a58-49f0-a5c2-216bff822c77",
   "metadata": {},
   "outputs": [],
   "source": [
    "# ALIŞTIRMA:\n",
    "# random kütüphanesi ile 1 ile 50 arasında 5 adet sayı oluşturun ve bir listeye kaydedin\n",
    "# Listeye eklediğiniz elemanları ekrana tek tek yazdırınız\n",
    "\n"
   ]
  },
  {
   "cell_type": "code",
   "execution_count": null,
   "id": "8a0546d7-1af2-46e5-a03d-1d3b30c1cecd",
   "metadata": {},
   "outputs": [],
   "source": []
  }
 ],
 "metadata": {
  "kernelspec": {
   "display_name": "Python 3 (ipykernel)",
   "language": "python",
   "name": "python3"
  },
  "language_info": {
   "codemirror_mode": {
    "name": "ipython",
    "version": 3
   },
   "file_extension": ".py",
   "mimetype": "text/x-python",
   "name": "python",
   "nbconvert_exporter": "python",
   "pygments_lexer": "ipython3",
   "version": "3.12.1"
  }
 },
 "nbformat": 4,
 "nbformat_minor": 5
}

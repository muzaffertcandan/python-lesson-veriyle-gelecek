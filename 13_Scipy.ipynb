{
 "cells": [
  {
   "cell_type": "code",
   "execution_count": null,
   "id": "bcf729cf-a0c5-4e54-afd4-9240b3cb3f46",
   "metadata": {},
   "outputs": [],
   "source": [
    "# scipy, numpy kullanarak bilimsel hesaplamalar yapan bir kütüphanedir\n",
    "# SciPy , Scientific Python anlamına gelir\n",
    "# içerisinde optimizasyon fonksiyonları içerir\n",
    "# ücretsizdir\n"
   ]
  },
  {
   "cell_type": "code",
   "execution_count": null,
   "id": "a6326049-4bb1-4c69-b309-fd6911bc2e76",
   "metadata": {},
   "outputs": [],
   "source": [
    "\"\"\"\n",
    "Neden scipy kullanmalıyız?\n",
    "SciPy aslında numpy kullanır peki neden numpy kullanmıyoruz ?\n",
    "scipy optimize ve numpy kullanan hazır fonksiyonları bulunur\n",
    "ve bunlar sıklıkla Veri biliminde kullanılır\n",
    "\n",
    "scipy ağırlıklı olarak pythonla yazılmıştır ancak ama ara sıra C kullanılmıştır.\n",
    "scipy kütüphanesinin tamamı: https://github.com/scipy/scipy\n",
    "\"\"\""
   ]
  },
  {
   "cell_type": "code",
   "execution_count": null,
   "id": "c32c21f1-2721-4270-8c01-c13738740786",
   "metadata": {},
   "outputs": [],
   "source": [
    "pip install scipy"
   ]
  },
  {
   "cell_type": "code",
   "execution_count": 2,
   "id": "2d16f1d0-122e-4e4f-98db-9b66f7588d58",
   "metadata": {},
   "outputs": [
    {
     "name": "stdout",
     "output_type": "stream",
     "text": [
      "0.001\n"
     ]
    }
   ],
   "source": [
    "# scipy içerisinden istenilen modüller import edilebilir\n",
    "from scipy import constants\n",
    "print(constants.liter)\n"
   ]
  },
  {
   "cell_type": "code",
   "execution_count": null,
   "id": "9240a5d9-b856-49fa-a58b-b646e33920ae",
   "metadata": {},
   "outputs": [],
   "source": [
    "# burada 1 litre 1 metre küpün 0.001 kadarı yer kaplar"
   ]
  },
  {
   "cell_type": "code",
   "execution_count": null,
   "id": "84e23b92-fbfb-44ac-9bfb-12aab73514a6",
   "metadata": {},
   "outputs": [],
   "source": [
    "import scipy\n",
    "\n",
    "print(scipy.__version__)\n"
   ]
  },
  {
   "cell_type": "code",
   "execution_count": null,
   "id": "aeff3576-e430-438a-a43a-34f6545d61e9",
   "metadata": {},
   "outputs": [],
   "source": [
    "# Sabit değerler\n",
    "from scipy import constants\n",
    "\n",
    "print(constants.pi)"
   ]
  },
  {
   "cell_type": "code",
   "execution_count": null,
   "id": "f028e8ce-b243-46de-b62a-64b2733cab03",
   "metadata": {},
   "outputs": [],
   "source": [
    "print(dir(constants))\n",
    "1"
   ]
  },
  {
   "cell_type": "code",
   "execution_count": null,
   "id": "006d6efe-c096-487c-8c85-b389544799c2",
   "metadata": {},
   "outputs": [],
   "source": [
    "print(constants.degree_Fahrenheit)"
   ]
  },
  {
   "cell_type": "code",
   "execution_count": null,
   "id": "68882145-9b44-4e97-834f-b8cf51d1a9a2",
   "metadata": {},
   "outputs": [],
   "source": [
    "# alıştırma: day constantı ne işe yarar, verdiği çıktı neyi ifade eder\n",
    "# 1 constant seçerek ekrana yazdırınız\n",
    "print(constants.day)"
   ]
  },
  {
   "cell_type": "code",
   "execution_count": null,
   "id": "a8396862-b98b-4c3e-a9c0-5eb60d49ac84",
   "metadata": {},
   "outputs": [],
   "source": [
    "#Metric (SI) Prefixes:\n",
    "# istenilen veriyi metre biriminden ifade eder örn: centi bize 0.01 değeri döndürür\n",
    "from scipy import constants\n",
    "\n",
    "print(constants.yotta)    #1e+24\n",
    "print(constants.zetta)    #1e+21\n",
    "print(constants.exa)      #1e+18\n",
    "print(constants.peta)     #1000000000000000.0\n",
    "print(constants.tera)     #1000000000000.0\n",
    "print(constants.giga)     #1000000000.0\n",
    "print(constants.mega)     #1000000.0\n",
    "print(constants.kilo)     #1000.0\n",
    "print(constants.hecto)    #100.0\n",
    "print(constants.deka)     #10.0\n",
    "print(constants.deci)     #0.1\n",
    "print(constants.centi)    #0.01\n",
    "print(constants.milli)    #0.001\n",
    "print(constants.micro)    #1e-06\n",
    "print(constants.nano)     #1e-09\n",
    "print(constants.pico)     #1e-12\n",
    "print(constants.femto)    #1e-15\n",
    "print(constants.atto)     #1e-18\n",
    "print(constants.zepto)    #1e-21"
   ]
  },
  {
   "cell_type": "code",
   "execution_count": null,
   "id": "6f5c0a1b-4249-4930-a742-785d9f2a0ea8",
   "metadata": {},
   "outputs": [],
   "source": [
    "# Binary Prefixes:\n",
    "# verilen değeri byte olarak döndürür\n",
    "# örn: 1 kilobayt 1024 byte dan oluşur 1 kibi bize 1024 değerini verir\n",
    "# 1 megabyte = 1024 kb\n",
    "\n",
    "print(constants.kibi)    #1024\n",
    "print(constants.mebi)    #1048576\n",
    "print(constants.gibi)    #1073741824\n",
    "print(constants.tebi)    #1099511627776\n",
    "print(constants.pebi)    #1125899906842624\n",
    "print(constants.exbi)    #1152921504606846976\n",
    "print(constants.zebi)    #1180591620717411303424\n",
    "print(constants.yobi)    #1208925819614629174706176"
   ]
  },
  {
   "cell_type": "code",
   "execution_count": 3,
   "id": "22c058cc-7627-497a-a43a-497da0af242e",
   "metadata": {},
   "outputs": [
    {
     "name": "stdout",
     "output_type": "stream",
     "text": [
      "0.001\n",
      "1000.0\n",
      "6.479891e-05\n",
      "0.45359236999999997\n",
      "0.45359236999999997\n",
      "0.028349523124999998\n",
      "0.028349523124999998\n",
      "6.3502931799999995\n",
      "1016.0469088\n",
      "907.1847399999999\n",
      "0.031103476799999998\n",
      "0.37324172159999996\n",
      "0.0002\n",
      "1.6605390666e-27\n",
      "1.6605390666e-27\n",
      "1.6605390666e-27\n"
     ]
    }
   ],
   "source": [
    "# Mass (kütle)\n",
    "# verilen değeri kilogram cinsinden döndürür\n",
    "# 1 kg 1000 gramdır ve .gram bize 0.001 değerini verir\n",
    "\n",
    "print(constants.gram)        #0.001\n",
    "print(constants.metric_ton)  #1000.0\n",
    "print(constants.grain)       #6.479891e-05\n",
    "print(constants.lb)          #0.45359236999999997\n",
    "print(constants.pound)       #0.45359236999999997\n",
    "print(constants.oz)          #0.028349523124999998\n",
    "print(constants.ounce)       #0.028349523124999998\n",
    "print(constants.stone)       #6.3502931799999995\n",
    "print(constants.long_ton)    #1016.0469088\n",
    "print(constants.short_ton)   #907.1847399999999\n",
    "print(constants.troy_ounce)  #0.031103476799999998\n",
    "print(constants.troy_pound)  #0.37324172159999996\n",
    "print(constants.carat)       #0.0002\n",
    "print(constants.atomic_mass) #1.66053904e-27\n",
    "print(constants.m_u)         #1.66053904e-27\n",
    "print(constants.u)           #1.66053904e-27"
   ]
  },
  {
   "cell_type": "code",
   "execution_count": null,
   "id": "340063fc-ce72-4dcd-acda-4dd3e9b6ad2e",
   "metadata": {},
   "outputs": [],
   "source": [
    "from scipy import constants\n",
    "# verilen birimi radyan şeklinde ekran yazdırır\n",
    "# dairenin çevresi 2 pi radyandır yani 360 dereceye eşittir\n",
    "print(constants.degree)     #0.017453292519943295\n",
    "print(constants.arcmin)     #0.0002908882086657216\n",
    "print(constants.arcminute)  #0.0002908882086657216\n",
    "print(constants.arcsec)     #4.84813681109536e-06\n",
    "print(constants.arcsecond)  #4.84813681109536e-06"
   ]
  },
  {
   "cell_type": "code",
   "execution_count": null,
   "id": "8e4d5301-320d-4a5c-9cbd-feff557abea0",
   "metadata": {},
   "outputs": [],
   "source": [
    "#Time\n",
    "# verilen birimi saniye cinsinden yazdırır\n",
    "# örn: .hour bize 3600 değerini döndürür\n",
    "\n",
    "print(constants.minute)      #60.0\n",
    "print(constants.hour)        #3600.0\n",
    "print(constants.day)         #86400.0\n",
    "print(constants.week)        #604800.0\n",
    "print(constants.year)        #31536000.0\n",
    "print(constants.Julian_year) #31557600.0"
   ]
  },
  {
   "cell_type": "code",
   "execution_count": null,
   "id": "1e6dee0f-689f-46c3-aa37-4d1e3970b17d",
   "metadata": {},
   "outputs": [],
   "source": [
    "# Length\n",
    "# metre cinsinden verir\n",
    "\n",
    "print(constants.inch)              #0.0254\n",
    "print(constants.foot)              #0.30479999999999996\n",
    "print(constants.yard)              #0.9143999999999999\n",
    "print(constants.mile)              #1609.3439999999998\n",
    "print(constants.mil)               #2.5399999999999997e-05\n",
    "print(constants.pt)                #0.00035277777777777776\n",
    "print(constants.point)             #0.00035277777777777776\n",
    "print(constants.survey_foot)       #0.3048006096012192\n",
    "print(constants.survey_mile)       #1609.3472186944373\n",
    "print(constants.nautical_mile)     #1852.0\n",
    "print(constants.fermi)             #1e-15\n",
    "print(constants.angstrom)          #1e-10\n",
    "print(constants.micron)            #1e-06\n",
    "print(constants.au)                #149597870691.0\n",
    "print(constants.astronomical_unit) #149597870691.0\n",
    "print(constants.light_year)        #9460730472580800.0\n",
    "print(constants.parsec)            #3.0856775813057292e+16"
   ]
  },
  {
   "cell_type": "code",
   "execution_count": null,
   "id": "5e3fb8f2-3441-4772-8e09-f7bc6d76777f",
   "metadata": {},
   "outputs": [],
   "source": [
    "# Pressure\n",
    "# basınç paskal cinsinden verilir\n",
    "print(constants.atm)         #101325.0\n",
    "print(constants.atmosphere)  #101325.0\n",
    "print(constants.bar)         #100000.0\n",
    "print(constants.torr)        #133.32236842105263\n",
    "print(constants.mmHg)        #133.32236842105263\n",
    "print(constants.psi)         #6894.757293168361"
   ]
  },
  {
   "cell_type": "code",
   "execution_count": null,
   "id": "054128f9-4789-4373-a173-b0bfb4bf2e5b",
   "metadata": {},
   "outputs": [],
   "source": [
    "# Area\n",
    "# metre kare cinsinden verir\n",
    "print(constants.hectare) #10000.0\n",
    "print(constants.acre)    #4046.8564223999992"
   ]
  },
  {
   "cell_type": "code",
   "execution_count": null,
   "id": "279db5e0-07a3-4eff-b1b8-b3ec8a898e8d",
   "metadata": {},
   "outputs": [],
   "source": [
    "# Alıştırma: Alanı 14 bin 268.5 metre kare olan bir tarlanın kaç hektar olduğunu scipy kütüphanesi kullanarak hesaplayın"
   ]
  },
  {
   "cell_type": "code",
   "execution_count": null,
   "id": "5f6f58b2-e0ac-4d78-8e2a-33d22d8e5b18",
   "metadata": {},
   "outputs": [],
   "source": [
    "# Volume (hacim)\n",
    "# metre küp cinsinden verir\n",
    "print(constants.liter)            #0.001\n",
    "print(constants.litre)            #0.001\n",
    "print(constants.gallon)           #0.0037854117839999997\n",
    "print(constants.gallon_US)        #0.0037854117839999997\n",
    "print(constants.gallon_imp)       #0.00454609\n",
    "print(constants.fluid_ounce)      #2.9573529562499998e-05\n",
    "print(constants.fluid_ounce_US)   #2.9573529562499998e-05\n",
    "print(constants.fluid_ounce_imp)  #2.84130625e-05\n",
    "print(constants.barrel)           #0.15898729492799998\n",
    "print(constants.bbl)              #0.15898729492799998"
   ]
  },
  {
   "cell_type": "code",
   "execution_count": null,
   "id": "e4544f3d-20fd-458e-8f1d-838d9dda58be",
   "metadata": {},
   "outputs": [],
   "source": [
    "# Speed\n",
    "# metre / saniye cinsinden verir\n",
    "print(constants.kmh)            #0.2777777777777778\n",
    "print(constants.mph)            #0.44703999999999994\n",
    "print(constants.mach)           #340.5\n",
    "print(constants.speed_of_sound) #340.5\n",
    "print(constants.knot)           #0.5144444444444445"
   ]
  },
  {
   "cell_type": "code",
   "execution_count": null,
   "id": "6b4d60ba-940c-4f88-8c15-71ca1b33250c",
   "metadata": {},
   "outputs": [],
   "source": [
    "# Alıştırma: hızı 60 km / saat olan bir araç kaç metre / saniye hız ile gider"
   ]
  },
  {
   "cell_type": "code",
   "execution_count": null,
   "id": "50c6fc14-f60f-4c1a-bcbb-60a4ba7eae1a",
   "metadata": {},
   "outputs": [],
   "source": [
    "# Temprature (sıcaklık)\n",
    "# kelvin cinsinden verir\n",
    "print(constants.zero_Celsius)      #273.15\n",
    "print(constants.degree_Fahrenheit) #0.5555555555555556"
   ]
  },
  {
   "cell_type": "code",
   "execution_count": null,
   "id": "db5b1c1d-5e9c-4c9a-9567-4dbb92395082",
   "metadata": {},
   "outputs": [],
   "source": [
    "# Energy\n",
    "# joule cinsinden verir\n",
    "print(constants.eV)            #1.6021766208e-19\n",
    "print(constants.electron_volt) #1.6021766208e-19\n",
    "print(constants.calorie)       #4.184\n",
    "print(constants.calorie_th)    #4.184\n",
    "print(constants.calorie_IT)    #4.1868\n",
    "print(constants.erg)           #1e-07\n",
    "print(constants.Btu)           #1055.05585262\n",
    "print(constants.Btu_IT)        #1055.05585262\n",
    "print(constants.Btu_th)        #1054.3502644888888\n",
    "print(constants.ton_TNT)       #4184000000.0"
   ]
  },
  {
   "cell_type": "code",
   "execution_count": null,
   "id": "9c93e929-a92c-46bf-a9cd-cf2d23f242d0",
   "metadata": {},
   "outputs": [],
   "source": [
    "#Power\n",
    "# güç watt cinsinden verir\n",
    "print(constants.hp)         #745.6998715822701\n",
    "print(constants.horsepower) #745.6998715822701"
   ]
  },
  {
   "cell_type": "code",
   "execution_count": null,
   "id": "876b2134-92ff-42f6-adaf-8bf125d3a72f",
   "metadata": {},
   "outputs": [],
   "source": [
    "# Force\n",
    "# kuvvet newton cinsinden verilir\n",
    "print(constants.dyn)             #1e-05\n",
    "print(constants.dyne)            #1e-05\n",
    "print(constants.lbf)             #4.4482216152605\n",
    "print(constants.pound_force)     #4.4482216152605\n",
    "print(constants.kgf)             #9.80665\n",
    "print(constants.kilogram_force)  #9.80665"
   ]
  },
  {
   "cell_type": "code",
   "execution_count": null,
   "id": "c2ec650b-95ac-4cd7-a237-fc15b0db0b9c",
   "metadata": {},
   "outputs": [],
   "source": [
    "#SciPy Optimizers\n",
    "# Aslında tüm makine öğrenmesi algoritmaları karmaşık denklemlerden fazlası değildir\n",
    "# ve verilen veri yardımıyla minimize edilmelilerdir\n"
   ]
  },
  {
   "cell_type": "code",
   "execution_count": null,
   "id": "2a7cd7f6-ba0e-4cf7-8dce-f2c2a28d91a6",
   "metadata": {},
   "outputs": [],
   "source": [
    "# Roots of an Equation\n",
    "# bir denklemin kökleri (sayısal analiz ile bulunur)\n",
    "# numpy bir polinomun veya doğrusal denklemin köklerini bulabilir\n",
    "# ama doğrusal olmayan denklemlerin köklerini bulamaz\n"
   ]
  },
  {
   "cell_type": "code",
   "execution_count": null,
   "id": "f30f4ac7-bbe2-4fed-bd13-296d092d2ffc",
   "metadata": {},
   "outputs": [],
   "source": [
    "# bulamayacağı örnek: x + cos(x)\n",
    "# scipy ile bulmak için optimze.root fonksiyonunu kullanabiliriz\n",
    "\"\"\"\n",
    "Bu fonksiyon 2 argüman alır\n",
    "fun - denklemi ifade eden bir fonksiyon\n",
    "x0 - köklerden birinin ilk tahmini\n",
    "fonksiyon çıktı olarak bir obje döndürür\n",
    "asıl sonuç objeninx değişkenin içindedir\n",
    "\"\"\"\n"
   ]
  },
  {
   "cell_type": "code",
   "execution_count": null,
   "id": "91b7bd04-9b23-44b6-a42f-88a1bba93592",
   "metadata": {},
   "outputs": [],
   "source": [
    "\"\"\"\n",
    "0 Başlangıç tahmin değeri.\n",
    "Bu, optimize edilen fonksiyonun minimumunu aramaya başlamak için kullanılır.\n",
    "Optimizasyon algoritması, bu başlangıç değerinden başlayarak minimuma yaklaşmaya çalışır.\n",
    "\"\"\""
   ]
  },
  {
   "cell_type": "code",
   "execution_count": 5,
   "id": "4f1a11ec-9872-4142-97be-16588269c49e",
   "metadata": {},
   "outputs": [
    {
     "name": "stdout",
     "output_type": "stream",
     "text": [
      " message: The solution converged.\n",
      " success: True\n",
      "  status: 1\n",
      "     fun: [ 0.000e+00]\n",
      "       x: [-7.391e-01]\n",
      "  method: hybr\n",
      "    nfev: 9\n",
      "    fjac: [[-1.000e+00]]\n",
      "       r: [-1.674e+00]\n",
      "     qtf: [-2.668e-13]\n"
     ]
    },
    {
     "name": "stderr",
     "output_type": "stream",
     "text": [
      "/var/folders/zq/4j2py0m9093fws0mymfysjz80000gn/T/ipykernel_31717/2287473408.py:5: DeprecationWarning: Conversion of an array with ndim > 0 to a scalar is deprecated, and will error in future. Ensure you extract a single element from your array before performing this operation. (Deprecated NumPy 1.25.)\n",
      "  return x + cos(x)\n"
     ]
    }
   ],
   "source": [
    "from scipy.optimize import root\n",
    "from math import cos\n",
    "\n",
    "def eqn(x):\n",
    "  return x + cos(x)\n",
    "\n",
    "myroot = root(eqn, 0)\n",
    "\n",
    "print(myroot)"
   ]
  },
  {
   "cell_type": "code",
   "execution_count": null,
   "id": "d0d4de78-4cad-4969-8dc3-b87adeefd41a",
   "metadata": {},
   "outputs": [],
   "source": []
  },
  {
   "cell_type": "code",
   "execution_count": null,
   "id": "41ad1fa0-9480-4400-8d75-67345f9e1b8e",
   "metadata": {},
   "outputs": [],
   "source": [
    "# tüm sonuç\n",
    "print(myroot)"
   ]
  },
  {
   "cell_type": "code",
   "execution_count": null,
   "id": "3bcc966a-9cfd-4313-9d52-1d8a5bae11dd",
   "metadata": {},
   "outputs": [],
   "source": [
    "# Minimizing a Function\n",
    "# bir fonksiyon eğrileri temsil eder ve min max noktaları vardır\n",
    "# yüksek notalar maxima\n",
    "# düşük noktalar ise minima\n",
    "# en yüksek nokta global maxima ve diğer max noktalar local maxima dır\n",
    "# en düşük global minima ve diğer min noktalar local minima dır"
   ]
  },
  {
   "cell_type": "code",
   "execution_count": null,
   "id": "52118889-f1bf-41b8-ae33-2f664a180451",
   "metadata": {},
   "outputs": [],
   "source": [
    "# Finding Minima\n",
    "# scipy.optimize.minimize() bu fonksiyonu kullanabiliriz\n",
    "# fun - fonksiyon\n",
    "# x0 - kök tahmini.\n",
    "\"\"\"\n",
    "method - kullanılacak metod ismi. Legal values:\n",
    "    'CG'\n",
    "    'BFGS'\n",
    "    'Newton-CG'\n",
    "    'L-BFGS-B'\n",
    "    'TNC'\n",
    "    'COBYLA'\n",
    "    'SLSQP'\n",
    "    \n",
    " callback - function called after each iteration of optimization.\n",
    " options - a dictionary defining extra params:\n",
    "\n",
    "{\n",
    "     \"disp\": boolean - print detailed description\n",
    "     \"gtol\": number - the tolerance of the error\n",
    "  }\n",
    "\"\"\""
   ]
  },
  {
   "cell_type": "code",
   "execution_count": null,
   "id": "13662bd5-2e83-477f-84d6-b291f421ee45",
   "metadata": {},
   "outputs": [],
   "source": [
    "\"\"\"\n",
    "method='BFGS': Kullanılan optimizasyon algoritması.\n",
    "BFGS (Broyden–Fletcher–Goldfarb–Shanno) algoritması kullanılıyor.\n",
    "Bu algoritma, bir fonksiyonun minimum veya maksimum değerini bulmayı amaçlar.\n",
    "\n",
    "Fonksiyonun ikinci türevi (Hesse matrisi) hesaplanamadığında\n",
    "veya hesaplamak zor veya maliyetli olduğunda kullanılan \n",
    "bir alternatif olan kısmi türevli yöntemlere göre daha etkilidir.\n",
    "\"\"\"\n",
    " "
   ]
  },
  {
   "cell_type": "code",
   "execution_count": 6,
   "id": "84b808da-e27f-41c0-a6b1-e478761daacf",
   "metadata": {},
   "outputs": [
    {
     "name": "stdout",
     "output_type": "stream",
     "text": [
      "  message: Optimization terminated successfully.\n",
      "  success: True\n",
      "   status: 0\n",
      "      fun: 1.75\n",
      "        x: [-5.000e-01]\n",
      "      nit: 2\n",
      "      jac: [ 0.000e+00]\n",
      " hess_inv: [[ 5.000e-01]]\n",
      "     nfev: 8\n",
      "     njev: 4\n"
     ]
    }
   ],
   "source": [
    "#\n",
    "from scipy.optimize import minimize\n",
    "\n",
    "def eqn(x):\n",
    "  return x**2 + x + 2\n",
    "\n",
    "mymin = minimize(eqn, 0, method='BFGS')\n",
    "\n",
    "print(mymin)"
   ]
  },
  {
   "cell_type": "code",
   "execution_count": null,
   "id": "5e3343f4-c4d6-45b8-b017-8ee954344f90",
   "metadata": {},
   "outputs": [],
   "source": [
    "\"\"\"\n",
    "status: 0: Başarı durumu kodu. 0, başarılı bir sonucu temsil eder.\n",
    "fun: 1.75: Minimize edilen fonksiyonun değeri, yani minimum noktadaki fonksiyon değeri.\n",
    "x: [-5.000e-01]: Minimize edilen fonksiyonun minimum noktasının koordinatları. Bu durumda, x = -0.5.\n",
    "nit: 2: İterasyon sayısı. Optimizasyon algoritmasının kaç iterasyon yaptığını gösterir.\n",
    "jac: [0.000e+00]: Minimize edilen fonksiyonun Jacobian'ı. Bu durumda, 0'a eşittir.\n",
    "hess_inv: [[5.000e-01]]: Minimize edilen fonksiyonun Hesse matrisinin tersi. Bu durumda, 0.5'e eşittir.\n",
    "nfev: 8: Fonksiyon değerlendirmelerinin sayısı.\n",
    "njev: 4: Jacobian değerlendirmelerinin sayısı.\n",
    "\"\"\""
   ]
  },
  {
   "cell_type": "code",
   "execution_count": null,
   "id": "5394a202-90d7-428f-907a-6550e731f0f2",
   "metadata": {},
   "outputs": [],
   "source": [
    "# SciPy Sparse Data (slaytta var)\n",
    "\"\"\"\n",
    "sparse veriler bir veri setinin çoğunluğunun bilgi taşımıyor olması (0 gibi)\n",
    "[1, 0, 2, 0, 0, 3, 0, 0, 0, 0, 0, 0]\n",
    "Dense Array: sparse array in tam tersidir verilerin çoğu 0 değildir\n",
    "bilimsel hesaplamalar yaparken sparse data ile karşılaşırız\n",
    "\"\"\"\n",
    "\n"
   ]
  },
  {
   "cell_type": "code",
   "execution_count": null,
   "id": "737f5a23-69cc-4d4a-abc3-8b4209e11d0b",
   "metadata": {},
   "outputs": [],
   "source": [
    "\"\"\"\n",
    "scipy.sparse fonksiyonu kullanılabilir\n",
    "2 farklı sparse veri kullanırız\n",
    "CSC - Compressed Sparse Column. For efficient arithmetic, fast column slicing.\n",
    "CSR - Compressed Sparse Row. For fast row slicing, faster matrix vector products\n",
    "\n",
    "\"\"\""
   ]
  },
  {
   "cell_type": "code",
   "execution_count": 7,
   "id": "ad63d126-aec6-4497-86a8-8d324c199699",
   "metadata": {},
   "outputs": [
    {
     "name": "stdout",
     "output_type": "stream",
     "text": [
      "  (0, 5)\t1\n",
      "  (0, 6)\t1\n",
      "  (0, 8)\t2\n"
     ]
    }
   ],
   "source": [
    "# fonksiyonun içine bir array yollayara martix oluşturabiliriz\n",
    "import numpy as np\n",
    "from scipy.sparse import csr_matrix\n",
    "\n",
    "arr = np.array([0, 0, 0, 0, 0, 1, 1, 0, 2])\n",
    "#0. satır x. sütunda bulunduğunu gösterir\n",
    "print(csr_matrix(arr))"
   ]
  },
  {
   "cell_type": "code",
   "execution_count": null,
   "id": "871da8e2-c97b-42c1-a168-30e3d2e8842b",
   "metadata": {},
   "outputs": [],
   "source": [
    "\"\"\"\n",
    "çıktıda 3 farklı eleman ve değer görüyoruz\n",
    "\n",
    " 1. eleman satır 0 pozisyonu: 5 ve 1 değerine sahip\n",
    " 2. eleman satır 0 pozisyonu: 6 ve 1 değerine sahip\n",
    " 2. eleman satır 0 pozisyonu: 8 ve 3 değerine sahip\n",
    "\"\"\""
   ]
  },
  {
   "cell_type": "code",
   "execution_count": 8,
   "id": "98c27dab-6b79-4de5-9d54-4a187addb1ec",
   "metadata": {},
   "outputs": [
    {
     "name": "stdout",
     "output_type": "stream",
     "text": [
      "[1 1 2]\n"
     ]
    }
   ],
   "source": [
    "import numpy as np\n",
    "\n",
    "from scipy.sparse import csr_matrix\n",
    "# burada array içerisindeki verilerden değere sahip olanları alıyoruz\n",
    "\n",
    "arr = np.array([[0, 0, 0], [0, 0, 1], [1, 0, 2]])\n",
    "\n",
    "print(csr_matrix(arr).data)"
   ]
  },
  {
   "cell_type": "code",
   "execution_count": 9,
   "id": "88b66e08-b54b-4757-b6bb-f92d2f3c0e6d",
   "metadata": {},
   "outputs": [
    {
     "name": "stdout",
     "output_type": "stream",
     "text": [
      "3\n"
     ]
    }
   ],
   "source": [
    "# 0 olmayan kaç değer olduğunu gösterir\n",
    "import numpy as np\n",
    "from scipy.sparse import csr_matrix\n",
    "\n",
    "arr = np.array([[0, 0, 0], [0, 0, 1], [1, 0, 2]])\n",
    "\n",
    "print(csr_matrix(arr).count_nonzero())"
   ]
  },
  {
   "cell_type": "code",
   "execution_count": 10,
   "id": "fee9c93d-4778-4905-9cd3-b9dd350ee113",
   "metadata": {},
   "outputs": [
    {
     "name": "stdout",
     "output_type": "stream",
     "text": [
      "  (1, 2)\t1\n",
      "  (2, 0)\t1\n",
      "  (2, 2)\t2\n"
     ]
    }
   ],
   "source": [
    "# 0 olan değerleri matristen çıkarır ve daha seyerek matris oluşturur.\n",
    "#Bu işlem, matrisin daha seyrek hale gelmesini sağlar\n",
    "#ve bellek kullanımını optimize eder.\n",
    "\n",
    "\n",
    "import numpy as np\n",
    "from scipy.sparse import csr_matrix\n",
    "\n",
    "arr = np.array([[0, 0, 0], [0, 0, 1], [1, 0, 2]])\n",
    "\n",
    "mat = csr_matrix(arr)\n",
    "mat.eliminate_zeros()\n",
    "\n",
    "print(mat)"
   ]
  },
  {
   "cell_type": "code",
   "execution_count": 11,
   "id": "e27ab734-da98-4f08-8b15-cc23c2db98a5",
   "metadata": {},
   "outputs": [
    {
     "name": "stdout",
     "output_type": "stream",
     "text": [
      "  (1, 2)\t1\n",
      "  (2, 0)\t1\n",
      "  (2, 2)\t2\n"
     ]
    }
   ],
   "source": [
    "# kopya verileri temizler\n",
    "#matrisin daha az yer kaplamasını sağlar ve \n",
    "#gereksiz yinelenen öğelerin ortadan kaldırılmasını sağlar.\n",
    "import numpy as np\n",
    "from scipy.sparse import csr_matrix\n",
    "\n",
    "arr = np.array([[0, 0, 0], [0, 0, 1], [1, 0, 2]])\n",
    "\n",
    "mat = csr_matrix(arr)\n",
    "mat.sum_duplicates()\n",
    "\n",
    "print(mat)"
   ]
  },
  {
   "cell_type": "code",
   "execution_count": 12,
   "id": "cf5bdc6a-c3fd-4219-a526-5c108b9e98c8",
   "metadata": {},
   "outputs": [
    {
     "name": "stdout",
     "output_type": "stream",
     "text": [
      "  (2, 0)\t1\n",
      "  (1, 2)\t1\n",
      "  (2, 2)\t2\n"
     ]
    }
   ],
   "source": [
    "# csr dan csc ye çevirir\n",
    "import numpy as np\n",
    "from scipy.sparse import csr_matrix\n",
    "\n",
    "arr = np.array([[0, 0, 0], [0, 0, 1], [1, 0, 2]])\n",
    "\n",
    "newarr = csr_matrix(arr).tocsc()\n",
    "\n",
    "print(newarr)"
   ]
  },
  {
   "cell_type": "code",
   "execution_count": null,
   "id": "2334fb91-13f2-4d74-a267-1e612fef5eeb",
   "metadata": {},
   "outputs": [],
   "source": [
    "# SciPy Graphs\n",
    "# scipy.sparse.csgraph"
   ]
  },
  {
   "cell_type": "code",
   "execution_count": null,
   "id": "856fadde-ef6f-4813-826d-df4a5ab620e6",
   "metadata": {},
   "outputs": [],
   "source": [
    "#Adjacency Matrix (slayt)\n",
    "\"\"\"\n",
    "nxn matrislerdir n eleman sayısıdır ve değerlerde sayılar arası bağlantıları ifade eder\n"
   ]
  },
  {
   "cell_type": "code",
   "execution_count": null,
   "id": "9657a7c5-1131-4d80-b0b2-81559a9a89e3",
   "metadata": {},
   "outputs": [],
   "source": [
    "\"\"\"\n",
    "Bu dizi, bir grafı temsil eder. Satırlar ve sütunlar, düğümleri temsil eder. 0'lar \n",
    "bir düğümün kendisiyle bağlantılı olmadığını, 1'ler ise iki düğümün bağlı olduğunu gösterir.\n",
    "Örneğin, 0. satırın 1. sütunu 1 değeri, 0. düğümün 1. düğümle bağlı olduğunu gösterir.\n",
    "connected_components fonksiyonu bu matrisi alır ve grafın bağlantılı bileşenlerini bulur."
   ]
  },
  {
   "cell_type": "code",
   "execution_count": null,
   "id": "f9da88eb-9e91-493a-86a9-300ef0ecf363",
   "metadata": {},
   "outputs": [],
   "source": [
    "\"\"\"\n",
    "\"graf\", matematiksel olarak bir düğüm kümesi ve bu düğümler arasındaki bağlantıları (kenarları) içeren bir yapıdır.\n",
    "Genellikle bir matris olarak temsil edilir. Bu matrisin satırları ve sütunları düğümleri temsil ederken,\n",
    "matrisin elemanları ise düğümler arasındaki bağlantıları gösterir."
   ]
  },
  {
   "cell_type": "code",
   "execution_count": 13,
   "id": "e220efc2-7d62-428f-9b0e-7f723564fe1c",
   "metadata": {},
   "outputs": [
    {
     "name": "stdout",
     "output_type": "stream",
     "text": [
      "(1, array([0, 0, 0], dtype=int32))\n"
     ]
    }
   ],
   "source": [
    "# Connected Components\n",
    "# tüm connected componentleri görmek için connected_components() metodu kullanılır.\n",
    "import numpy as np\n",
    "from scipy.sparse.csgraph import connected_components\n",
    "from scipy.sparse import csr_matrix\n",
    "\n",
    "arr = np.array([\n",
    "  [0, 1, 2],\n",
    "  [1, 0, 0],\n",
    "  [2, 0, 0]\n",
    "])\n",
    "\n",
    "newarr = csr_matrix(arr)\n",
    "\n",
    "print(connected_components(newarr))"
   ]
  },
  {
   "cell_type": "code",
   "execution_count": null,
   "id": "9d014ed4-ddd6-4766-b977-69f09912144b",
   "metadata": {},
   "outputs": [],
   "source": [
    "# Dijkstra\n",
    "# 3 argüman alır\n",
    "\"\"\"\n",
    "return_predecessors: boolean (True to return whole path of traversal otherwise False).\n",
    "Bu parametre, tüm gezme yolunu döndürüp döndürmeyeceğimizi belirler.\n",
    "Eğer bu değer True ise, algoritma tüm gezme yollarını döndürecektir.\n",
    "Eğer False ise, sadece en kısa yolun uzunluğunu döndürecektir.\n",
    "\n",
    "indices:\n",
    "Bu parametre, belirli bir düğümden tüm yolların döndürülüp döndürülmeyeceğini belirler. \n",
    "Eğer bu değer belirtilmemişse veya None olarak ayarlanmışsa, tüm düğümlerden yollar hesaplanacaktır. \n",
    "Belirli bir düğümün yollarını hesaplamak için ise, bu parametreye o düğümün indeksi verilir.\n",
    "\n",
    "limit: \n",
    "Bu parametre, hesaplanacak yolların maksimum ağırlığını belirler.\n",
    "Eğer belirtilmişse, bu ağırlığı geçen yollar hesaplanmayacaktır. \n",
    "Bu, belirli bir ağırlık limitine sahip yolları bulmak için kullanışlıdır."
   ]
  },
  {
   "cell_type": "code",
   "execution_count": 14,
   "id": "c04ca395-772d-4354-96ea-13d2575f376b",
   "metadata": {},
   "outputs": [
    {
     "name": "stdout",
     "output_type": "stream",
     "text": [
      "(array([0., 1., 2.]), array([-9999,     0,     0], dtype=int32))\n"
     ]
    }
   ],
   "source": [
    "import numpy as np\n",
    "from scipy.sparse.csgraph import dijkstra\n",
    "from scipy.sparse import csr_matrix\n",
    "\n",
    "arr = np.array([\n",
    "  [0, 1, 2],\n",
    "  [1, 0, 0],\n",
    "  [2, 0, 0]\n",
    "])\n",
    "\n",
    "newarr = csr_matrix(arr)\n",
    "\n",
    "print(dijkstra(newarr, return_predecessors=True, indices=0))"
   ]
  },
  {
   "cell_type": "code",
   "execution_count": 15,
   "id": "6a6ceec0-72c5-4bc4-8672-5183c1dfe40a",
   "metadata": {},
   "outputs": [
    {
     "name": "stdout",
     "output_type": "stream",
     "text": [
      "Uzaklıklar: [0. 1. 3. 6.]\n",
      "Öncüller: [-9999     0     1     1]\n"
     ]
    }
   ],
   "source": [
    "# Ağırlık matrisi (örnek olarak)\n",
    "import numpy as np\n",
    "from scipy.sparse.csgraph import dijkstra\n",
    "weights = np.array([[0, 1, 4, 0],\n",
    "                    [0, 0, 2, 5],\n",
    "                    [0, 0, 0, 0],\n",
    "                    [0, 0, 0, 0]])\n",
    "\n",
    "# Dijkstra algoritması uygulanması\n",
    "distances, predecessors = dijkstra(weights, return_predecessors=True, indices=0, limit=10)\n",
    "\n",
    "print(\"Uzaklıklar:\", distances)\n",
    "#her düğümün önceki düğümünü belirler\n",
    "print(\"Öncüller:\", predecessors)\n"
   ]
  },
  {
   "cell_type": "code",
   "execution_count": null,
   "id": "3dd2227e-6d8c-4fcd-9c1e-28b18cc68392",
   "metadata": {},
   "outputs": [],
   "source": []
  }
 ],
 "metadata": {
  "kernelspec": {
   "display_name": "Python 3 (ipykernel)",
   "language": "python",
   "name": "python3"
  },
  "language_info": {
   "codemirror_mode": {
    "name": "ipython",
    "version": 3
   },
   "file_extension": ".py",
   "mimetype": "text/x-python",
   "name": "python",
   "nbconvert_exporter": "python",
   "pygments_lexer": "ipython3",
   "version": "3.12.1"
  }
 },
 "nbformat": 4,
 "nbformat_minor": 5
}

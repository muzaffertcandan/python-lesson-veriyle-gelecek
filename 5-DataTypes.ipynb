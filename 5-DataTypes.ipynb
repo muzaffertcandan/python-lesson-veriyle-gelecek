{
 "cells": [
  {
   "cell_type": "code",
   "execution_count": null,
   "id": "a17fef0c-14f0-4aba-98a1-d40d35ca1bac",
   "metadata": {
    "id": "77d7a80a-7a03-4cce-b914-944235ea17e7"
   },
   "outputs": [],
   "source": [
    "# 5- Veri Tipleri"
   ]
  },
  {
   "cell_type": "code",
   "execution_count": null,
   "id": "e75934b9-31d6-4015-b2ae-d989377e849a",
   "metadata": {
    "id": "26d3d802-a908-4c0a-8b54-01422c56b174",
    "outputId": "4036321a-0d0b-4559-dcb4-dd6d894fd19e"
   },
   "outputs": [],
   "source": [
    "# Numeric Types\n",
    "\n",
    "x = 4    # int - tam sayılar\n",
    "y = 3.6  # float - virgüllü sayılar\n",
    "z = 1j   # complex - karmaşık sayılar\n",
    "print(type(x))\n",
    "print(type(y))\n",
    "print(type(z))"
   ]
  },
  {
   "cell_type": "code",
   "execution_count": null,
   "id": "7e40dacd-3fa3-4013-b06b-8f6eb8573390",
   "metadata": {
    "id": "115d7585-578c-4db2-9e24-45858b88c9cb",
    "outputId": "932e81b0-e1ee-447d-ed3e-cc5febefeb74"
   },
   "outputs": [],
   "source": [
    "# type dönüşümleri\n",
    "#int -> float:\n",
    "a = float(x)\n",
    "\n",
    "#float -> int:\n",
    "b = int(y)\n",
    "# bir sayı float dan integer a dönüşken aşağı yuvarlanır\n",
    "#int -> complex:\n",
    "c = complex(x)\n",
    "print(a , b , c)"
   ]
  },
  {
   "cell_type": "code",
   "execution_count": null,
   "id": "c3c0bac9-f728-449c-8f46-d4b793be3be6",
   "metadata": {
    "id": "98f16930-fcce-4b95-8a79-512b53cf96f7",
    "outputId": "c9286195-928c-443d-b9ba-17dd2f8c8d77"
   },
   "outputs": [],
   "source": [
    "#alıştırma kdv\n",
    "#Yapılan alışveriş tutarı: Z TL\n",
    "#%18 KDV Ücreti: Y TL\n",
    "#KDV’siz fiyat: Z TL\n",
    "total_price = 500\n",
    "kdv_percent = 18\n",
    "total_kdv = (total_price * kdv_percent) / 100\n",
    "tax_free_price = total_price - total_kdv\n",
    "print(\"Yapılan Alışveriş Tutarı:\", total_price, \" TL\")\n",
    "print(\"KDV Ücreti:\", total_kdv, \" TL\")\n",
    "print(\"KDV siz fiyat: \", tax_free_price ,\" TL\")"
   ]
  },
  {
   "cell_type": "code",
   "execution_count": null,
   "id": "1a9b3006-9e52-4fbf-bdac-ecb504796ab2",
   "metadata": {
    "id": "f1aa70b7-984e-4f0b-8881-b8e6d1fc02dc",
    "outputId": "a77594c1-3d70-4ca6-9471-4fbf1456e381"
   },
   "outputs": [],
   "source": [
    "# Aşağıdaki kodun Çıktısı ne olur ?\n",
    "name = \"Muzaffer \"\n",
    "number = 4\n",
    "t = (name * number)\n",
    "print(t)"
   ]
  },
  {
   "cell_type": "code",
   "execution_count": null,
   "id": "5af58b3c-cfc6-446e-b81d-d3b0f435c3da",
   "metadata": {
    "id": "19a41ec4-1a55-4143-a0b5-0baee1f86eab"
   },
   "outputs": [],
   "source": [
    "# Alıştırma: Yukarıda verilen değerleri kullanarak aşağıdaki toplama işlemlerini yapınız\n",
    "# Veri tipleriyle birlikte örnekteki gibi yazınız\n",
    "# x = 4   \n",
    "# y = 3.6  \n",
    "# z = 1j \n",
    "# Örnek: \"t ve y nin toplamı: 99 , veri tipi: <class 'float'>\"\n",
    "# Alıştırma 1: x + y\n",
    "# Alıştırma 2: x + z\n",
    "# Alıştırma 3: y + z"
   ]
  },
  {
   "cell_type": "code",
   "execution_count": null,
   "id": "f28de96d-d89b-4782-bd6b-25a40bf12e2a",
   "metadata": {
    "id": "48177398-8079-4d88-aa83-24adf9700854"
   },
   "outputs": [],
   "source": [
    "#String Veri Tipi\n",
    "# Çift tırnak veya tek tırnak ile tanımlanır\n",
    "# Birden fazla satır tanımlayabiliriz\n",
    "x = \"\"\"Lorem ipsum dolor sit amet,\n",
    "consectetur adipiscing elit,\n",
    "sed do eiusmod tempor incididunt\n",
    "ut labore et dolore magna aliqua.\"\"\"\n",
    "print(x)\n"
   ]
  },
  {
   "cell_type": "code",
   "execution_count": null,
   "id": "f6a992c4-f37e-4285-aceb-d2581eefc506",
   "metadata": {
    "id": "5e826bfe-a9e8-4ce3-989f-f5a1de4cf8a6",
    "outputId": "d82d1b0e-5a05-4d08-a211-54a26464e9d1"
   },
   "outputs": [],
   "source": [
    "# Stringler arrayler yani dizilerdir, index 0 dan başlar.\n",
    "a = \"Hello, World!\"\n",
    "print(a[1])"
   ]
  },
  {
   "cell_type": "code",
   "execution_count": null,
   "id": "ecabca42-bc39-448a-9894-2a56b51b5840",
   "metadata": {
    "id": "2641056d-fbcd-4f71-bf95-23b5b2d9f2cc",
    "outputId": "1f6b0d0c-f414-4592-aeee-c5db52334efb"
   },
   "outputs": [],
   "source": [
    "# len() fonksiyonu ile cümlenin kaç karakterden oluştuğunu görebiliriz\n",
    "string_length = len(a)\n",
    "print(string_length)"
   ]
  },
  {
   "cell_type": "code",
   "execution_count": null,
   "id": "2acc379f-f60e-459a-8358-1280e585ee7a",
   "metadata": {
    "id": "7a10662b-4413-44d4-9e39-8d0f817326d7",
    "outputId": "d0363ab6-0f60-4ba2-d197-7db208dd93cd"
   },
   "outputs": [],
   "source": [
    "# in keywordü kullanılarak cümle içinde bir kelimenin bulunup bulunmadığı öğrenilebilir.\n",
    "text = \"Ak akçe kara gün içindir\"\n",
    "print(\"akçe\" in text)"
   ]
  },
  {
   "cell_type": "code",
   "execution_count": null,
   "id": "5f4879e7-1a8d-4b93-9257-800c5937e338",
   "metadata": {
    "id": "460b0b5c-28d1-4bb8-825a-420cc384afaf"
   },
   "outputs": [],
   "source": [
    "print(\"para\" not in text)"
   ]
  },
  {
   "cell_type": "code",
   "execution_count": 10,
   "id": "80c4f9e3-b979-4075-b182-5f0eb20c7fcf",
   "metadata": {
    "id": "14f8a017-27c2-4a28-b7e9-59cf7aeadc12",
    "outputId": "3858299f-8142-48a1-ce06-77e83df9eb18"
   },
   "outputs": [
    {
     "name": "stdout",
     "output_type": "stream",
     "text": [
      "ello\n"
     ]
    }
   ],
   "source": [
    "# String Slicing\n",
    "b = \"Hello, World!\"\n",
    "print(b[1:5])"
   ]
  },
  {
   "cell_type": "code",
   "execution_count": 11,
   "id": "8d87aae1-b286-4f2e-bae5-216985d338e0",
   "metadata": {
    "id": "934cae9e-8c9d-49fe-87de-c0b5e10a3927",
    "outputId": "5e0c3446-59d9-46e8-b4d9-ae65a8efa698"
   },
   "outputs": [
    {
     "name": "stdout",
     "output_type": "stream",
     "text": [
      "Hello\n"
     ]
    }
   ],
   "source": [
    "print(b[:5])\n",
    "#listemizin yazılan son elemanı alınmaz örnek 5"
   ]
  },
  {
   "cell_type": "code",
   "execution_count": 12,
   "id": "3b99bd94-39a5-4682-93e2-9f9506478308",
   "metadata": {
    "id": "3703dc3a-99ba-4827-9c19-6da834a6dcf9",
    "outputId": "ce97c36d-5f48-46d0-82af-460ca4b94080"
   },
   "outputs": [
    {
     "name": "stdout",
     "output_type": "stream",
     "text": [
      "llo, World!\n"
     ]
    }
   ],
   "source": [
    "print(b[2:])\n"
   ]
  },
  {
   "cell_type": "code",
   "execution_count": 13,
   "id": "13431057-727e-480e-83dd-43e73c090b37",
   "metadata": {
    "id": "caff240e-9a92-4c62-b8ba-979a4f09345d",
    "outputId": "697f3aa1-0f47-4c94-8b9b-dd0f7c923387"
   },
   "outputs": [
    {
     "name": "stdout",
     "output_type": "stream",
     "text": [
      "orl\n"
     ]
    }
   ],
   "source": [
    "# Negatif İndexleme\n",
    "# Burada yaptığımız negatif indexleme ile birlikte sondan başlayarak -5 den -2(dahil değil) şekilnde ekrana yazdırdık\n",
    "b = \"Hello, World!\"\n",
    "print(b[-5:-2])\n"
   ]
  },
  {
   "cell_type": "code",
   "execution_count": 18,
   "id": "784d3737-df37-4d17-9509-dcbb3a5263d4",
   "metadata": {
    "id": "a96b2f80-61b1-447b-96ee-f71fe16cbd70",
    "outputId": "d82ca378-053b-414e-b885-efe532133176"
   },
   "outputs": [
    {
     "name": "stdout",
     "output_type": "stream",
     "text": [
      "HELLO, WORLD!\n",
      "Hello, World!\n"
     ]
    }
   ],
   "source": [
    "# Kelimenin tüm harflerini büyük yapma\n",
    "a = \"hello, world!\"\n",
    "print(a.upper())\n",
    "print(a.title())\n",
    "#fonksiyonlar parantezlerle çağırılır\n",
    "#upper ve lower büyük küçük harf yapmaya yarar\n"
   ]
  },
  {
   "cell_type": "code",
   "execution_count": 20,
   "id": "88fd2790-3172-4586-85bf-47d005278d78",
   "metadata": {
    "id": "7d0ecf24-f20b-4ca2-940a-706c7453460d",
    "outputId": "af052b8e-44ea-4d4b-9ebc-a1470c6f0a6d"
   },
   "outputs": [
    {
     "name": "stdout",
     "output_type": "stream",
     "text": [
      "Hello, World!\n",
      " Hello, World! \n"
     ]
    }
   ],
   "source": [
    "a = \" Hello, World! \"\n",
    "print(a.strip())\n",
    "print(a)# textin sonundaki boşluğu temizler"
   ]
  },
  {
   "cell_type": "code",
   "execution_count": 21,
   "id": "8beb83be-b8d8-4354-9558-d3891b09a02b",
   "metadata": {
    "id": "8716526d-22a8-4a8e-a060-9ac005e380f3",
    "outputId": "c5d552f5-65dc-48fe-9fee-9ada7e82c8d5"
   },
   "outputs": [
    {
     "name": "stdout",
     "output_type": "stream",
     "text": [
      "Tello World!\n"
     ]
    }
   ],
   "source": [
    "a = \"Hello World!\"\n",
    "print(a.replace(\"H\", \"T\"))"
   ]
  },
  {
   "cell_type": "code",
   "execution_count": null,
   "id": "b4b26738-5f47-41c1-a911-a3daeed12668",
   "metadata": {
    "id": "58f1615f-44a6-419c-9bea-06903cb4d909",
    "outputId": "026fd5d1-4115-477f-a13b-a52921bebfd6"
   },
   "outputs": [],
   "source": [
    "print(a.split(\" \"))"
   ]
  },
  {
   "cell_type": "code",
   "execution_count": 23,
   "id": "1b992e59-2c05-4508-be6b-e5016ebf7d03",
   "metadata": {
    "id": "9ded3d33-456e-461d-8ab4-f318aad852d7"
   },
   "outputs": [
    {
     "name": "stdout",
     "output_type": "stream",
     "text": [
      "Hello World\n"
     ]
    }
   ],
   "source": [
    "# String Birleştirilmesi\n",
    "a = \"Hello\"\n",
    "b = \"World\"\n",
    "c = (a + \" \" + b)\n",
    "print(c)"
   ]
  },
  {
   "cell_type": "code",
   "execution_count": null,
   "id": "6be516d2-c718-477b-a021-4f4a77b5063b",
   "metadata": {
    "id": "ea56cf9d-f8d3-44f5-8247-4d91d18d1cc6",
    "outputId": "b7e9cf58-bdfc-4c21-8fd4-5e37b6735e72"
   },
   "outputs": [],
   "source": [
    "age = 36\n",
    "txt = \"My name is John, I am \" + str(age)\n",
    "print(txt)"
   ]
  },
  {
   "cell_type": "code",
   "execution_count": null,
   "id": "c22bca1b-a517-4cd0-9153-a820149a2e5f",
   "metadata": {
    "id": "d379f0e4-d3cc-40e0-9900-8bc824e546fc"
   },
   "outputs": [],
   "source": [
    "age = 36\n",
    "txt = \"Merhabalar adım Leven ve benim yaşım {}\"\n",
    "print(txt.format(age))"
   ]
  },
  {
   "cell_type": "code",
   "execution_count": null,
   "id": "1c2ed96e-6cd3-4120-acd2-6ef27459d007",
   "metadata": {
    "id": "18050c05-39d5-46e2-8429-b150c0b0c924"
   },
   "outputs": [],
   "source": [
    "# Alıştırma: Aşağıdaki metni format fonksiyonunu kullanarak ekrana yazdırınız\n",
    "# not: her bir yaşı ayrı bir değişken olarak tanımlayınız\n",
    "# Ahmet 18 yaşında, Talha 20 yaşında, Levent 21 yaşında"
   ]
  },
  {
   "cell_type": "code",
   "execution_count": 25,
   "id": "6d390dfc-ac94-4815-9d23-d723a8816840",
   "metadata": {
    "id": "f399b802-b036-4ac1-997e-61da3bc35e47",
    "outputId": "9623b2a6-04c6-44ad-ef2e-cbafe3a9f2de"
   },
   "outputs": [
    {
     "name": "stdout",
     "output_type": "stream",
     "text": [
      "Bu kitabı \"Bob Iger\" yazmış.\n"
     ]
    }
   ],
   "source": [
    "#Escape Characters \\  \\\n",
    "txt = \"Bu kitabı \\\"Bob Iger\\\" yazmış.\"\n",
    "print(txt)"
   ]
  },
  {
   "cell_type": "code",
   "execution_count": 26,
   "id": "7b140040-cdfc-449f-96f3-79217ddf9122",
   "metadata": {
    "id": "5e24aedb-7e5c-487a-8754-112181257f35",
    "outputId": "3bc9f17a-003a-436d-ede7-ecf5118b175c"
   },
   "outputs": [
    {
     "name": "stdout",
     "output_type": "stream",
     "text": [
      "Hello\n",
      "World!\n"
     ]
    }
   ],
   "source": [
    "# Yeni satıra geçmek\n",
    "txt = \"Hello\\nWorld!\"\n",
    "print(txt)"
   ]
  },
  {
   "cell_type": "code",
   "execution_count": 27,
   "id": "b48f322f-f1f8-4a31-bb39-dcd48f88a2f9",
   "metadata": {},
   "outputs": [
    {
     "name": "stdout",
     "output_type": "stream",
     "text": [
      "Veri bilimi çok eğlenceli\n"
     ]
    }
   ],
   "source": [
    "# veri bilimi çok eğlenceli\n",
    "txt = \"veri bilimi çok eğlenceli\"\n",
    "print(txt.capitalize())"
   ]
  },
  {
   "cell_type": "code",
   "execution_count": 28,
   "id": "d5d263bc-7ca2-4ed1-b679-a573715885d6",
   "metadata": {},
   "outputs": [
    {
     "name": "stdout",
     "output_type": "stream",
     "text": [
      "VERI BILIMI ÇOK EĞLENCELI\n"
     ]
    }
   ],
   "source": [
    "print(txt.upper())"
   ]
  },
  {
   "cell_type": "code",
   "execution_count": 31,
   "id": "d753e621-5a9c-42cf-88a2-63edd7328d83",
   "metadata": {},
   "outputs": [
    {
     "name": "stdout",
     "output_type": "stream",
     "text": [
      "deri bilimi çok eğlenceli\n"
     ]
    }
   ],
   "source": [
    "print(txt.replace(\"v\", \"d\"))"
   ]
  },
  {
   "cell_type": "code",
   "execution_count": 32,
   "id": "285f9ee8-f971-4c26-bc93-d7b351d932f3",
   "metadata": {
    "id": "1be711f7-16fa-45f2-b31f-2966e608550a",
    "outputId": "a50ceb3b-d6a7-48dc-823f-20ff750347aa"
   },
   "outputs": [
    {
     "name": "stdout",
     "output_type": "stream",
     "text": [
      "Merhaba Bu Bir Başlıktır\n"
     ]
    }
   ],
   "source": [
    "# Alıştırma (slayt)\n",
    "text = \"merhaba bu bir başlıktır\"\n",
    "print(text.title())"
   ]
  },
  {
   "cell_type": "code",
   "execution_count": null,
   "id": "5e9a8005-609c-49fa-9c37-d1400293ab9d",
   "metadata": {
    "id": "0c8e320e-ebdd-41dc-86ee-bea99c364ce7"
   },
   "outputs": [],
   "source": [
    "# Boolean\n",
    "a = True\n",
    "b = False"
   ]
  },
  {
   "cell_type": "code",
   "execution_count": null,
   "id": "f9c303fc-29b9-4fa0-97b6-1b01426126a0",
   "metadata": {
    "colab": {
     "base_uri": "https://localhost:8080/"
    },
    "id": "08e83981-0bec-43a4-b080-c64d40fe7abc",
    "outputId": "527dbb2a-0379-4e27-eb12-f2db4111f2c8"
   },
   "outputs": [],
   "source": [
    "# List\n",
    "x = [\"Elma\", \"Armut\", \"Kavun\"]\n",
    "print(x[0])"
   ]
  },
  {
   "cell_type": "code",
   "execution_count": null,
   "id": "9c7d6e38-f9b6-4757-9839-046f42381437",
   "metadata": {
    "id": "a7059bcf-99c2-4ab5-8cb1-c7a15250b022"
   },
   "outputs": [],
   "source": [
    "list1 = [\"apple\", \"banana\", \"cherry\"]\n",
    "list2 = [1, 5, 7, 9, 3]\n",
    "list3 = [True, False, False]"
   ]
  },
  {
   "cell_type": "code",
   "execution_count": null,
   "id": "f0fdd205-b544-4c54-95fb-dcb51ea439f3",
   "metadata": {
    "id": "2b6fb2a0-573d-4f3d-8419-ee679ab4f3fa"
   },
   "outputs": [],
   "source": [
    "harcanan_para = [\"abc\", 34, True, 40, \"male\"]\n"
   ]
  },
  {
   "cell_type": "code",
   "execution_count": null,
   "id": "4415cacf-c235-41b3-b1df-ebc2f46e2a71",
   "metadata": {
    "id": "4d465b6e-7d6e-424c-8006-7080b79a52e7"
   },
   "outputs": [],
   "source": [
    "# ALIŞTIRMA: List1 in veri tipinin ne olduğunu ekrana yazdırınız\n"
   ]
  },
  {
   "cell_type": "code",
   "execution_count": null,
   "id": "c2b0171f-421e-4718-81d9-66f518191e9b",
   "metadata": {
    "id": "368630de-ba7a-4ae7-9209-5c5cc02adbdf"
   },
   "outputs": [],
   "source": [
    "thislist = list((\"apple\", \"banana\", \"cherry\")) # çift parantezlerle yapılır\n",
    "print(thislist)"
   ]
  },
  {
   "cell_type": "code",
   "execution_count": null,
   "id": "bff8f2ef-7a96-49e8-9d94-84a9834883e6",
   "metadata": {
    "id": "d704e761-502e-4a4e-85a0-47a7cd71f342"
   },
   "outputs": [],
   "source": [
    "# Liste Elemanlarına ulaşma"
   ]
  },
  {
   "cell_type": "code",
   "execution_count": 34,
   "id": "9432fa52-f1fe-4874-89de-1a59a21329a6",
   "metadata": {
    "colab": {
     "base_uri": "https://localhost:8080/"
    },
    "id": "7fd1a913-264b-47cb-9468-a0823211ff2d",
    "outputId": "13a3d68b-005f-435e-ead9-754cd726a7ea"
   },
   "outputs": [
    {
     "name": "stdout",
     "output_type": "stream",
     "text": [
      "cherry\n"
     ]
    }
   ],
   "source": [
    "thislist = [\"apple\", \"banana\", \"cherry\"]\n",
    "print(thislist[2])"
   ]
  },
  {
   "cell_type": "code",
   "execution_count": null,
   "id": "2a985ba4-d52c-47bb-abac-513cc5ceb8e6",
   "metadata": {
    "id": "c9f84bab-5bda-4be9-baa5-0a92c260537a"
   },
   "outputs": [],
   "source": [
    "# ALIŞTIRMA: thislist 'in indexi 2 olan elemanını ekrana yazdırınız\n"
   ]
  },
  {
   "cell_type": "code",
   "execution_count": 35,
   "id": "ce682f59-80c5-4ddc-92dc-d09369af9d0a",
   "metadata": {
    "colab": {
     "base_uri": "https://localhost:8080/"
    },
    "id": "aa45fcf6-0c7f-4921-b03c-7f8f784ba96c",
    "outputId": "f20f3284-72c1-4d76-a8b4-3d1c41b473d0"
   },
   "outputs": [
    {
     "name": "stdout",
     "output_type": "stream",
     "text": [
      "['cherry', 'orange', 'kiwi']\n"
     ]
    }
   ],
   "source": [
    "thislist = [\"apple\", \"banana\", \"cherry\", \"orange\", \"kiwi\", \"melon\", \"mango\"]\n",
    "print(thislist[2:5])"
   ]
  },
  {
   "cell_type": "code",
   "execution_count": 36,
   "id": "46c4b113-78b7-471f-a041-5b41ae1ddf12",
   "metadata": {
    "colab": {
     "base_uri": "https://localhost:8080/"
    },
    "id": "6a117c94-9d3a-42de-9716-16c092bf53c5",
    "outputId": "a2791792-4f83-4ad8-c9bc-bcabcf8b5479"
   },
   "outputs": [
    {
     "name": "stdout",
     "output_type": "stream",
     "text": [
      "['cherry', 'orange', 'kiwi', 'melon']\n"
     ]
    }
   ],
   "source": [
    "thislist = [\"apple\", \"banana\", \"cherry\", \"orange\", \"kiwi\", \"melon\", \"mango\"]\n",
    "print(thislist[-5:-1])"
   ]
  },
  {
   "cell_type": "code",
   "execution_count": null,
   "id": "2b52df88-82db-4a3b-8746-0c826e270c5f",
   "metadata": {
    "id": "49cff29c-1844-4b05-aac5-d37e7fe03b0b"
   },
   "outputs": [],
   "source": [
    "# ALIŞTIRMA Bu listedeki elemanların -5. elemandan -1. elemana kadar yazdırılmasını sağlayınız\n",
    "# (-1. eleman dahil olmayacak şekilde)\n"
   ]
  },
  {
   "cell_type": "code",
   "execution_count": 1,
   "id": "cb4d126d-5314-4953-a24c-ca57564fac55",
   "metadata": {
    "colab": {
     "base_uri": "https://localhost:8080/"
    },
    "id": "857ba706-8595-4a96-9393-00f8a590954a",
    "outputId": "ab39fbee-ce31-4c69-9807-c8c5cea4a109"
   },
   "outputs": [
    {
     "name": "stdout",
     "output_type": "stream",
     "text": [
      "muz bu listede mevcut\n",
      "muz var ancak mango yok\n"
     ]
    }
   ],
   "source": [
    "thislist = [\"apple\", \"banana\", \"cherry\"]\n",
    "\n",
    "if \"banana\" in thislist:\n",
    "    print(\"muz bu listede mevcut\")\n",
    "    if \"mango\" in thislist:\n",
    "        print(\"mango var\")\n",
    "    else:\n",
    "        print(\"muz var ancak mango yok\")\n",
    "    \n",
    "else:\n",
    "  print(\"hayır bu listede elma yok\")"
   ]
  },
  {
   "cell_type": "code",
   "execution_count": 40,
   "id": "3ae3c01e-8a4f-46ab-97e8-5d500938bd62",
   "metadata": {
    "colab": {
     "base_uri": "https://localhost:8080/"
    },
    "id": "40894d45-8e88-45e2-86a4-cfb1e2380493",
    "outputId": "b54fd164-8edb-4426-9d9c-c4a3a883df68"
   },
   "outputs": [
    {
     "name": "stdout",
     "output_type": "stream",
     "text": [
      "['elma', 'armut', 'kiraz']\n"
     ]
    }
   ],
   "source": [
    "#Liste elemanları değiştirilebilir\n",
    "thislist = [\"elma\", \"muz\", \"kiraz\"]\n",
    "thislist[1] = \"armut\"\n",
    "print(thislist)"
   ]
  },
  {
   "cell_type": "code",
   "execution_count": 45,
   "id": "17311fe8-fe9e-4ef0-8688-4995345c3d50",
   "metadata": {
    "colab": {
     "base_uri": "https://localhost:8080/"
    },
    "id": "095b-tmy8jQs",
    "outputId": "57643785-3934-40fc-d310-de61e27f165a"
   },
   "outputs": [
    {
     "name": "stdout",
     "output_type": "stream",
     "text": [
      "['elma', 'armut', 'kiraz', 'mango', 'mango', 'mango']\n"
     ]
    }
   ],
   "source": [
    "thislist.append(\"mango\")\n",
    "print(thislist)"
   ]
  },
  {
   "cell_type": "code",
   "execution_count": null,
   "id": "11b5d1e7-6b61-49de-9be4-8b514d7adae1",
   "metadata": {
    "id": "6203d81b-4e62-4737-9d1a-55599d92783f"
   },
   "outputs": [],
   "source": [
    "# ALIŞTIRMA listenin 2 ve 3. elemanlarını farklı meyvelerle değiştiriniz"
   ]
  },
  {
   "cell_type": "code",
   "execution_count": null,
   "id": "e88ffac8-0141-4257-b693-d9931dd19573",
   "metadata": {
    "id": "74c4a200-2e6a-417e-a3af-fb03ee746abd"
   },
   "outputs": [],
   "source": []
  },
  {
   "cell_type": "code",
   "execution_count": 46,
   "id": "65405218-298f-4635-ad26-0e541e626774",
   "metadata": {
    "colab": {
     "base_uri": "https://localhost:8080/"
    },
    "id": "3c9a0db9-fcb5-49de-8e1a-37eec176b788",
    "outputId": "0a3b4716-653a-4962-97a4-f3d05431c26d"
   },
   "outputs": [
    {
     "name": "stdout",
     "output_type": "stream",
     "text": [
      "['apple', 'banana', 'watermelon', 'cherry']\n"
     ]
    }
   ],
   "source": [
    "# İstenilen İndexe yeni eleman ekleme\n",
    "thislist = [\"apple\", \"banana\", \"cherry\"]\n",
    "thislist.insert(2, \"watermelon\")\n",
    "print(thislist)"
   ]
  },
  {
   "cell_type": "code",
   "execution_count": null,
   "id": "a36ad138-df6a-4bec-81b1-cb834c43a823",
   "metadata": {
    "colab": {
     "base_uri": "https://localhost:8080/"
    },
    "id": "8eb03f9e-e100-4eac-bdcd-62527f9b302e",
    "outputId": "6301d9f1-49d3-4e75-aab6-3a7ed222d6c1"
   },
   "outputs": [],
   "source": [
    "#append ile listenin en sonuna eleman ekleme\n",
    "thislist = [\"apple\", \"banana\", \"cherry\"]\n",
    "thislist.append(\"orange\")\n",
    "print(thislist)"
   ]
  },
  {
   "cell_type": "code",
   "execution_count": 48,
   "id": "8d2df02a-536c-48ad-af02-70661d359290",
   "metadata": {
    "colab": {
     "base_uri": "https://localhost:8080/"
    },
    "id": "a5d54f15-c686-4036-b909-e8cdf5639b5c",
    "outputId": "b808bbbb-027c-41fe-e551-7184e3a4373c"
   },
   "outputs": [
    {
     "name": "stdout",
     "output_type": "stream",
     "text": [
      "['apple', 'banana', 'cherry', 'mango', 'pineapple', 'papaya', 'mango', 'pineapple', 'papaya']\n",
      "['mango', 'pineapple', 'papaya']\n"
     ]
    }
   ],
   "source": [
    "# Listenin sonuna yeni bir liste ekleme\n",
    "thislist = [\"apple\", \"banana\", \"cherry\"]\n",
    "tropical = [\"mango\", \"pineapple\", \"papaya\"]\n",
    "thislist.extend(tropical)\n",
    "thislist += tropical\n",
    "print(thislist)\n",
    "print(tropical)"
   ]
  },
  {
   "cell_type": "code",
   "execution_count": 50,
   "id": "975ccf26-9e86-4edf-8f27-cc4264a699ed",
   "metadata": {
    "colab": {
     "base_uri": "https://localhost:8080/"
    },
    "id": "3f54c550-9aba-4b98-b2fe-d0ed2257f337",
    "outputId": "5eb48366-f1ef-4090-9785-0deac9ab6c1b"
   },
   "outputs": [
    {
     "name": "stdout",
     "output_type": "stream",
     "text": [
      "['banana', 'cherry']\n"
     ]
    }
   ],
   "source": [
    "thislist = [\"apple\", \"banana\", \"cherry\"]\n",
    "thislist.pop(0)\n",
    "print(thislist)"
   ]
  },
  {
   "cell_type": "code",
   "execution_count": null,
   "id": "0dd6b6ad-1f93-4d39-97d8-7404c233f2b8",
   "metadata": {
    "id": "94560311-9a24-4e85-8e0e-a1bd5238658e"
   },
   "outputs": [],
   "source": [
    "# 1- Alıştırma: İçerisinde 4 er eleman bulunan 2 adet liste oluşturunuz\n",
    "# 2- 2 listeyi birleştiriniz\n",
    "# 3- rastgele bir sayı seçerek o sayıda bulunan indexteki elemanı siliniz\n",
    "# 4- Yeni oluşan listenin eleman sayısını ekrana yazdırınız\n",
    "# 5- Yeni oluşan listeyi ekrana yazdırınız"
   ]
  },
  {
   "cell_type": "code",
   "execution_count": 52,
   "id": "191234cf-f5ca-4b34-8708-6a9242994c8b",
   "metadata": {
    "colab": {
     "base_uri": "https://localhost:8080/"
    },
    "id": "5a66e711-bd97-45ea-9849-fba87722a302",
    "outputId": "0edb31fc-88dc-4c77-960b-04a8b8d044fd"
   },
   "outputs": [
    {
     "name": "stdout",
     "output_type": "stream",
     "text": [
      "['apple', 'banana', 'cherry', 1]\n"
     ]
    }
   ],
   "source": [
    "thislist = [\"apple\", \"banana\", \"cherry\",1,2]\n",
    "thislist.remove(2)\n",
    "print(thislist)"
   ]
  },
  {
   "cell_type": "code",
   "execution_count": null,
   "id": "81a6edfd-b1e0-4020-a6bb-b23e94b52bba",
   "metadata": {
    "colab": {
     "base_uri": "https://localhost:8080/"
    },
    "id": "c76ede91-9546-45dc-b065-e7eb7a5c0157",
    "outputId": "af17f211-7f51-4c92-f484-caa370e9f84f"
   },
   "outputs": [],
   "source": [
    "#yeni bir listede sadece istenen elemanları alma\n",
    "fruits = [\"apple\", \"banana\", \"cherry\", \"kiwi\", \"mango\"]\n",
    "newlist = []\n",
    "\n",
    "for x in fruits:\n",
    "  if \"a\" in x:\n",
    "    newlist.append(x)\n",
    "\n",
    "print(newlist)"
   ]
  },
  {
   "cell_type": "code",
   "execution_count": null,
   "id": "a121a12c-4579-4cb5-9a61-8049cc5b1a1c",
   "metadata": {
    "id": "fa2df8b8-b9e3-4ac0-8e7a-cc6455225a8c"
   },
   "outputs": [],
   "source": [
    "newlist = [x for x in fruits if \"a\" in x]\n",
    "\n",
    "print(newlist)"
   ]
  },
  {
   "cell_type": "code",
   "execution_count": null,
   "id": "fdfcaa25-7df9-4010-a927-6e258b5d962a",
   "metadata": {
    "id": "ed740a1e-c863-4f63-9a11-996b1b794016"
   },
   "outputs": [],
   "source": [
    "# ALIŞTIRMA: insanların yaşları => [10,20,30,40,45,60] \n",
    "# yaşı 30 ve 30 dan büyük olan yaşları\n",
    "# Yeni bir liste oluşturarak bu listenin içerisine"
   ]
  },
  {
   "cell_type": "code",
   "execution_count": null,
   "id": "3523231e-63a8-4cf1-a3ce-ba89d58e0325",
   "metadata": {},
   "outputs": [],
   "source": [
    "## ALIŞTIRMA: 5 adet meyve - sebze bulunan bir liste yazınız.\n",
    "# Yeni bir liste oluşturarak bu listenin içerisine\n",
    "# içerisinde sadece \"e\" harfi geçen meyveleri ekleyiniz"
   ]
  },
  {
   "cell_type": "code",
   "execution_count": 53,
   "id": "6918c54c-b3d5-4ae7-a68b-6fb431458753",
   "metadata": {
    "colab": {
     "base_uri": "https://localhost:8080/"
    },
    "id": "ea0476ec-4c5d-4bf9-952a-c2f50c300d94",
    "outputId": "611c142b-3656-4976-c4f6-e90d93c2ad42"
   },
   "outputs": [
    {
     "name": "stdout",
     "output_type": "stream",
     "text": [
      "['banana', 'kiwi', 'mango', 'orange', 'pineapple']\n"
     ]
    }
   ],
   "source": [
    "# Liste Düzenleme - sıralama\n",
    "thislist = [\"orange\", \"mango\", \"kiwi\", \"pineapple\", \"banana\"]\n",
    "thislist.sort()\n",
    "print(thislist)"
   ]
  },
  {
   "cell_type": "code",
   "execution_count": 54,
   "id": "8de8ded3-0087-496a-8d5e-be0bffdaf9e6",
   "metadata": {
    "colab": {
     "base_uri": "https://localhost:8080/"
    },
    "id": "88d8816e-d579-4a6c-9b57-bc72e2ebee47",
    "outputId": "553e8fb8-d79d-4f35-d2f8-389ec12727ba"
   },
   "outputs": [
    {
     "name": "stdout",
     "output_type": "stream",
     "text": [
      "[23, 50, 65, 82, 100]\n"
     ]
    }
   ],
   "source": [
    "thislist = [100, 50, 65, 82, 23]\n",
    "thislist.sort()\n",
    "print(thislist)"
   ]
  },
  {
   "cell_type": "code",
   "execution_count": 55,
   "id": "3aad6ecf-5376-4473-bd7d-61ee57223004",
   "metadata": {
    "colab": {
     "base_uri": "https://localhost:8080/"
    },
    "id": "28694d15-78db-40d1-9ea0-82c6e063ce12",
    "outputId": "540fd0ce-7347-4b3d-970f-f73eb033eb03"
   },
   "outputs": [
    {
     "name": "stdout",
     "output_type": "stream",
     "text": [
      "['pineapple', 'orange', 'mango', 'kiwi', 'banana']\n"
     ]
    }
   ],
   "source": [
    "thislist = [\"orange\", \"mango\", \"kiwi\", \"pineapple\", \"banana\"]\n",
    "thislist.sort(reverse = True)\n",
    "print(thislist)"
   ]
  },
  {
   "cell_type": "code",
   "execution_count": 56,
   "id": "93057e84-669e-4418-8131-b53daddd8152",
   "metadata": {
    "colab": {
     "base_uri": "https://localhost:8080/"
    },
    "id": "XDBOJ8dLCssn",
    "outputId": "f3cefad9-54e8-4221-df26-982112cc4ce3"
   },
   "outputs": [
    {
     "name": "stdout",
     "output_type": "stream",
     "text": [
      "[100, 82, 65, 50, 23]\n"
     ]
    }
   ],
   "source": [
    "thislist = [100, 50, 65, 82, 23]\n",
    "thislist.sort(reverse = True)\n",
    "print(thislist)"
   ]
  },
  {
   "cell_type": "code",
   "execution_count": null,
   "id": "b63bfcdc-b7a1-4c75-8090-965ed3f38608",
   "metadata": {
    "id": "2bdc939b-5a12-47ae-88a9-40cf0b082016"
   },
   "outputs": [],
   "source": [
    "# LİSTE Kopyalama"
   ]
  },
  {
   "cell_type": "code",
   "execution_count": 57,
   "id": "248847ce-d06e-4207-8e52-610298882ebb",
   "metadata": {
    "colab": {
     "base_uri": "https://localhost:8080/"
    },
    "id": "dd251121-bce2-41ca-9f38-a5390f74813a",
    "outputId": "2e65fdad-022b-4581-ba2f-ded27fa243fe"
   },
   "outputs": [
    {
     "name": "stdout",
     "output_type": "stream",
     "text": [
      "['apple', 'banana', 'cherry']\n"
     ]
    }
   ],
   "source": [
    "thislist = [\"apple\", \"banana\", \"cherry\"]\n",
    "mylist = thislist.copy()\n",
    "print(mylist)"
   ]
  },
  {
   "cell_type": "code",
   "execution_count": 60,
   "id": "ccf72c6c-69eb-4cf3-b634-e2326f642630",
   "metadata": {},
   "outputs": [
    {
     "name": "stdout",
     "output_type": "stream",
     "text": [
      "['apple', 'banana', 'cherry', 'hey', 'hey']\n"
     ]
    }
   ],
   "source": [
    "mylist.append(\"hey\")\n",
    "print(mylist)"
   ]
  },
  {
   "cell_type": "code",
   "execution_count": 61,
   "id": "1a598394-31f2-43ef-9521-25189c2f0592",
   "metadata": {},
   "outputs": [
    {
     "name": "stdout",
     "output_type": "stream",
     "text": [
      "['apple', 'banana', 'cherry', 'yeni']\n"
     ]
    }
   ],
   "source": [
    "thislist.append(\"yeni\")\n",
    "print(thislist)"
   ]
  },
  {
   "cell_type": "code",
   "execution_count": 63,
   "id": "7291812d-88e9-4d87-93dd-bb054121ed54",
   "metadata": {},
   "outputs": [
    {
     "name": "stdout",
     "output_type": "stream",
     "text": [
      "['apple', 'banana', 'cherry', 'hey', 'hey']\n"
     ]
    }
   ],
   "source": [
    "print(mylist)\n",
    "mylist = thislist"
   ]
  },
  {
   "cell_type": "code",
   "execution_count": 65,
   "id": "f8011837-1db6-4712-97f9-fbed3c4cbc16",
   "metadata": {},
   "outputs": [
    {
     "name": "stdout",
     "output_type": "stream",
     "text": [
      "['apple', 'banana', 'cherry', 'yeni', 'yeni', '1']\n"
     ]
    }
   ],
   "source": [
    "thislist.append(\"1\")\n",
    "print(thislist)"
   ]
  },
  {
   "cell_type": "code",
   "execution_count": 66,
   "id": "f1bd3ca8-c853-4363-b2fa-df809845ded9",
   "metadata": {},
   "outputs": [
    {
     "name": "stdout",
     "output_type": "stream",
     "text": [
      "['apple', 'banana', 'cherry', 'yeni', 'yeni', '1']\n"
     ]
    }
   ],
   "source": [
    "print(mylist)"
   ]
  },
  {
   "cell_type": "code",
   "execution_count": 70,
   "id": "8287fd29-a8bd-434c-9a27-15ff634275f3",
   "metadata": {},
   "outputs": [
    {
     "name": "stdout",
     "output_type": "stream",
     "text": [
      "[1, 2, 3, 4, 5]\n"
     ]
    }
   ],
   "source": [
    "# Heap de tutulma\n",
    "liste1 = [1,2,3,4,5]\n",
    "liste2 =[]\n",
    "liste2 = liste1\n",
    "print(liste2)"
   ]
  },
  {
   "cell_type": "code",
   "execution_count": 71,
   "id": "e1e85b77-46a9-4260-b82a-0aea5bff663e",
   "metadata": {},
   "outputs": [],
   "source": [
    "liste1.append(9)"
   ]
  },
  {
   "cell_type": "code",
   "execution_count": 72,
   "id": "9b87b8b2-8b55-474b-bb8f-94d95f0b0fe7",
   "metadata": {},
   "outputs": [
    {
     "name": "stdout",
     "output_type": "stream",
     "text": [
      "[1, 2, 3, 4, 5, 9]\n"
     ]
    }
   ],
   "source": [
    "print(liste2)"
   ]
  },
  {
   "cell_type": "code",
   "execution_count": 73,
   "id": "f96283de-f8ae-45ed-a9ea-c533f4b159ea",
   "metadata": {},
   "outputs": [],
   "source": [
    "liste2.append(100)"
   ]
  },
  {
   "cell_type": "code",
   "execution_count": 77,
   "id": "6b9af1d8-9b18-48d8-857d-b2c1f9f8a27d",
   "metadata": {},
   "outputs": [
    {
     "name": "stdout",
     "output_type": "stream",
     "text": [
      "[1, 2, 3, 4, 5, 9, 100, 99]\n",
      "[1, 2, 3, 4, 5, 9, 100, 99]\n",
      "[1, 2, 3, 4, 5, 9, 100, 99, 99]\n"
     ]
    }
   ],
   "source": [
    "print(liste1)\n",
    "print(liste2)\n",
    "liste1.append(99)\n",
    "print(liste2)"
   ]
  },
  {
   "cell_type": "code",
   "execution_count": 80,
   "id": "26f15e13-5f15-4765-81e4-766ced7918ca",
   "metadata": {},
   "outputs": [
    {
     "name": "stdout",
     "output_type": "stream",
     "text": [
      "[1, 2, 3, 4, 5]\n",
      "[1, 2, 3, 4, 5]\n",
      "liste2 [1, 2, 3, 4, 5, 100]\n",
      "liste2 [1, 2, 3, 4, 5, 100]\n"
     ]
    }
   ],
   "source": [
    "liste1 = [1, 2, 3, 4, 5]\n",
    "liste2 = liste1[:]  # Using list slicing to create a copy of liste1\n",
    "print(liste2)\n",
    "liste2.append(100)\n",
    "print(liste1)\n",
    "print(\"liste2\", liste2)\n",
    "liste1.append(65)\n",
    "print(\"liste2\", liste2)"
   ]
  },
  {
   "cell_type": "code",
   "execution_count": null,
   "id": "395b96a5-0e89-4068-b68a-dac343a4965a",
   "metadata": {
    "colab": {
     "base_uri": "https://localhost:8080/"
    },
    "id": "80a529cd-0be0-465f-bd1d-503e41951f18",
    "outputId": "fbfe646d-d078-4d60-c0e3-769aef624768"
   },
   "outputs": [],
   "source": [
    "# Liste birleştirme\n",
    "list1 = [\"a\", \"b\", \"c\"]\n",
    "list2 = [1, 2, 3]\n",
    "\n",
    "list3 = list1 + list2\n",
    "print(list3)"
   ]
  },
  {
   "cell_type": "code",
   "execution_count": 81,
   "id": "b0837c01-9528-42dd-9ac5-35fb3f36eed0",
   "metadata": {
    "colab": {
     "base_uri": "https://localhost:8080/"
    },
    "id": "605cc6a5-92bb-4a40-a7a3-febc186586aa",
    "outputId": "177db35b-78fb-40a6-d0e8-9a4412c79363"
   },
   "outputs": [
    {
     "name": "stdout",
     "output_type": "stream",
     "text": [
      "('apple', 'banana', 'cherry')\n"
     ]
    }
   ],
   "source": [
    "# Tuple (Mutable - İmmutable)\n",
    "thistuple = (\"apple\", \"banana\", \"cherry\")\n",
    "print(thistuple)"
   ]
  },
  {
   "cell_type": "code",
   "execution_count": null,
   "id": "df91eb6a-f649-4cd5-a400-5d108084800f",
   "metadata": {
    "id": "a8711033-9415-40d8-baf5-23d8296ac129"
   },
   "outputs": [],
   "source": [
    "#Tuple lara yeni eleman eklenemez veya silinemez sadece tuplelar ile güncelleme yapılabilir"
   ]
  },
  {
   "cell_type": "code",
   "execution_count": 82,
   "id": "da415e05-237a-4fd6-97e0-fbb63b94c226",
   "metadata": {
    "colab": {
     "base_uri": "https://localhost:8080/"
    },
    "id": "6c0ae5b5-7027-4819-96d8-5f17b2bc12df",
    "outputId": "7039b93a-b4a4-45a7-e733-a927dd476461"
   },
   "outputs": [
    {
     "name": "stdout",
     "output_type": "stream",
     "text": [
      "<class 'tuple'>\n",
      "<class 'str'>\n"
     ]
    }
   ],
   "source": [
    "# (burada tek elemanlı olduğu için string olarak algılıyor)\n",
    "# bunun için satır sonuna virgül koyuyoruz\n",
    "thistuple = (\"apple\",)\n",
    "print(type(thistuple))\n",
    "\n",
    "#NOT a tuple\n",
    "thistuple = (\"apple\")\n",
    "print(type(thistuple))"
   ]
  },
  {
   "cell_type": "code",
   "execution_count": 86,
   "id": "a5b9fd18-4fdc-4172-bec8-b8ebc113b721",
   "metadata": {},
   "outputs": [
    {
     "ename": "TypeError",
     "evalue": "'tuple' object does not support item assignment",
     "output_type": "error",
     "traceback": [
      "\u001b[0;31m---------------------------------------------------------------------------\u001b[0m",
      "\u001b[0;31mTypeError\u001b[0m                                 Traceback (most recent call last)",
      "Cell \u001b[0;32mIn[86], line 2\u001b[0m\n\u001b[1;32m      1\u001b[0m new_tuple \u001b[38;5;241m=\u001b[39m (\u001b[38;5;241m1\u001b[39m,\u001b[38;5;241m2\u001b[39m,\u001b[38;5;241m3\u001b[39m,\u001b[38;5;241m4\u001b[39m,\u001b[38;5;241m5\u001b[39m)\n\u001b[0;32m----> 2\u001b[0m \u001b[43mnew_tuple\u001b[49m\u001b[43m[\u001b[49m\u001b[38;5;241;43m0\u001b[39;49m\u001b[43m]\u001b[49m \u001b[38;5;241m=\u001b[39m \u001b[38;5;241m99\u001b[39m\n\u001b[1;32m      3\u001b[0m \u001b[38;5;28mprint\u001b[39m(new_tuple)\n",
      "\u001b[0;31mTypeError\u001b[0m: 'tuple' object does not support item assignment"
     ]
    }
   ],
   "source": [
    "new_tuple = (1,2,3,4,5)\n",
    "new_tuple[0] = 99\n",
    "print(new_tuple)"
   ]
  },
  {
   "cell_type": "code",
   "execution_count": 85,
   "id": "e5d1c3f3-6637-410f-8035-7908ec586d4f",
   "metadata": {},
   "outputs": [
    {
     "ename": "AttributeError",
     "evalue": "'tuple' object has no attribute 'append'",
     "output_type": "error",
     "traceback": [
      "\u001b[0;31m---------------------------------------------------------------------------\u001b[0m",
      "\u001b[0;31mAttributeError\u001b[0m                            Traceback (most recent call last)",
      "Cell \u001b[0;32mIn[85], line 2\u001b[0m\n\u001b[1;32m      1\u001b[0m new_tuple \u001b[38;5;241m=\u001b[39m (\u001b[38;5;241m1\u001b[39m,\u001b[38;5;241m2\u001b[39m,\u001b[38;5;241m3\u001b[39m,\u001b[38;5;241m4\u001b[39m,\u001b[38;5;241m5\u001b[39m)\n\u001b[0;32m----> 2\u001b[0m \u001b[43mnew_tuple\u001b[49m\u001b[38;5;241;43m.\u001b[39;49m\u001b[43mappend\u001b[49m(\u001b[38;5;241m34\u001b[39m)\n\u001b[1;32m      3\u001b[0m \u001b[38;5;28mprint\u001b[39m(new_tuple)\n",
      "\u001b[0;31mAttributeError\u001b[0m: 'tuple' object has no attribute 'append'"
     ]
    }
   ],
   "source": [
    "new_tuple = (1,2,3,4,5)\n",
    "new_tuple.append(34)\n",
    "print(new_tuple)"
   ]
  },
  {
   "cell_type": "code",
   "execution_count": 113,
   "id": "f62ab085-8e25-4368-8ee4-ce62e7a497e2",
   "metadata": {
    "colab": {
     "base_uri": "https://localhost:8080/"
    },
    "id": "caaf04f5-4262-46ac-89ba-c290e300ce30",
    "outputId": "7e471760-2716-4210-ec56-983e6f894b8c",
    "scrolled": true
   },
   "outputs": [
    {
     "name": "stdout",
     "output_type": "stream",
     "text": [
      "{'apple', 124, 123, 153, 65434, 'banana', 'cherry'}\n"
     ]
    }
   ],
   "source": [
    "# Setler\n",
    "# setler değiştirilemezdir ancak eleman ekleyip çıkarabilirsiniz\n",
    "# setlerdeki elemanları güncelleyemezsiniz\n",
    "# setlerdeki elemanlar uygulamayı her açıp kapadığınızda yer değiştirir yani unindexed dır\n",
    "thisset = {\"apple\", \"banana\", \"cherry\", 123,153,124,65434}\n",
    "print(thisset)\n"
   ]
  },
  {
   "cell_type": "code",
   "execution_count": 112,
   "id": "8fed05a8-6a6e-455d-afc4-37fb1fa587e1",
   "metadata": {},
   "outputs": [
    {
     "name": "stdout",
     "output_type": "stream",
     "text": [
      "4\n"
     ]
    }
   ],
   "source": [
    "set = {1,2,3,4,4,4,4}\n",
    "x= len(set)\n",
    "print(x)"
   ]
  },
  {
   "cell_type": "code",
   "execution_count": 107,
   "id": "87d6bf6f-04f0-4f44-b933-01f7668377a5",
   "metadata": {},
   "outputs": [
    {
     "name": "stdout",
     "output_type": "stream",
     "text": [
      "{'c', 'd', 'b', 'a'}\n"
     ]
    }
   ],
   "source": []
  },
  {
   "cell_type": "code",
   "execution_count": 101,
   "id": "aa3c4b6a-4c64-4c19-a2b0-d9f806d59f1a",
   "metadata": {
    "id": "KXgBDAGTMqEw"
   },
   "outputs": [],
   "source": [
    "# W3SCHOOLS dan setler ve tuple lar ile işlemler gerçekleştiriniz"
   ]
  },
  {
   "cell_type": "code",
   "execution_count": 115,
   "id": "baa29215-0255-4e81-a7d6-8f82296be2c2",
   "metadata": {
    "colab": {
     "base_uri": "https://localhost:8080/"
    },
    "id": "f7659850-366a-48cf-a69f-8d21548e0244",
    "outputId": "2c317d50-34e3-4ff9-9a05-da1af1b345bc"
   },
   "outputs": [
    {
     "name": "stdout",
     "output_type": "stream",
     "text": [
      "range(0, 5) range(2, 5)\n"
     ]
    }
   ],
   "source": [
    "# Range\n",
    "x = range(5)\n",
    "y = range(2,5)\n",
    "print(x , y)"
   ]
  },
  {
   "cell_type": "code",
   "execution_count": 116,
   "id": "79e3f0c6-4ee0-4f42-a2ad-10f92374d50f",
   "metadata": {
    "colab": {
     "base_uri": "https://localhost:8080/"
    },
    "id": "3f767173-20df-4855-b91e-d4177341dfaf",
    "outputId": "54511d21-6a5b-42bc-9a28-87791b2a5ef2"
   },
   "outputs": [
    {
     "name": "stdout",
     "output_type": "stream",
     "text": [
      "2\n",
      "3\n",
      "4\n"
     ]
    }
   ],
   "source": [
    "for i in range (2,5):\n",
    "    print(i)"
   ]
  },
  {
   "cell_type": "code",
   "execution_count": null,
   "id": "a4e947ff-d9d8-4ae5-94e3-189172822063",
   "metadata": {
    "id": "c5a1133e-a5a3-4fde-baed-dc646a0663ae"
   },
   "outputs": [],
   "source": [
    "# Dictionary\n"
   ]
  },
  {
   "cell_type": "code",
   "execution_count": 126,
   "id": "e22e34f3-6697-4151-8285-9daf35e941de",
   "metadata": {
    "colab": {
     "base_uri": "https://localhost:8080/"
    },
    "id": "8fadcc1d-fc50-4eda-af18-1ab626a0b7cb",
    "outputId": "89b83ed2-6723-4af5-81dc-8a8b3659862a"
   },
   "outputs": [
    {
     "name": "stdout",
     "output_type": "stream",
     "text": [
      "[1964, 2000]\n"
     ]
    }
   ],
   "source": [
    "#Dictionary\n",
    "thisdict = {\n",
    "  \"brand\": \"Ford\",\n",
    "    \"model\": \"Mustang\",\n",
    "    \"year\": 134,\n",
    "    \"year\": [1964,2000]\"\n",
    "}\n",
    "print(thisdict[\"year\"])"
   ]
  },
  {
   "cell_type": "code",
   "execution_count": null,
   "id": "18a51709-96f1-47a3-b8ce-0b9a13ffd44c",
   "metadata": {
    "id": "2edf116e-6c4b-424d-ab19-22579e4ab0dd"
   },
   "outputs": [],
   "source": [
    "x = {\"name\" : \"John\", \"age\" : 36}"
   ]
  },
  {
   "cell_type": "code",
   "execution_count": null,
   "id": "76a89488-f855-4898-b6b2-26b594bd3f37",
   "metadata": {
    "id": "-fcnjVjVQhop"
   },
   "outputs": [],
   "source": []
  },
  {
   "cell_type": "code",
   "execution_count": null,
   "id": "3683e1ec-3bd9-4fec-9568-6ad235c7bda8",
   "metadata": {
    "id": "6c695a69-cd21-4d54-8410-5886af88cb68"
   },
   "outputs": [],
   "source": []
  }
 ],
 "metadata": {
  "colab": {
   "provenance": []
  },
  "kernelspec": {
   "display_name": "Python 3 (ipykernel)",
   "language": "python",
   "name": "python3"
  },
  "language_info": {
   "codemirror_mode": {
    "name": "ipython",
    "version": 3
   },
   "file_extension": ".py",
   "mimetype": "text/x-python",
   "name": "python",
   "nbconvert_exporter": "python",
   "pygments_lexer": "ipython3",
   "version": "3.12.1"
  }
 },
 "nbformat": 4,
 "nbformat_minor": 5
}

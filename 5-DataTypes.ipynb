{
 "cells": [
  {
   "cell_type": "code",
   "execution_count": null,
   "id": "77d7a80a-7a03-4cce-b914-944235ea17e7",
   "metadata": {
    "id": "77d7a80a-7a03-4cce-b914-944235ea17e7"
   },
   "outputs": [],
   "source": [
    "# 5- Veri Tipleri"
   ]
  },
  {
   "cell_type": "code",
   "execution_count": null,
   "id": "26d3d802-a908-4c0a-8b54-01422c56b174",
   "metadata": {
    "id": "26d3d802-a908-4c0a-8b54-01422c56b174",
    "outputId": "4036321a-0d0b-4559-dcb4-dd6d894fd19e"
   },
   "outputs": [
    {
     "name": "stdout",
     "output_type": "stream",
     "text": [
      "<class 'int'>\n",
      "<class 'float'>\n",
      "<class 'complex'>\n"
     ]
    }
   ],
   "source": [
    "# Numeric Types\n",
    "\n",
    "x = 4    # int - tam sayılar\n",
    "y = 3.6  # float - virgüllü sayılar\n",
    "z = 1j   # complex - karmaşık sayılar\n",
    "print(type(x))\n",
    "print(type(y))\n",
    "print(type(z))"
   ]
  },
  {
   "cell_type": "code",
   "execution_count": null,
   "id": "115d7585-578c-4db2-9e24-45858b88c9cb",
   "metadata": {
    "id": "115d7585-578c-4db2-9e24-45858b88c9cb",
    "outputId": "932e81b0-e1ee-447d-ed3e-cc5febefeb74"
   },
   "outputs": [
    {
     "name": "stdout",
     "output_type": "stream",
     "text": [
      "4.0 3 (4+0j)\n"
     ]
    }
   ],
   "source": [
    "# type dönüşümleri\n",
    "#int -> float:\n",
    "a = float(x)\n",
    "\n",
    "#float -> int:\n",
    "b = int(y)\n",
    "# bir sayı float dan integer a dönüşken aşağı yuvarlanır\n",
    "#int -> complex:\n",
    "c = complex(x)\n",
    "print(a , b , c)"
   ]
  },
  {
   "cell_type": "code",
   "execution_count": null,
   "id": "98f16930-fcce-4b95-8a79-512b53cf96f7",
   "metadata": {
    "id": "98f16930-fcce-4b95-8a79-512b53cf96f7",
    "outputId": "c9286195-928c-443d-b9ba-17dd2f8c8d77"
   },
   "outputs": [
    {
     "name": "stdout",
     "output_type": "stream",
     "text": [
      "Yapılan Alışveriş Tutarı: 500  TL\n",
      "KDV Ücreti: 90.0  TL\n",
      "KDV siz fiyat:  410.0  TL\n"
     ]
    }
   ],
   "source": [
    "#alıştırma kdv\n",
    "#Yapılan alışveriş tutarı: Z TL\n",
    "#%18 KDV Ücreti: Y TL\n",
    "#KDV’siz fiyat: Z TL\n",
    "total_price = 500\n",
    "kdv_percent = 18\n",
    "total_kdv = (total_price * kdv_percent) / 100\n",
    "tax_free_price = total_price - total_kdv\n",
    "print(\"Yapılan Alışveriş Tutarı:\", total_price, \" TL\")\n",
    "print(\"KDV Ücreti:\", total_kdv, \" TL\")\n",
    "print(\"KDV siz fiyat: \", tax_free_price ,\" TL\")"
   ]
  },
  {
   "cell_type": "code",
   "execution_count": null,
   "id": "f1aa70b7-984e-4f0b-8881-b8e6d1fc02dc",
   "metadata": {
    "id": "f1aa70b7-984e-4f0b-8881-b8e6d1fc02dc",
    "outputId": "a77594c1-3d70-4ca6-9471-4fbf1456e381"
   },
   "outputs": [
    {
     "name": "stdout",
     "output_type": "stream",
     "text": [
      "MuzafferMuzafferMuzafferMuzaffer\n"
     ]
    }
   ],
   "source": [
    "# Aşağıdaki kodun Çıktısı ne olur ?\n",
    "name = \"Muzaffer\"\n",
    "number = 4\n",
    "t = (name * number)\n",
    "print(t)"
   ]
  },
  {
   "cell_type": "code",
   "execution_count": null,
   "id": "19a41ec4-1a55-4143-a0b5-0baee1f86eab",
   "metadata": {
    "id": "19a41ec4-1a55-4143-a0b5-0baee1f86eab"
   },
   "outputs": [],
   "source": [
    "# Alıştırma: Yukarıda verilen değerleri kullanarak aşağıdaki toplama işlemlerini yapınız\n",
    "# Veri tipleriyle birlikte örnekteki gibi yazınız\n",
    "# Örnek: \"t ve y nin toplamı: 99 , veri tipi: <class 'float'>\"\n",
    "# Alıştırma 1: x + y\n",
    "# Alıştırma 2: x + z\n",
    "# Alıştırma 3: y + z"
   ]
  },
  {
   "cell_type": "code",
   "execution_count": null,
   "id": "48177398-8079-4d88-aa83-24adf9700854",
   "metadata": {
    "id": "48177398-8079-4d88-aa83-24adf9700854"
   },
   "outputs": [],
   "source": [
    "#String Veri Tipi\n",
    "# Çift tırnak veya tek tırnak ile tanımlanır\n",
    "# Birden fazla satır tanımlayabiliriz\n",
    "x = \"\"\"Lorem ipsum dolor sit amet,\n",
    "consectetur adipiscing elit,\n",
    "sed do eiusmod tempor incididunt\n",
    "ut labore et dolore magna aliqua.\"\"\"\n",
    "print(x)\n"
   ]
  },
  {
   "cell_type": "code",
   "execution_count": null,
   "id": "5e826bfe-a9e8-4ce3-989f-f5a1de4cf8a6",
   "metadata": {
    "id": "5e826bfe-a9e8-4ce3-989f-f5a1de4cf8a6",
    "outputId": "d82d1b0e-5a05-4d08-a211-54a26464e9d1"
   },
   "outputs": [
    {
     "name": "stdout",
     "output_type": "stream",
     "text": [
      "e\n"
     ]
    }
   ],
   "source": [
    "# Stringler arrayler yani dizilerdir, index 0 dan başlar.\n",
    "a = \"Hello, World!\"\n",
    "print(a[1])"
   ]
  },
  {
   "cell_type": "code",
   "execution_count": null,
   "id": "2641056d-fbcd-4f71-bf95-23b5b2d9f2cc",
   "metadata": {
    "id": "2641056d-fbcd-4f71-bf95-23b5b2d9f2cc",
    "outputId": "1f6b0d0c-f414-4592-aeee-c5db52334efb"
   },
   "outputs": [
    {
     "name": "stdout",
     "output_type": "stream",
     "text": [
      "13\n"
     ]
    }
   ],
   "source": [
    "# len() fonksiyonu ile cümlenin kaç karakterden oluştuğunu görebiliriz\n",
    "string_length = len(a)\n",
    "print(string_length)"
   ]
  },
  {
   "cell_type": "code",
   "execution_count": null,
   "id": "7a10662b-4413-44d4-9e39-8d0f817326d7",
   "metadata": {
    "id": "7a10662b-4413-44d4-9e39-8d0f817326d7",
    "outputId": "d0363ab6-0f60-4ba2-d197-7db208dd93cd"
   },
   "outputs": [
    {
     "name": "stdout",
     "output_type": "stream",
     "text": [
      "False\n"
     ]
    }
   ],
   "source": [
    "# in keywordü kullanılarak cümle içinde bir kelimenin bulunup bulunmadığı öğrenilebilir.\n",
    "text = \"Ak akçe kara gün içindir\"\n",
    "print(\"Akçe\" in text)"
   ]
  },
  {
   "cell_type": "code",
   "execution_count": null,
   "id": "460b0b5c-28d1-4bb8-825a-420cc384afaf",
   "metadata": {
    "id": "460b0b5c-28d1-4bb8-825a-420cc384afaf"
   },
   "outputs": [],
   "source": [
    "print(\"para\" not in text)"
   ]
  },
  {
   "cell_type": "code",
   "execution_count": null,
   "id": "14f8a017-27c2-4a28-b7e9-59cf7aeadc12",
   "metadata": {
    "id": "14f8a017-27c2-4a28-b7e9-59cf7aeadc12",
    "outputId": "3858299f-8142-48a1-ce06-77e83df9eb18"
   },
   "outputs": [
    {
     "name": "stdout",
     "output_type": "stream",
     "text": [
      "ello\n"
     ]
    }
   ],
   "source": [
    "# String Slicing\n",
    "b = \"Hello, World!\"\n",
    "print(b[1:5])"
   ]
  },
  {
   "cell_type": "code",
   "execution_count": null,
   "id": "934cae9e-8c9d-49fe-87de-c0b5e10a3927",
   "metadata": {
    "id": "934cae9e-8c9d-49fe-87de-c0b5e10a3927",
    "outputId": "5e0c3446-59d9-46e8-b4d9-ae65a8efa698"
   },
   "outputs": [
    {
     "name": "stdout",
     "output_type": "stream",
     "text": [
      "Hello\n"
     ]
    }
   ],
   "source": [
    "print(b[:5])\n",
    "#listemizin yazılan son elemanı alınmaz örnek 5"
   ]
  },
  {
   "cell_type": "code",
   "execution_count": null,
   "id": "3703dc3a-99ba-4827-9c19-6da834a6dcf9",
   "metadata": {
    "id": "3703dc3a-99ba-4827-9c19-6da834a6dcf9",
    "outputId": "ce97c36d-5f48-46d0-82af-460ca4b94080"
   },
   "outputs": [
    {
     "name": "stdout",
     "output_type": "stream",
     "text": [
      "llo, World!\n"
     ]
    }
   ],
   "source": [
    "print(b[2:])\n"
   ]
  },
  {
   "cell_type": "code",
   "execution_count": null,
   "id": "caff240e-9a92-4c62-b8ba-979a4f09345d",
   "metadata": {
    "id": "caff240e-9a92-4c62-b8ba-979a4f09345d",
    "outputId": "697f3aa1-0f47-4c94-8b9b-dd0f7c923387"
   },
   "outputs": [
    {
     "name": "stdout",
     "output_type": "stream",
     "text": [
      "orl\n"
     ]
    }
   ],
   "source": [
    "# Negatif İndexleme\n",
    "# Burada yaptığımız negatif indexleme ile birlikte sondan başlayarak -5 den -2(dahil değil) şekilnde ekrana yazdırdık\n",
    "b = \"Hello, World!\"\n",
    "print(b[-5:-2])\n"
   ]
  },
  {
   "cell_type": "code",
   "execution_count": null,
   "id": "a96b2f80-61b1-447b-96ee-f71fe16cbd70",
   "metadata": {
    "id": "a96b2f80-61b1-447b-96ee-f71fe16cbd70",
    "outputId": "d82ca378-053b-414e-b885-efe532133176"
   },
   "outputs": [
    {
     "name": "stdout",
     "output_type": "stream",
     "text": [
      "HELLO, WORLD!\n",
      "hello, world!\n"
     ]
    }
   ],
   "source": [
    "# Kelimenin tüm harflerini büyük yapma\n",
    "a = \"hello, world!\"\n",
    "print(a.upper())\n",
    "print(a.lower())\n",
    "#fonksiyonlar parantezlerle çağırılır\n",
    "#upper ve lower büyük küçük harf yapmaya yarar\n"
   ]
  },
  {
   "cell_type": "code",
   "execution_count": null,
   "id": "7d0ecf24-f20b-4ca2-940a-706c7453460d",
   "metadata": {
    "id": "7d0ecf24-f20b-4ca2-940a-706c7453460d",
    "outputId": "af052b8e-44ea-4d4b-9ebc-a1470c6f0a6d"
   },
   "outputs": [
    {
     "name": "stdout",
     "output_type": "stream",
     "text": [
      "Hello, World!\n"
     ]
    }
   ],
   "source": [
    "a = \" Hello, World! \"\n",
    "print(a.strip()) # textin sonundaki boşluğu temizler"
   ]
  },
  {
   "cell_type": "code",
   "execution_count": null,
   "id": "8716526d-22a8-4a8e-a060-9ac005e380f3",
   "metadata": {
    "id": "8716526d-22a8-4a8e-a060-9ac005e380f3",
    "outputId": "c5d552f5-65dc-48fe-9fee-9ada7e82c8d5"
   },
   "outputs": [
    {
     "name": "stdout",
     "output_type": "stream",
     "text": [
      "Tello World!\n"
     ]
    }
   ],
   "source": [
    "a = \"Hello World!\"\n",
    "print(a.replace(\"H\", \"T\"))"
   ]
  },
  {
   "cell_type": "code",
   "execution_count": null,
   "id": "58f1615f-44a6-419c-9bea-06903cb4d909",
   "metadata": {
    "id": "58f1615f-44a6-419c-9bea-06903cb4d909",
    "outputId": "026fd5d1-4115-477f-a13b-a52921bebfd6"
   },
   "outputs": [
    {
     "name": "stdout",
     "output_type": "stream",
     "text": [
      "['Hello', 'World!']\n"
     ]
    }
   ],
   "source": [
    "print(a.split(\" \"))"
   ]
  },
  {
   "cell_type": "code",
   "execution_count": null,
   "id": "9ded3d33-456e-461d-8ab4-f318aad852d7",
   "metadata": {
    "id": "9ded3d33-456e-461d-8ab4-f318aad852d7"
   },
   "outputs": [],
   "source": [
    "# String Birleştirilmesi\n",
    "a = \"Hello\"\n",
    "b = \"World\"\n",
    "c = a + \" \" + b\n",
    "print(c)"
   ]
  },
  {
   "cell_type": "code",
   "execution_count": null,
   "id": "ea56cf9d-f8d3-44f5-8247-4d91d18d1cc6",
   "metadata": {
    "id": "ea56cf9d-f8d3-44f5-8247-4d91d18d1cc6",
    "outputId": "b7e9cf58-bdfc-4c21-8fd4-5e37b6735e72"
   },
   "outputs": [
    {
     "name": "stdout",
     "output_type": "stream",
     "text": [
      "My name is John, I am 36\n"
     ]
    }
   ],
   "source": [
    "age = 36\n",
    "txt = \"My name is John, I am \" + str(age)\n",
    "print(txt)"
   ]
  },
  {
   "cell_type": "code",
   "execution_count": null,
   "id": "d379f0e4-d3cc-40e0-9900-8bc824e546fc",
   "metadata": {
    "id": "d379f0e4-d3cc-40e0-9900-8bc824e546fc"
   },
   "outputs": [],
   "source": [
    "age = 36\n",
    "txt = \"Merhabalar adım Leven ve benim yaşım {}\"\n",
    "print(txt.format(age))"
   ]
  },
  {
   "cell_type": "code",
   "execution_count": null,
   "id": "18050c05-39d5-46e2-8429-b150c0b0c924",
   "metadata": {
    "id": "18050c05-39d5-46e2-8429-b150c0b0c924"
   },
   "outputs": [],
   "source": [
    "# Alıştırma: Aşağıdaki metni format fonksiyonunu kullanarak ekrana yazdırınız\n",
    "# not: her bir yaşı ayrı bir değişken olarak tanımlayınız\n",
    "# Ahmet 18 yaşında, Talha 20 yaşında, Levent 21 yaşında"
   ]
  },
  {
   "cell_type": "code",
   "execution_count": null,
   "id": "f399b802-b036-4ac1-997e-61da3bc35e47",
   "metadata": {
    "id": "f399b802-b036-4ac1-997e-61da3bc35e47",
    "outputId": "9623b2a6-04c6-44ad-ef2e-cbafe3a9f2de"
   },
   "outputs": [
    {
     "name": "stdout",
     "output_type": "stream",
     "text": [
      "Bu kitabı \"Bob Iger\" yazmış.\n"
     ]
    }
   ],
   "source": [
    "#Escape Characters \\  \\\n",
    "txt = \"Bu kitabı \\\"Bob Iger\\\" yazmış.\"\n",
    "print(txt)"
   ]
  },
  {
   "cell_type": "code",
   "execution_count": null,
   "id": "5e24aedb-7e5c-487a-8754-112181257f35",
   "metadata": {
    "id": "5e24aedb-7e5c-487a-8754-112181257f35",
    "outputId": "3bc9f17a-003a-436d-ede7-ecf5118b175c"
   },
   "outputs": [
    {
     "name": "stdout",
     "output_type": "stream",
     "text": [
      "Hello\n",
      "World!\n"
     ]
    }
   ],
   "source": [
    "# Yeni satıra geçmek\n",
    "txt = \"Hello\\nWorld!\"\n",
    "print(txt)"
   ]
  },
  {
   "cell_type": "code",
   "execution_count": null,
   "id": "1be711f7-16fa-45f2-b31f-2966e608550a",
   "metadata": {
    "id": "1be711f7-16fa-45f2-b31f-2966e608550a",
    "outputId": "a50ceb3b-d6a7-48dc-823f-20ff750347aa"
   },
   "outputs": [
    {
     "name": "stdout",
     "output_type": "stream",
     "text": [
      "Merhaba Bu Bir Başlıktır\n"
     ]
    }
   ],
   "source": [
    "# Alıştırma (slayt)\n",
    "text = \"merhaba bu bir başlıktır\"\n",
    "print(text.title())"
   ]
  },
  {
   "cell_type": "code",
   "execution_count": null,
   "id": "0c8e320e-ebdd-41dc-86ee-bea99c364ce7",
   "metadata": {
    "id": "0c8e320e-ebdd-41dc-86ee-bea99c364ce7"
   },
   "outputs": [],
   "source": [
    "# Boolean\n",
    "a = True\n",
    "b = False"
   ]
  },
  {
   "cell_type": "code",
   "execution_count": null,
   "id": "08e83981-0bec-43a4-b080-c64d40fe7abc",
   "metadata": {
    "colab": {
     "base_uri": "https://localhost:8080/"
    },
    "id": "08e83981-0bec-43a4-b080-c64d40fe7abc",
    "outputId": "527dbb2a-0379-4e27-eb12-f2db4111f2c8"
   },
   "outputs": [
    {
     "name": "stdout",
     "output_type": "stream",
     "text": [
      "Elma\n"
     ]
    }
   ],
   "source": [
    "# List\n",
    "x = [\"Elma\", \"Armut\", \"Kavun\"]\n",
    "print(x[0])"
   ]
  },
  {
   "cell_type": "code",
   "execution_count": null,
   "id": "a7059bcf-99c2-4ab5-8cb1-c7a15250b022",
   "metadata": {
    "id": "a7059bcf-99c2-4ab5-8cb1-c7a15250b022"
   },
   "outputs": [],
   "source": [
    "list1 = [\"apple\", \"banana\", \"cherry\"]\n",
    "list2 = [1, 5, 7, 9, 3]\n",
    "list3 = [True, False, False]"
   ]
  },
  {
   "cell_type": "code",
   "execution_count": null,
   "id": "2b6fb2a0-573d-4f3d-8419-ee679ab4f3fa",
   "metadata": {
    "id": "2b6fb2a0-573d-4f3d-8419-ee679ab4f3fa"
   },
   "outputs": [],
   "source": [
    "harcanan_para = [\"abc\", 34, True, 40, \"male\"]\n"
   ]
  },
  {
   "cell_type": "code",
   "execution_count": null,
   "id": "4d465b6e-7d6e-424c-8006-7080b79a52e7",
   "metadata": {
    "id": "4d465b6e-7d6e-424c-8006-7080b79a52e7"
   },
   "outputs": [],
   "source": [
    "# ALIŞTIRMA: List1 in veri tipinin ne olduğunu ekrana yazdırınız\n"
   ]
  },
  {
   "cell_type": "code",
   "execution_count": null,
   "id": "368630de-ba7a-4ae7-9209-5c5cc02adbdf",
   "metadata": {
    "id": "368630de-ba7a-4ae7-9209-5c5cc02adbdf"
   },
   "outputs": [],
   "source": [
    "thislist = list((\"apple\", \"banana\", \"cherry\")) # çift parantezlerle yapılır\n",
    "print(thislist)"
   ]
  },
  {
   "cell_type": "code",
   "execution_count": null,
   "id": "d704e761-502e-4a4e-85a0-47a7cd71f342",
   "metadata": {
    "id": "d704e761-502e-4a4e-85a0-47a7cd71f342"
   },
   "outputs": [],
   "source": [
    "# Liste Elemanlarına ulaşma"
   ]
  },
  {
   "cell_type": "code",
   "execution_count": null,
   "id": "7fd1a913-264b-47cb-9468-a0823211ff2d",
   "metadata": {
    "colab": {
     "base_uri": "https://localhost:8080/"
    },
    "id": "7fd1a913-264b-47cb-9468-a0823211ff2d",
    "outputId": "13a3d68b-005f-435e-ead9-754cd726a7ea"
   },
   "outputs": [
    {
     "name": "stdout",
     "output_type": "stream",
     "text": [
      "cherry\n"
     ]
    }
   ],
   "source": [
    "thislist = [\"apple\", \"banana\", \"cherry\"]\n",
    "print(thislist[2])"
   ]
  },
  {
   "cell_type": "code",
   "execution_count": null,
   "id": "c9f84bab-5bda-4be9-baa5-0a92c260537a",
   "metadata": {
    "id": "c9f84bab-5bda-4be9-baa5-0a92c260537a"
   },
   "outputs": [],
   "source": [
    "# ALIŞTIRMA: thislist 'in indexi 2 olan elemanını ekrana yazdırınız\n"
   ]
  },
  {
   "cell_type": "code",
   "execution_count": null,
   "id": "aa45fcf6-0c7f-4921-b03c-7f8f784ba96c",
   "metadata": {
    "colab": {
     "base_uri": "https://localhost:8080/"
    },
    "id": "aa45fcf6-0c7f-4921-b03c-7f8f784ba96c",
    "outputId": "f20f3284-72c1-4d76-a8b4-3d1c41b473d0"
   },
   "outputs": [
    {
     "name": "stdout",
     "output_type": "stream",
     "text": [
      "['cherry', 'orange', 'kiwi']\n"
     ]
    }
   ],
   "source": [
    "thislist = [\"apple\", \"banana\", \"cherry\", \"orange\", \"kiwi\", \"melon\", \"mango\"]\n",
    "print(thislist[2:5])"
   ]
  },
  {
   "cell_type": "code",
   "execution_count": null,
   "id": "6a117c94-9d3a-42de-9716-16c092bf53c5",
   "metadata": {
    "colab": {
     "base_uri": "https://localhost:8080/"
    },
    "id": "6a117c94-9d3a-42de-9716-16c092bf53c5",
    "outputId": "a2791792-4f83-4ad8-c9bc-bcabcf8b5479"
   },
   "outputs": [
    {
     "name": "stdout",
     "output_type": "stream",
     "text": [
      "['cherry', 'orange', 'kiwi', 'melon']\n"
     ]
    }
   ],
   "source": [
    "thislist = [\"apple\", \"banana\", \"cherry\", \"orange\", \"kiwi\", \"melon\", \"mango\"]\n",
    "print(thislist[-5:-1])"
   ]
  },
  {
   "cell_type": "code",
   "execution_count": null,
   "id": "49cff29c-1844-4b05-aac5-d37e7fe03b0b",
   "metadata": {
    "id": "49cff29c-1844-4b05-aac5-d37e7fe03b0b"
   },
   "outputs": [],
   "source": [
    "# ALIŞTIRMA Bu listedeki elemanların -5. elemandan -1. elemana kadar yazdırılmasını sağlayınız\n",
    "# (-1. eleman dahil olmayacak şekilde)\n"
   ]
  },
  {
   "cell_type": "code",
   "execution_count": null,
   "id": "857ba706-8595-4a96-9393-00f8a590954a",
   "metadata": {
    "colab": {
     "base_uri": "https://localhost:8080/"
    },
    "id": "857ba706-8595-4a96-9393-00f8a590954a",
    "outputId": "ab39fbee-ce31-4c69-9807-c8c5cea4a109"
   },
   "outputs": [
    {
     "name": "stdout",
     "output_type": "stream",
     "text": [
      "hayır bu listede elma yok\n"
     ]
    }
   ],
   "source": [
    "thislist = [\"apple\", \"banana\", \"cherry\"]\n",
    "if \"apple\" not in thislist:\n",
    "  print(\"Yes, 'apple' is in the fruits list\")\n",
    "else:\n",
    "  print(\"hayır bu listede elma yok\")"
   ]
  },
  {
   "cell_type": "code",
   "execution_count": null,
   "id": "40894d45-8e88-45e2-86a4-cfb1e2380493",
   "metadata": {
    "colab": {
     "base_uri": "https://localhost:8080/"
    },
    "id": "40894d45-8e88-45e2-86a4-cfb1e2380493",
    "outputId": "b54fd164-8edb-4426-9d9c-c4a3a883df68"
   },
   "outputs": [
    {
     "name": "stdout",
     "output_type": "stream",
     "text": [
      "['elma', 'armut', 'kiraz']\n"
     ]
    }
   ],
   "source": [
    "#Liste elemanları değiştirilebilir\n",
    "thislist = [\"elma\", \"muz\", \"kiraz\"]\n",
    "thislist[1] = \"armut\"\n",
    "print(thislist)"
   ]
  },
  {
   "cell_type": "code",
   "execution_count": null,
   "id": "095b-tmy8jQs",
   "metadata": {
    "colab": {
     "base_uri": "https://localhost:8080/"
    },
    "id": "095b-tmy8jQs",
    "outputId": "57643785-3934-40fc-d310-de61e27f165a"
   },
   "outputs": [
    {
     "name": "stdout",
     "output_type": "stream",
     "text": [
      "['elma', 'armut', 'kiraz', 'hey', 'hey']\n"
     ]
    }
   ],
   "source": [
    "thislist.append(\"hey\")\n",
    "print(thislist)"
   ]
  },
  {
   "cell_type": "code",
   "execution_count": null,
   "id": "6203d81b-4e62-4737-9d1a-55599d92783f",
   "metadata": {
    "id": "6203d81b-4e62-4737-9d1a-55599d92783f"
   },
   "outputs": [],
   "source": [
    "# ALIŞTIRMA listenin 2 ve 3. elemanlarını farklı meyvelerle değiştiriniz"
   ]
  },
  {
   "cell_type": "code",
   "execution_count": null,
   "id": "74c4a200-2e6a-417e-a3af-fb03ee746abd",
   "metadata": {
    "id": "74c4a200-2e6a-417e-a3af-fb03ee746abd"
   },
   "outputs": [],
   "source": []
  },
  {
   "cell_type": "code",
   "execution_count": null,
   "id": "3c9a0db9-fcb5-49de-8e1a-37eec176b788",
   "metadata": {
    "colab": {
     "base_uri": "https://localhost:8080/"
    },
    "id": "3c9a0db9-fcb5-49de-8e1a-37eec176b788",
    "outputId": "0a3b4716-653a-4962-97a4-f3d05431c26d"
   },
   "outputs": [
    {
     "name": "stdout",
     "output_type": "stream",
     "text": [
      "['apple', 'banana', 'watermelon', 'cherry']\n"
     ]
    }
   ],
   "source": [
    "# İstenilen İndexe yeni eleman ekleme\n",
    "thislist = [\"apple\", \"banana\", \"cherry\"]\n",
    "thislist.insert(2, \"watermelon\")\n",
    "print(thislist)"
   ]
  },
  {
   "cell_type": "code",
   "execution_count": null,
   "id": "8eb03f9e-e100-4eac-bdcd-62527f9b302e",
   "metadata": {
    "colab": {
     "base_uri": "https://localhost:8080/"
    },
    "id": "8eb03f9e-e100-4eac-bdcd-62527f9b302e",
    "outputId": "6301d9f1-49d3-4e75-aab6-3a7ed222d6c1"
   },
   "outputs": [
    {
     "name": "stdout",
     "output_type": "stream",
     "text": [
      "['apple', 'banana', 'cherry', 'orange']\n"
     ]
    }
   ],
   "source": [
    "#append ile listenin en sonuna eleman ekleme\n",
    "thislist = [\"apple\", \"banana\", \"cherry\"]\n",
    "thislist.append(\"orange\")\n",
    "print(thislist)"
   ]
  },
  {
   "cell_type": "code",
   "execution_count": null,
   "id": "a5d54f15-c686-4036-b909-e8cdf5639b5c",
   "metadata": {
    "colab": {
     "base_uri": "https://localhost:8080/"
    },
    "id": "a5d54f15-c686-4036-b909-e8cdf5639b5c",
    "outputId": "b808bbbb-027c-41fe-e551-7184e3a4373c"
   },
   "outputs": [
    {
     "name": "stdout",
     "output_type": "stream",
     "text": [
      "['apple', 'banana', 'cherry', 'mango', 'pineapple', 'papaya']\n",
      "['mango', 'pineapple', 'papaya']\n"
     ]
    }
   ],
   "source": [
    "# Listenin sonuna yeni bir liste ekleme\n",
    "thislist = [\"apple\", \"banana\", \"cherry\"]\n",
    "tropical = [\"mango\", \"pineapple\", \"papaya\"]\n",
    "thislist.extend(tropical)\n",
    "print(thislist)\n",
    "print(tropical)"
   ]
  },
  {
   "cell_type": "code",
   "execution_count": null,
   "id": "3f54c550-9aba-4b98-b2fe-d0ed2257f337",
   "metadata": {
    "colab": {
     "base_uri": "https://localhost:8080/"
    },
    "id": "3f54c550-9aba-4b98-b2fe-d0ed2257f337",
    "outputId": "5eb48366-f1ef-4090-9785-0deac9ab6c1b"
   },
   "outputs": [
    {
     "name": "stdout",
     "output_type": "stream",
     "text": [
      "['banana', 'cherry']\n"
     ]
    }
   ],
   "source": [
    "thislist = [\"apple\", \"banana\", \"cherry\"]\n",
    "thislist.pop(0)\n",
    "print(thislist)"
   ]
  },
  {
   "cell_type": "code",
   "execution_count": null,
   "id": "94560311-9a24-4e85-8e0e-a1bd5238658e",
   "metadata": {
    "id": "94560311-9a24-4e85-8e0e-a1bd5238658e"
   },
   "outputs": [],
   "source": [
    "# 1- Alıştırma: İçerisinde 4 er eleman bulunan 2 adet liste oluşturunuz\n",
    "# 2- 2 listeyi birleştiriniz\n",
    "# 3- rastgele bir sayı seçerek o sayıda bulunan indexteki elemanı siliniz\n",
    "# 4- Yeni oluşan listenin eleman sayısını ekrana yazdırınız\n",
    "# 5- Yeni oluşan listeyi ekrana yazdırınız"
   ]
  },
  {
   "cell_type": "code",
   "execution_count": null,
   "id": "5a66e711-bd97-45ea-9849-fba87722a302",
   "metadata": {
    "colab": {
     "base_uri": "https://localhost:8080/"
    },
    "id": "5a66e711-bd97-45ea-9849-fba87722a302",
    "outputId": "0edb31fc-88dc-4c77-960b-04a8b8d044fd"
   },
   "outputs": [
    {
     "name": "stdout",
     "output_type": "stream",
     "text": [
      "['apple', 'cherry']\n"
     ]
    }
   ],
   "source": [
    "thislist = [\"apple\", \"banana\", \"cherry\"]\n",
    "thislist.remove(\"banana\")\n",
    "print(thislist)"
   ]
  },
  {
   "cell_type": "code",
   "execution_count": null,
   "id": "c76ede91-9546-45dc-b065-e7eb7a5c0157",
   "metadata": {
    "colab": {
     "base_uri": "https://localhost:8080/"
    },
    "id": "c76ede91-9546-45dc-b065-e7eb7a5c0157",
    "outputId": "af17f211-7f51-4c92-f484-caa370e9f84f"
   },
   "outputs": [
    {
     "name": "stdout",
     "output_type": "stream",
     "text": [
      "['apple', 'banana', 'mango']\n"
     ]
    }
   ],
   "source": [
    "#yeni bir listede sadece istenen elemanları alma\n",
    "fruits = [\"apple\", \"banana\", \"cherry\", \"kiwi\", \"mango\"]\n",
    "newlist = []\n",
    "\n",
    "for x in fruits:\n",
    "  if \"a\" in x:\n",
    "    newlist.append(x)\n",
    "\n",
    "print(newlist)"
   ]
  },
  {
   "cell_type": "code",
   "execution_count": null,
   "id": "fa2df8b8-b9e3-4ac0-8e7a-cc6455225a8c",
   "metadata": {
    "id": "fa2df8b8-b9e3-4ac0-8e7a-cc6455225a8c"
   },
   "outputs": [],
   "source": [
    "newlist = [x for x in fruits if \"a\" in x]\n",
    "\n",
    "print(newlist)"
   ]
  },
  {
   "cell_type": "code",
   "execution_count": null,
   "id": "ed740a1e-c863-4f63-9a11-996b1b794016",
   "metadata": {
    "id": "ed740a1e-c863-4f63-9a11-996b1b794016"
   },
   "outputs": [],
   "source": [
    "# ALIŞTIRMA: 5 adet meyve - sebze bulunan bir liste yazınız.\n",
    "# Yeni bir liste oluşturarak bu listenin içerisine\n",
    "# içerisinde sadece \"e\" harfi geçen meyveleri ekleyiniz"
   ]
  },
  {
   "cell_type": "code",
   "execution_count": null,
   "id": "ea0476ec-4c5d-4bf9-952a-c2f50c300d94",
   "metadata": {
    "colab": {
     "base_uri": "https://localhost:8080/"
    },
    "id": "ea0476ec-4c5d-4bf9-952a-c2f50c300d94",
    "outputId": "611c142b-3656-4976-c4f6-e90d93c2ad42"
   },
   "outputs": [
    {
     "name": "stdout",
     "output_type": "stream",
     "text": [
      "['banana', 'kiwi', 'mango', 'orange', 'pineapple']\n"
     ]
    }
   ],
   "source": [
    "# Liste Düzenleme - sıralama\n",
    "thislist = [\"orange\", \"mango\", \"kiwi\", \"pineapple\", \"banana\"]\n",
    "thislist.sort()\n",
    "print(thislist)"
   ]
  },
  {
   "cell_type": "code",
   "execution_count": null,
   "id": "88d8816e-d579-4a6c-9b57-bc72e2ebee47",
   "metadata": {
    "colab": {
     "base_uri": "https://localhost:8080/"
    },
    "id": "88d8816e-d579-4a6c-9b57-bc72e2ebee47",
    "outputId": "553e8fb8-d79d-4f35-d2f8-389ec12727ba"
   },
   "outputs": [
    {
     "name": "stdout",
     "output_type": "stream",
     "text": [
      "[23, 50, 65, 82, 100]\n"
     ]
    }
   ],
   "source": [
    "thislist = [100, 50, 65, 82, 23]\n",
    "thislist.sort()\n",
    "print(thislist)"
   ]
  },
  {
   "cell_type": "code",
   "execution_count": null,
   "id": "28694d15-78db-40d1-9ea0-82c6e063ce12",
   "metadata": {
    "colab": {
     "base_uri": "https://localhost:8080/"
    },
    "id": "28694d15-78db-40d1-9ea0-82c6e063ce12",
    "outputId": "540fd0ce-7347-4b3d-970f-f73eb033eb03"
   },
   "outputs": [
    {
     "name": "stdout",
     "output_type": "stream",
     "text": [
      "['pineapple', 'orange', 'mango', 'kiwi', 'banana']\n"
     ]
    }
   ],
   "source": [
    "thislist = [\"orange\", \"mango\", \"kiwi\", \"pineapple\", \"banana\"]\n",
    "thislist.sort(reverse = True)\n",
    "print(thislist)"
   ]
  },
  {
   "cell_type": "code",
   "execution_count": null,
   "id": "XDBOJ8dLCssn",
   "metadata": {
    "colab": {
     "base_uri": "https://localhost:8080/"
    },
    "id": "XDBOJ8dLCssn",
    "outputId": "f3cefad9-54e8-4221-df26-982112cc4ce3"
   },
   "outputs": [
    {
     "name": "stdout",
     "output_type": "stream",
     "text": [
      "[100, 82, 65, 50, 23]\n"
     ]
    }
   ],
   "source": [
    "thislist = [100, 50, 65, 82, 23]\n",
    "thislist.sort(reverse = True)\n",
    "print(thislist)"
   ]
  },
  {
   "cell_type": "code",
   "execution_count": null,
   "id": "2bdc939b-5a12-47ae-88a9-40cf0b082016",
   "metadata": {
    "id": "2bdc939b-5a12-47ae-88a9-40cf0b082016"
   },
   "outputs": [],
   "source": [
    "# LİSTE Kopyalama"
   ]
  },
  {
   "cell_type": "code",
   "execution_count": null,
   "id": "dd251121-bce2-41ca-9f38-a5390f74813a",
   "metadata": {
    "colab": {
     "base_uri": "https://localhost:8080/"
    },
    "id": "dd251121-bce2-41ca-9f38-a5390f74813a",
    "outputId": "2e65fdad-022b-4581-ba2f-ded27fa243fe"
   },
   "outputs": [
    {
     "name": "stdout",
     "output_type": "stream",
     "text": [
      "['apple', 'banana', 'cherry']\n"
     ]
    }
   ],
   "source": [
    "thislist = [\"apple\", \"banana\", \"cherry\"]\n",
    "mylist = thislist.copy()\n",
    "print(mylist)"
   ]
  },
  {
   "cell_type": "code",
   "execution_count": null,
   "id": "80a529cd-0be0-465f-bd1d-503e41951f18",
   "metadata": {
    "colab": {
     "base_uri": "https://localhost:8080/"
    },
    "id": "80a529cd-0be0-465f-bd1d-503e41951f18",
    "outputId": "fbfe646d-d078-4d60-c0e3-769aef624768"
   },
   "outputs": [
    {
     "name": "stdout",
     "output_type": "stream",
     "text": [
      "['a', 'b', 'c', 1, 2, 3]\n"
     ]
    }
   ],
   "source": [
    "# Liste birleştirme\n",
    "list1 = [\"a\", \"b\", \"c\"]\n",
    "list2 = [1, 2, 3]\n",
    "\n",
    "list3 = list1 + list2\n",
    "print(list3)"
   ]
  },
  {
   "cell_type": "code",
   "execution_count": null,
   "id": "605cc6a5-92bb-4a40-a7a3-febc186586aa",
   "metadata": {
    "colab": {
     "base_uri": "https://localhost:8080/"
    },
    "id": "605cc6a5-92bb-4a40-a7a3-febc186586aa",
    "outputId": "177db35b-78fb-40a6-d0e8-9a4412c79363"
   },
   "outputs": [
    {
     "name": "stdout",
     "output_type": "stream",
     "text": [
      "('apple', 'banana', 'cherry')\n"
     ]
    }
   ],
   "source": [
    "# Tuple (Mutable - İmmutable)\n",
    "thistuple = (\"apple\", \"banana\", \"cherry\")\n",
    "print(thistuple)"
   ]
  },
  {
   "cell_type": "code",
   "execution_count": null,
   "id": "a8711033-9415-40d8-baf5-23d8296ac129",
   "metadata": {
    "id": "a8711033-9415-40d8-baf5-23d8296ac129"
   },
   "outputs": [],
   "source": [
    "#Tuple lara yeni eleman eklenemez veya silinemez sadece tuplelar ile güncelleme yapılabilir"
   ]
  },
  {
   "cell_type": "code",
   "execution_count": null,
   "id": "6c0ae5b5-7027-4819-96d8-5f17b2bc12df",
   "metadata": {
    "colab": {
     "base_uri": "https://localhost:8080/"
    },
    "id": "6c0ae5b5-7027-4819-96d8-5f17b2bc12df",
    "outputId": "7039b93a-b4a4-45a7-e733-a927dd476461"
   },
   "outputs": [
    {
     "name": "stdout",
     "output_type": "stream",
     "text": [
      "<class 'tuple'>\n",
      "<class 'str'>\n"
     ]
    }
   ],
   "source": [
    "# (burada tek elemanlı olduğu için string olarak algılıyor)\n",
    "# bunun için satır sonuna virgül koyuyoruz\n",
    "thistuple = (\"apple\",)\n",
    "print(type(thistuple))\n",
    "\n",
    "#NOT a tuple\n",
    "thistuple = (\"apple\")\n",
    "print(type(thistuple))"
   ]
  },
  {
   "cell_type": "code",
   "execution_count": null,
   "id": "caaf04f5-4262-46ac-89ba-c290e300ce30",
   "metadata": {
    "colab": {
     "base_uri": "https://localhost:8080/"
    },
    "id": "caaf04f5-4262-46ac-89ba-c290e300ce30",
    "outputId": "7e471760-2716-4210-ec56-983e6f894b8c"
   },
   "outputs": [
    {
     "name": "stdout",
     "output_type": "stream",
     "text": [
      "{'banana', 'cherry', 'apple'}\n"
     ]
    }
   ],
   "source": [
    "# Setler\n",
    "# setler değiştirilemezdir ancak eleman ekleyip çıkarabilirsiniz\n",
    "# setlerdeki elemanları güncelleyemezsiniz\n",
    "# setlerdeki elemanlar uygulamayı her açıp kapadığınızda yer değiştirir yani unindexed dır\n",
    "thisset = {\"apple\", \"banana\", \"cherry\"}\n",
    "print(thisset)\n"
   ]
  },
  {
   "cell_type": "code",
   "execution_count": null,
   "id": "KXgBDAGTMqEw",
   "metadata": {
    "id": "KXgBDAGTMqEw"
   },
   "outputs": [],
   "source": [
    "# W3SCHOOLS dan setler ve tuple lar ile işlemler gerçekleştiriniz"
   ]
  },
  {
   "cell_type": "code",
   "execution_count": null,
   "id": "f7659850-366a-48cf-a69f-8d21548e0244",
   "metadata": {
    "colab": {
     "base_uri": "https://localhost:8080/"
    },
    "id": "f7659850-366a-48cf-a69f-8d21548e0244",
    "outputId": "2c317d50-34e3-4ff9-9a05-da1af1b345bc"
   },
   "outputs": [
    {
     "name": "stdout",
     "output_type": "stream",
     "text": [
      "range(0, 5) range(2, 5)\n"
     ]
    }
   ],
   "source": [
    "# Range\n",
    "x = range(5)\n",
    "y = range(2,5)\n",
    "print(x , y)"
   ]
  },
  {
   "cell_type": "code",
   "execution_count": null,
   "id": "3f767173-20df-4855-b91e-d4177341dfaf",
   "metadata": {
    "colab": {
     "base_uri": "https://localhost:8080/"
    },
    "id": "3f767173-20df-4855-b91e-d4177341dfaf",
    "outputId": "54511d21-6a5b-42bc-9a28-87791b2a5ef2"
   },
   "outputs": [
    {
     "name": "stdout",
     "output_type": "stream",
     "text": [
      "2\n",
      "3\n",
      "4\n"
     ]
    }
   ],
   "source": [
    "for i in range (2,5):\n",
    "    print(i)"
   ]
  },
  {
   "cell_type": "code",
   "execution_count": null,
   "id": "c5a1133e-a5a3-4fde-baed-dc646a0663ae",
   "metadata": {
    "id": "c5a1133e-a5a3-4fde-baed-dc646a0663ae"
   },
   "outputs": [],
   "source": [
    "# Dictionary\n"
   ]
  },
  {
   "cell_type": "code",
   "execution_count": null,
   "id": "8fadcc1d-fc50-4eda-af18-1ab626a0b7cb",
   "metadata": {
    "colab": {
     "base_uri": "https://localhost:8080/"
    },
    "id": "8fadcc1d-fc50-4eda-af18-1ab626a0b7cb",
    "outputId": "89b83ed2-6723-4af5-81dc-8a8b3659862a"
   },
   "outputs": [
    {
     "name": "stdout",
     "output_type": "stream",
     "text": [
      "Ford\n"
     ]
    }
   ],
   "source": [
    "#Dictionary\n",
    "thisdict = {\n",
    "  \"brand\": \"Ford\",\"model\": \"Mustang\",\n",
    "\"year\": 1964\n",
    "}\n",
    "print(thisdict[\"brand\"])"
   ]
  },
  {
   "cell_type": "code",
   "execution_count": null,
   "id": "2edf116e-6c4b-424d-ab19-22579e4ab0dd",
   "metadata": {
    "id": "2edf116e-6c4b-424d-ab19-22579e4ab0dd"
   },
   "outputs": [],
   "source": [
    "x = {\"name\" : \"John\", \"age\" : 36}"
   ]
  },
  {
   "cell_type": "code",
   "execution_count": null,
   "id": "-fcnjVjVQhop",
   "metadata": {
    "id": "-fcnjVjVQhop"
   },
   "outputs": [],
   "source": []
  },
  {
   "cell_type": "code",
   "execution_count": null,
   "id": "6c695a69-cd21-4d54-8410-5886af88cb68",
   "metadata": {
    "id": "6c695a69-cd21-4d54-8410-5886af88cb68"
   },
   "outputs": [],
   "source": []
  }
 ],
 "metadata": {
  "colab": {
   "provenance": []
  },
  "kernelspec": {
   "display_name": "Python 3 (ipykernel)",
   "language": "python",
   "name": "python3"
  },
  "language_info": {
   "codemirror_mode": {
    "name": "ipython",
    "version": 3
   },
   "file_extension": ".py",
   "mimetype": "text/x-python",
   "name": "python",
   "nbconvert_exporter": "python",
   "pygments_lexer": "ipython3",
   "version": "3.12.1"
  }
 },
 "nbformat": 4,
 "nbformat_minor": 5
}

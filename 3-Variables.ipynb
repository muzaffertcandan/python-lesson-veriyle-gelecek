{
 "cells": [
  {
   "cell_type": "code",
   "execution_count": 1,
   "id": "72375bfc-da97-4425-8200-4aac95c34e1c",
   "metadata": {},
   "outputs": [
    {
     "name": "stdout",
     "output_type": "stream",
     "text": [
      "yeni değişken snake case ile\n"
     ]
    }
   ],
   "source": [
    "# Değişken isimleri snake case ile yazılmalıdır\n",
    "# Değişken isimleri olabildiğince ingilizce olmalıdır\n",
    "my_new_variable = \"yeni değişken snake case ile\"\n",
    "print(my_new_variable)"
   ]
  },
  {
   "cell_type": "code",
   "execution_count": 9,
   "id": "f4120884-2cfe-4e2f-85c2-862a6145e8ef",
   "metadata": {},
   "outputs": [
    {
     "name": "stdout",
     "output_type": "stream",
     "text": [
      "3\n"
     ]
    }
   ],
   "source": [
    "x = 99\n",
    "x = 2\n",
    "y = \"Muzaffer\"\n",
    "z = int(\"1\")\n",
    "print(x + z)"
   ]
  },
  {
   "cell_type": "code",
   "execution_count": 12,
   "id": "39ad168d-94e1-4596-a21e-6d33128b0028",
   "metadata": {},
   "outputs": [],
   "source": [
    "#veri tipi belirterek atama yapmak"
   ]
  },
  {
   "cell_type": "code",
   "execution_count": 13,
   "id": "bb835b83-b057-47d1-af18-ec99e3b2f8d9",
   "metadata": {},
   "outputs": [],
   "source": [
    "x = str(3)    # x  '3' metinsel ifade\n",
    "y = int(3)    # y  3 tam sayı\n",
    "z = float(3)  # z  3.0 ondalık sayı"
   ]
  },
  {
   "cell_type": "code",
   "execution_count": 12,
   "id": "a824ce12-3ff2-497d-ab2e-0dcf5f9524ef",
   "metadata": {},
   "outputs": [
    {
     "name": "stdout",
     "output_type": "stream",
     "text": [
      "<class 'complex'>\n",
      "<class 'str'>\n"
     ]
    }
   ],
   "source": [
    "x = 5j\n",
    "y = \"Fransa\"\n",
    "print(type(x))\n",
    "print(type(y))"
   ]
  },
  {
   "cell_type": "code",
   "execution_count": null,
   "id": "4ae47960-d5c5-4963-aafb-5561d48375cb",
   "metadata": {},
   "outputs": [],
   "source": [
    "#stringler double quotelarla yani çitft tırnaklarla veya tek tırnaklarla kullanılabilir\n",
    "x = \"Talha\"\n",
    "# Bu iki satır arasında fark yoktur\n",
    "x = 'Talha'\n",
    "# sadece tek tırnak veya çift tırnak kullanılmalı biri seçilmeli"
   ]
  },
  {
   "cell_type": "code",
   "execution_count": null,
   "id": "8f897dce-c7ee-4521-8925-b43bc691a450",
   "metadata": {},
   "outputs": [],
   "source": [
    "y = 12\n",
    "Y = 4"
   ]
  },
  {
   "cell_type": "code",
   "execution_count": null,
   "id": "b66debd3-1de4-4a47-b94a-0034708b56b4",
   "metadata": {},
   "outputs": [],
   "source": []
  },
  {
   "cell_type": "code",
   "execution_count": 14,
   "id": "ed6a3706-a5ad-4e85-b357-17047849cc24",
   "metadata": {},
   "outputs": [
    {
     "name": "stdout",
     "output_type": "stream",
     "text": [
      "Okul\n",
      "Öğrenci\n",
      "Bilgisayar\n"
     ]
    }
   ],
   "source": [
    "# Tek satırda birden fazla değişken tanımlanabilir\n",
    "x, y, z = \"Okul\", \"Öğrenci\", \"Bilgisayar\"\n",
    "print(x)\n",
    "print(y)\n",
    "print(z)"
   ]
  },
  {
   "cell_type": "code",
   "execution_count": 19,
   "id": "9eb39c37-a047-4938-8b7e-790836c404ff",
   "metadata": {},
   "outputs": [
    {
     "name": "stdout",
     "output_type": "stream",
     "text": [
      "Bulunan item sayısı:  3\n",
      "elma\n",
      "armut\n",
      "portakal\n"
     ]
    }
   ],
   "source": [
    "fruits = [\"elma\", \"armut\", \"portakal\"]\n",
    "print(\"Bulunan item sayısı: \",len(fruits))\n",
    "x, y, z = fruits\n",
    "print(x)\n",
    "print(y)\n",
    "print(z)"
   ]
  },
  {
   "cell_type": "code",
   "execution_count": 33,
   "id": "a3b29210-85bc-44a5-ae0d-d1742e20e62c",
   "metadata": {},
   "outputs": [
    {
     "name": "stdout",
     "output_type": "stream",
     "text": [
      "15\n"
     ]
    }
   ],
   "source": [
    "x = 5\n",
    "y = 10\n",
    "print(x + y)"
   ]
  },
  {
   "cell_type": "code",
   "execution_count": 22,
   "id": "24bf6fea-6c28-4947-ae2b-a07abad4a6ec",
   "metadata": {},
   "outputs": [
    {
     "name": "stdout",
     "output_type": "stream",
     "text": [
      "Python mükemmel 1 dildir\n"
     ]
    }
   ],
   "source": [
    "x = \"Python \"\n",
    "y = \"mükemmel \"\n",
    "z = \"1\"\n",
    "t = \" dildir\"\n",
    "print(x + y + z + t)"
   ]
  },
  {
   "cell_type": "code",
   "execution_count": null,
   "id": "a9fc8828-51f9-49f3-812f-1db3cb1bd222",
   "metadata": {},
   "outputs": [],
   "source": [
    "# Kullanıcıdan Veri Alma İnputlar"
   ]
  },
  {
   "cell_type": "code",
   "execution_count": 3,
   "id": "9fefab68-53d5-4728-a7f4-f8d7f04fcc30",
   "metadata": {},
   "outputs": [
    {
     "name": "stdin",
     "output_type": "stream",
     "text": [
      "kullanıcı adı giriniz: 15\n"
     ]
    }
   ],
   "source": [
    "username = int(input(\"kullanıcı adı giriniz:\"))\n"
   ]
  },
  {
   "cell_type": "code",
   "execution_count": 4,
   "id": "4bc1d8ac-5da3-496c-aa70-cbf438a15a2e",
   "metadata": {},
   "outputs": [
    {
     "name": "stdout",
     "output_type": "stream",
     "text": [
      "<class 'int'>\n",
      "Kullanıcı adı: 15\n"
     ]
    }
   ],
   "source": [
    "print(type(username))\n",
    "print(\"Kullanıcı adı: \" + str(username))\n"
   ]
  },
  {
   "cell_type": "code",
   "execution_count": 13,
   "id": "b4de5648-f76d-4c7d-bc08-ca64425dc6e0",
   "metadata": {},
   "outputs": [
    {
     "name": "stdout",
     "output_type": "stream",
     "text": [
      "Ford İngiltere'da kurulmuştur\n"
     ]
    }
   ],
   "source": [
    "# Alıştırma 1:\n",
    "#Alıştırma: company_name , place_name değişkenlerini kullanarak bir aşağıdaki cümleyi ekrana yazdırınız:\n",
    "#Toyota Japonya'da kurulmuştur\n",
    "company_name = \"Ford\"\n",
    "place_name = \"İngiltere\"\n",
    "main_text = company_name + \" \" + place_name + \"'da \" + \"kurulmuştur\"\n",
    "print(main_text)"
   ]
  },
  {
   "cell_type": "code",
   "execution_count": null,
   "id": "71efc7d2-cf16-4c5a-81da-47afa90eabb8",
   "metadata": {},
   "outputs": [],
   "source": []
  },
  {
   "cell_type": "code",
   "execution_count": 18,
   "id": "9b643686-3d17-4c6f-835c-361a132c12c7",
   "metadata": {},
   "outputs": [
    {
     "name": "stdout",
     "output_type": "stream",
     "text": [
      "Ford 1937\n"
     ]
    }
   ],
   "source": [
    "# Alıştırma 2:\n",
    "# Kullanıcıdan kuruluş yeri, şirket adı, kuruluş yılı inputlarını alarak bu cümleyi tekrar oluşturunuz:\n",
    "# Örnek: Toyota 1937‘de Japonya ’da kurulmuştur.\n",
    "date = 1937\n",
    "second_text = company_name + \" \" + str(date)\n",
    "print(second_text)"
   ]
  },
  {
   "cell_type": "code",
   "execution_count": 1,
   "id": "aaacc084-4a88-4920-9c59-efff3d355b46",
   "metadata": {},
   "outputs": [
    {
     "ename": "NameError",
     "evalue": "name 'company_name' is not defined",
     "output_type": "error",
     "traceback": [
      "\u001b[0;31m---------------------------------------------------------------------------\u001b[0m",
      "\u001b[0;31mNameError\u001b[0m                                 Traceback (most recent call last)",
      "Cell \u001b[0;32mIn[1], line 5\u001b[0m\n\u001b[1;32m      1\u001b[0m \u001b[38;5;66;03m# Alıştırma 2:\u001b[39;00m\n\u001b[1;32m      2\u001b[0m \u001b[38;5;66;03m# Kullanıcıdan kuruluş yeri, şirket adı, kuruluş yılı inputlarını alarak bu cümleyi tekrar oluşturunuz:\u001b[39;00m\n\u001b[1;32m      3\u001b[0m \u001b[38;5;66;03m# Örnek: Toyota 1937‘de Japonya ’da kurulmuştur.\u001b[39;00m\n\u001b[1;32m      4\u001b[0m date \u001b[38;5;241m=\u001b[39m \u001b[38;5;241m1937\u001b[39m\n\u001b[0;32m----> 5\u001b[0m second_text \u001b[38;5;241m=\u001b[39m \u001b[43mcompany_name\u001b[49m \u001b[38;5;241m+\u001b[39m \u001b[38;5;124m\"\u001b[39m\u001b[38;5;124m \u001b[39m\u001b[38;5;124m\"\u001b[39m \u001b[38;5;241m+\u001b[39m \u001b[38;5;28mstr\u001b[39m(date) \u001b[38;5;241m+\u001b[39m \u001b[38;5;124m\"\u001b[39m\u001b[38;5;124m'\u001b[39m\u001b[38;5;124mde \u001b[39m\u001b[38;5;124m\"\u001b[39m \u001b[38;5;241m+\u001b[39m place_name \u001b[38;5;241m+\u001b[39m \u001b[38;5;124m\"\u001b[39m\u001b[38;5;124m'\u001b[39m\u001b[38;5;124mda \u001b[39m\u001b[38;5;124m\"\u001b[39m \u001b[38;5;241m+\u001b[39m \u001b[38;5;124m\"\u001b[39m\u001b[38;5;124mkurulmuştur\u001b[39m\u001b[38;5;124m\"\u001b[39m\n\u001b[1;32m      6\u001b[0m \u001b[38;5;28mprint\u001b[39m(second_text)\n",
      "\u001b[0;31mNameError\u001b[0m: name 'company_name' is not defined"
     ]
    }
   ],
   "source": [
    "# Alıştırma 2:\n",
    "# Kullanıcıdan kuruluş yeri, şirket adı, kuruluş yılı inputlarını alarak bu cümleyi tekrar oluşturunuz:\n",
    "# Örnek: Toyota 1937‘de Japonya ’da kurulmuştur.\n",
    "date = 1937\n",
    "second_text = company_name + \" \" + str(date) + \"'de \" + place_name + \"'da \" + \"kurulmuştur\"\n",
    "print(second_text)"
   ]
  },
  {
   "cell_type": "code",
   "execution_count": null,
   "id": "b7e1d178-09ee-4b9e-ad60-122237d41dbb",
   "metadata": {},
   "outputs": [],
   "source": []
  }
 ],
 "metadata": {
  "kernelspec": {
   "display_name": "Python 3 (ipykernel)",
   "language": "python",
   "name": "python3"
  },
  "language_info": {
   "codemirror_mode": {
    "name": "ipython",
    "version": 3
   },
   "file_extension": ".py",
   "mimetype": "text/x-python",
   "name": "python",
   "nbconvert_exporter": "python",
   "pygments_lexer": "ipython3",
   "version": "3.12.1"
  }
 },
 "nbformat": 4,
 "nbformat_minor": 5
}

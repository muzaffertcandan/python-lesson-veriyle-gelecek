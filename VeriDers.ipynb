{
 "cells": [
  {
   "cell_type": "code",
   "execution_count": null,
   "id": "80ae68d9-c2ef-48a7-a6b3-66dcba3672a8",
   "metadata": {},
   "outputs": [],
   "source": [
    "# https://www.kaggle.com/datasets/shivamb/netflix-shows"
   ]
  },
  {
   "cell_type": "code",
   "execution_count": null,
   "id": "09821b8d-19c8-4a37-b3fc-d1728d0a51e3",
   "metadata": {},
   "outputs": [],
   "source": [
    "# En çok filmin çıktığı yıl hangisidir (relase) ?"
   ]
  }
 ],
 "metadata": {
  "kernelspec": {
   "display_name": "Python 3 (ipykernel)",
   "language": "python",
   "name": "python3"
  },
  "language_info": {
   "codemirror_mode": {
    "name": "ipython",
    "version": 3
   },
   "file_extension": ".py",
   "mimetype": "text/x-python",
   "name": "python",
   "nbconvert_exporter": "python",
   "pygments_lexer": "ipython3",
   "version": "3.12.1"
  }
 },
 "nbformat": 4,
 "nbformat_minor": 5
}

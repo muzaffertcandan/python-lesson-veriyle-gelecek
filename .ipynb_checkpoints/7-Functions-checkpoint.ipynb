{
 "cells": [
  {
   "cell_type": "code",
   "execution_count": 3,
   "id": "bdda7acb-be90-45e0-a75d-7bed63e3877e",
   "metadata": {
    "colab": {
     "base_uri": "https://localhost:8080/"
    },
    "id": "1ab66b1a-54c2-43a6-aebd-9be0f6303b5d",
    "outputId": "16bccbb9-993b-4d86-f724-eaff6e0efcc6"
   },
   "outputs": [
    {
     "name": "stdout",
     "output_type": "stream",
     "text": [
      "Merhaba bu bir fonksiyon\n"
     ]
    }
   ],
   "source": [
    "# Fonksiyonlar\n",
    "def muzafferfonksiyonu():\n",
    "  print(\"Merhaba bu bir fonksiyon\")\n",
    "\n",
    "muzafferfonksiyonu()\n"
   ]
  },
  {
   "cell_type": "code",
   "execution_count": 4,
   "id": "05bc9abe-ef4f-46ae-a844-83b0b0f4dbc2",
   "metadata": {
    "colab": {
     "base_uri": "https://localhost:8080/",
     "height": 35
    },
    "id": "1f3090a8-e7b4-445d-a9f0-991427a165ac",
    "outputId": "ed2e1a48-ebbc-40a9-b36e-48de85c3dc4b"
   },
   "outputs": [
    {
     "data": {
      "text/plain": [
       "'return ile function ?'"
      ]
     },
     "execution_count": 4,
     "metadata": {},
     "output_type": "execute_result"
    }
   ],
   "source": [
    "def my_function():\n",
    "  return(\"return ile function ?\")\n",
    "\n",
    "my_function()"
   ]
  },
  {
   "cell_type": "code",
   "execution_count": 6,
   "id": "a5884847-bb58-4503-bd01-dfbc8e57100a",
   "metadata": {
    "id": "88Njh62wrSVA"
   },
   "outputs": [
    {
     "name": "stdout",
     "output_type": "stream",
     "text": [
      "benim adım Muzaffer Candan\n"
     ]
    }
   ],
   "source": [
    "def my_function(fname, lname):\n",
    "  print(\"benim adım \" +fname + \" \" + lname)\n",
    "\n",
    "my_function(\"Muzaffer\", \"Candan\")"
   ]
  },
  {
   "cell_type": "code",
   "execution_count": 8,
   "id": "09dcedc5-a3e9-40e4-baf1-f946161fc0b0",
   "metadata": {
    "colab": {
     "base_uri": "https://localhost:8080/"
    },
    "id": "5072b642-1342-42b5-8dcd-0b98921e5c90",
    "outputId": "bbc631e2-810d-4029-a72a-1f1158e850fa"
   },
   "outputs": [
    {
     "name": "stdin",
     "output_type": "stream",
     "text": [
      "lütfen isminizi giriniz:  muzaffer\n",
      "lütfen isminizi giriniz:  candan\n"
     ]
    },
    {
     "name": "stdout",
     "output_type": "stream",
     "text": [
      "benim adım muzaffer candan\n"
     ]
    }
   ],
   "source": [
    "def my_function(fname = \"mehmet\", lname = \"yılmaz\"):  #burada default value lar yerleştirdik\n",
    "  print(\"benim adım \" +fname + \" \" + lname)\n",
    "first_name = input(\"lütfen isminizi giriniz: \")\n",
    "last_name = input(\"lütfen isminizi giriniz: \")\n",
    "\n",
    "my_function(first_name, last_name)"
   ]
  },
  {
   "cell_type": "code",
   "execution_count": 9,
   "id": "090fef3f-086b-45ca-a3fb-06ff30b549df",
   "metadata": {
    "colab": {
     "base_uri": "https://localhost:8080/"
    },
    "id": "8720d3d4-fcae-47b4-86da-a1b63d22c24f",
    "outputId": "e80ec38b-5225-4924-c2cb-5de8f80f374a"
   },
   "outputs": [
    {
     "name": "stdout",
     "output_type": "stream",
     "text": [
      "Merhaba benim yaşım 20\n"
     ]
    }
   ],
   "source": [
    "def my_function(age):\n",
    "  print(\"Merhaba benim yaşım \" + str(age))\n",
    "age = 20\n",
    "my_function(age)\n"
   ]
  },
  {
   "cell_type": "code",
   "execution_count": 10,
   "id": "a8ff1f0c-2c9e-46c0-a54c-a8c055d53ff5",
   "metadata": {
    "colab": {
     "base_uri": "https://localhost:8080/"
    },
    "id": "3973ce53-be5c-47df-b66e-02ff0ed5414a",
    "outputId": "c2339d5d-4518-4ba6-f719-3616357b4fa2"
   },
   "outputs": [
    {
     "name": "stdout",
     "output_type": "stream",
     "text": [
      "70\n"
     ]
    }
   ],
   "source": [
    "def kredi_cek(para,name):\n",
    "  return(para)\n",
    "my_money = 50\n",
    "my_name = \"muzaffer\"\n",
    "my_money +=(kredi_cek(20,my_name))\n",
    "\n",
    "print(my_money)"
   ]
  },
  {
   "cell_type": "code",
   "execution_count": null,
   "id": "38d0d93b-63ae-4ef0-9ebe-356e8e8d6696",
   "metadata": {
    "colab": {
     "base_uri": "https://localhost:8080/"
    },
    "id": "fac7c661-215b-431d-a488-12cc4e3e043b",
    "outputId": "46c8bc36-5cec-409c-aad1-c844078fbbd1"
   },
   "outputs": [],
   "source": [
    "for x in range(2, 30, 3):\n",
    "  print(x)"
   ]
  },
  {
   "cell_type": "code",
   "execution_count": 11,
   "id": "8cb9203a-de2f-4dd3-a2a5-870a079508f1",
   "metadata": {
    "colab": {
     "base_uri": "https://localhost:8080/"
    },
    "id": "72ac61f1-ce8d-4c29-a2dd-c0d81fc4493e",
    "outputId": "c6df8d43-4763-435e-ea3d-5da85540f7a5"
   },
   "outputs": [
    {
     "name": "stdout",
     "output_type": "stream",
     "text": [
      "An exception occurred\n"
     ]
    }
   ],
   "source": [
    "# Try Except\n",
    "try:\n",
    "  print(x)\n",
    "except:\n",
    "  print(\"An exception occurred\")"
   ]
  },
  {
   "cell_type": "code",
   "execution_count": null,
   "id": "4bb21e20-8a86-4c04-8bf6-745cdc3365d5",
   "metadata": {
    "id": "b6dc6af2-78e7-4bd4-b935-6541d3f363dc"
   },
   "outputs": [],
   "source": [
    "try:\n",
    "  print(x)\n",
    "except NameError:\n",
    "  print(\"Variable x is not defined\")\n",
    "except:\n",
    "  print(\"Something else went wrong\")"
   ]
  },
  {
   "cell_type": "code",
   "execution_count": null,
   "id": "b1e030d9-e68c-4ea4-a064-0bc8b2ba34ff",
   "metadata": {
    "id": "b72de133-a168-470c-955b-94f7186f81db"
   },
   "outputs": [],
   "source": [
    "try:\n",
    "  print(\"Hello\")\n",
    "except:\n",
    "  print(\"Something went wrong\")\n",
    "else:\n",
    "  print(\"Nothing went wrong\")"
   ]
  },
  {
   "cell_type": "code",
   "execution_count": 13,
   "id": "43e2ad26-a43c-4529-b362-0675f6b88e2c",
   "metadata": {
    "id": "8ab512d0-2e8c-4850-b093-de96af8d1e07"
   },
   "outputs": [
    {
     "name": "stdout",
     "output_type": "stream",
     "text": [
      "x\n",
      "The 'try except' is finished\n"
     ]
    }
   ],
   "source": [
    "try:\n",
    "  print(\"x\")\n",
    "except:\n",
    "  print(\"Something went wrong\")\n",
    "finally:\n",
    "  print(\"The 'try except' is finished\")"
   ]
  },
  {
   "cell_type": "code",
   "execution_count": null,
   "id": "a1e37cd6-b50c-43a7-9913-cbcef85731f9",
   "metadata": {
    "id": "e8fbfc65-9ba6-463c-be97-49be14771af3"
   },
   "outputs": [],
   "source": [
    "#try except yerine kullanılabilir\n",
    "x = -1\n",
    "\n",
    "if x < 0:\n",
    "  raise Exception(\"Sorry, no numbers below zero\")"
   ]
  },
  {
   "cell_type": "code",
   "execution_count": null,
   "id": "d5c042ef-4f6f-4cb3-abaf-18d6d586aff5",
   "metadata": {
    "id": "b043e829-c3a2-442e-97fe-90a7c095acdb"
   },
   "outputs": [],
   "source": [
    "# Pytoh Format()\n",
    "price = 49\n",
    "txt = \"The price is {} TL\"\n",
    "print(txt.format(price))"
   ]
  },
  {
   "cell_type": "code",
   "execution_count": null,
   "id": "3a431c29-8dd6-4a56-9239-8e0b03015165",
   "metadata": {
    "id": "16504555-1e95-4a91-aa83-221995862883"
   },
   "outputs": [],
   "source": [
    "txt = \"The price is {:.2f} TL\"\n"
   ]
  },
  {
   "cell_type": "code",
   "execution_count": null,
   "id": "4c272f68-688c-45d2-a610-1668e241c5ba",
   "metadata": {
    "id": "f148d5c4-dcba-4814-bc92-daf894a71e9a"
   },
   "outputs": [],
   "source": [
    "quantity = 3\n",
    "itemno = 567\n",
    "price = 49\n",
    "myorder = \"I want {} pieces of item number {} for {:.2f} dollars.\"\n",
    "print(myorder.format(quantity, itemno, price))"
   ]
  }
 ],
 "metadata": {
  "colab": {
   "provenance": []
  },
  "kernelspec": {
   "display_name": "Python 3 (ipykernel)",
   "language": "python",
   "name": "python3"
  },
  "language_info": {
   "codemirror_mode": {
    "name": "ipython",
    "version": 3
   },
   "file_extension": ".py",
   "mimetype": "text/x-python",
   "name": "python",
   "nbconvert_exporter": "python",
   "pygments_lexer": "ipython3",
   "version": "3.12.1"
  }
 },
 "nbformat": 4,
 "nbformat_minor": 5
}

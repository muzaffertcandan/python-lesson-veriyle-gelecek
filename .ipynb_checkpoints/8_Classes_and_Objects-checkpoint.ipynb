{
 "cells": [
  {
   "cell_type": "code",
   "execution_count": null,
   "id": "ed408596",
   "metadata": {
    "id": "ed408596"
   },
   "outputs": [],
   "source": [
    "\n",
    "Basit Bir Kitap Örneği\n",
    "Düşün: Bir kütüphanede birçok kitap var. Her kitap farklı bir isme, yazara ve sayfa sayısına sahip.\n",
    "\n",
    "Sınıf: Bir kitap \"sınıfı\" tüm kitapların ortak özelliklerini ve davranışlarını tanımlayan bir şablon gibidir.\n",
    "    Bu şablonda şunlar var:\n",
    "\n",
    "Kitap Adı: Kitabın ismi\n",
    "Yazar: Kitabın yazarı\n",
    "Sayfa Sayısı: Kitabın sayfa sayısı\n",
    "\n",
    "    Nesne: Her kitap bir \"nesne\"dir. Bu şablondan yararlanarak oluşturulur. Örneğin:\n",
    "\n",
    "Kitap 1: Harry Potter ve Felsefe Taşı\n",
    "Yazar: J.K. Rowling\n",
    "Sayfa Sayısı: 223\n",
    "\n",
    "    Yöntemler: Kitaplarla ilgili işlemleri yapmak için \"yöntemler\" kullanılır. Örneğin:\n",
    "\n",
    "Bilgi Yazdır: Kitabın adını, yazarını ve sayfa sayısını yazdırır.\n",
    "Oku: Belirli sayıda sayfa okur ve kalan sayfa sayısını günceller.\n",
    "Bitir: Kitap bittiyse mesaj verir.\n",
    "Örnek:\n",
    "\n",
    "Sınıf: Tüm kitapların ortak özelliklerini ve davranışlarını tanımlayan şablon.\n",
    "Nesne: Şablondan yararlanarak oluşturulan her kitap.\n",
    "Yöntem: Kitaplarla ilgili işlemleri yapmak için kullanılan fonksiyonlar.\n",
    "Bu basit örnek, Python'da sınıfların ve nesnelerin nasıl kullanılacağını anlamanıza yardımcı olacaktır."
   ]
  },
  {
   "cell_type": "code",
   "execution_count": 1,
   "id": "ca079197",
   "metadata": {
    "colab": {
     "base_uri": "https://localhost:8080/"
    },
    "id": "ca079197",
    "outputId": "4aedb04f-9952-4741-e21e-ba5a841c338f"
   },
   "outputs": [
    {
     "name": "stdout",
     "output_type": "stream",
     "text": [
      "Kitap Adı: Harry Potter ve Felsefe Taşı\n",
      "Yazar: J.K. Rowling\n",
      "Sayfa Sayısı: 223\n",
      "50 sayfa okudunuz. Kalan sayfa sayısı: 173\n",
      "Kitap Adı: Harry Potter ve Felsefe Taşı\n",
      "Yazar: J.K. Rowling\n",
      "Sayfa Sayısı: 173\n"
     ]
    }
   ],
   "source": [
    "class Kitap:\n",
    "    def __init__(self, isim, yazar, sayfa_sayisi):\n",
    "        self.isim = isim\n",
    "        self.yazar = yazar\n",
    "        self.sayfa_sayisi = sayfa_sayisi\n",
    "\n",
    "    def bilgi_yazdir(self):\n",
    "        print(f\"Kitap Adı: {self.isim}\")\n",
    "        print(f\"Yazar: {self.yazar}\")\n",
    "        print(f\"Sayfa Sayısı: {self.sayfa_sayisi}\")\n",
    "\n",
    "    def oku(self, okunan_sayfa):\n",
    "        self.sayfa_sayisi -= okunan_sayfa\n",
    "        print(f\"{okunan_sayfa} sayfa okudunuz. Kalan sayfa sayısı: {self.sayfa_sayisi}\")\n",
    "\n",
    "kitap1 = Kitap(\"Harry Potter ve Felsefe Taşı\", \"J.K. Rowling\", 223)\n",
    "\n",
    "kitap1.bilgi_yazdir()\n",
    "kitap1.oku(50)\n",
    "kitap1.bilgi_yazdir()\n"
   ]
  },
  {
   "cell_type": "code",
   "execution_count": null,
   "id": "a378514b",
   "metadata": {
    "id": "a378514b"
   },
   "outputs": [],
   "source": [
    "Araba Sınıfı ve Nesneleri\n",
    "Sınıf: Bir araba \"sınıfı\" tüm arabaların ortak özelliklerini ve davranışlarını\n",
    "tanımlayan bir şablon gibidir.\n",
    "    Bu şablonda şunlar var:\n",
    "\n",
    "Marka: Arabanın markası\n",
    "Model: Arabanın modeli\n",
    "Renk: Arabanın rengi\n",
    "Yıl: Arabanın üretim yılı\n",
    "Nesne: Her araba bir \"nesne\"dir. Bu şablondan yararlanarak oluşturulur. Örneğin:\n",
    "\n",
    "Araba 1: Toyota \n",
    "Model: Corolla\n",
    "Renk: Kırmızı\n",
    "Yıl: 2023\n",
    "Yöntemler: Arabalarla ilgili işlemleri yapmak için \"yöntemler\" kullanılır. Örneğin:\n",
    "\n",
    "Bilgi Yazdır: Arabanın markasını, modelini, rengini ve yılını yazdırır.\n",
    "Sür: Belirli bir kilometre yol alır ve kalan kilometreyi günceller.\n",
    "Dur: Arabayı durdurur.\n",
    "\n",
    "Araba durdu.\n",
    "Özet:\n",
    "\n",
    "Sınıf: Tüm arabaların ortak özelliklerini ve davranışlarını tanımlayan şablon.\n",
    "Nesne: Şablondan yararlanarak oluşturulan her araba.\n",
    "Yöntem: Arabalarla ilgili işlemleri yapmak için kullanılan fonksiyonlar.\n",
    "Bu basit örnek, Python'da sınıfların, nesnelerin ve yöntemlerin nasıl kullanılacağını anlamanıza yardımcı olacaktır."
   ]
  },
  {
   "cell_type": "code",
   "execution_count": null,
   "id": "SMAjpMYDoUsz",
   "metadata": {
    "id": "SMAjpMYDoUsz"
   },
   "outputs": [],
   "source": []
  },
  {
   "cell_type": "code",
   "execution_count": 3,
   "id": "4f4628b4",
   "metadata": {
    "id": "4f4628b4",
    "outputId": "13f36eec-4b0e-40c4-c6a5-ccab4610e449"
   },
   "outputs": [
    {
     "name": "stdout",
     "output_type": "stream",
     "text": [
      "Marka: Toyota\n",
      "Model: Corolla\n",
      "Renk: Kırmızı\n",
      "Yıl: 2023\n",
      "Kilometre: 0\n",
      "50 kilometre yol aldınız.Toplam Alınan kilometre: 50\n",
      "Marka: Toyota\n",
      "Model: Corolla\n",
      "Renk: Kırmızı\n",
      "Yıl: 2023\n",
      "Kilometre: 50\n",
      "Araba durdu.\n"
     ]
    }
   ],
   "source": [
    "class Araba:\n",
    "    def __init__(self, marka, model, renk, yıl):\n",
    "        self.marka = marka\n",
    "        self.model = model\n",
    "        self.renk = renk\n",
    "        self.yıl = yıl\n",
    "        self.kilometre = 0\n",
    "\n",
    "    def bilgi_yazdir(self):\n",
    "        print(f\"Marka: {self.marka}\")\n",
    "        print(f\"Model: {self.model}\")\n",
    "        print(f\"Renk: {self.renk}\")\n",
    "        print(f\"Yıl: {self.yıl}\")\n",
    "        print(f\"Kilometre: {self.kilometre}\")\n",
    "\n",
    "    def sur(self, kilometre):\n",
    "        self.kilometre += kilometre\n",
    "        print(f\"{kilometre} kilometre yol aldınız.Toplam Alınan kilometre: {self.kilometre}\")\n",
    "\n",
    "    def dur(self):\n",
    "        print(\"Araba durdu.\")\n",
    "\n",
    "araba1 = Araba(\"Toyota\", \"Corolla\", \"Kırmızı\", 2023)\n",
    "\n",
    "araba1.bilgi_yazdir()\n",
    "araba1.sur(50)\n",
    "araba1.bilgi_yazdir()\n",
    "araba1.dur()"
   ]
  }
 ],
 "metadata": {
  "colab": {
   "provenance": []
  },
  "kernelspec": {
   "display_name": "Python 3 (ipykernel)",
   "language": "python",
   "name": "python3"
  },
  "language_info": {
   "codemirror_mode": {
    "name": "ipython",
    "version": 3
   },
   "file_extension": ".py",
   "mimetype": "text/x-python",
   "name": "python",
   "nbconvert_exporter": "python",
   "pygments_lexer": "ipython3",
   "version": "3.12.1"
  }
 },
 "nbformat": 4,
 "nbformat_minor": 5
}

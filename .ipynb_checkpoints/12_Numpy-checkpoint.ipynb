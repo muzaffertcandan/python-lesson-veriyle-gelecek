{
 "cells": [
  {
   "cell_type": "code",
   "execution_count": null,
   "id": "c8e10306-643d-4b01-94e8-a59d816f37d9",
   "metadata": {},
   "outputs": [],
   "source": [
    "# Dosya açma\n",
    "f = open(\"demofile.txt\")\n"
   ]
  },
  {
   "cell_type": "code",
   "execution_count": 6,
   "id": "ad84d8c5-ece1-49e4-b7b7-4f7408b000c8",
   "metadata": {},
   "outputs": [
    {
     "name": "stdout",
     "output_type": "stream",
     "text": [
      "Selamlar bu benim demo dosyam\n",
      "Dosya açma kapama işlemlerini öğreniyoruz\n",
      "3. satır burada\n"
     ]
    }
   ],
   "source": [
    "#Dosya okuma\n",
    "f = open(\"demofile.txt\", \"r\")\n",
    "print(f.read())"
   ]
  },
  {
   "cell_type": "code",
   "execution_count": null,
   "id": "401187db-3a7e-4014-b9fa-94f717d50d7f",
   "metadata": {},
   "outputs": [],
   "source": [
    "# farklı lokasyon için\n",
    "f = open(\"D:\\\\myfiles\\welcome.txt\", \"r\")\n",
    "print(f.read())"
   ]
  },
  {
   "cell_type": "code",
   "execution_count": 7,
   "id": "f1991e40-7d14-4971-82f9-70aac84377e5",
   "metadata": {},
   "outputs": [
    {
     "name": "stdout",
     "output_type": "stream",
     "text": [
      "Selam\n"
     ]
    }
   ],
   "source": [
    "# sadece ilk 5 karakter için\n",
    "f = open(\"demofile.txt\", \"r\")\n",
    "print(f.read(5)) "
   ]
  },
  {
   "cell_type": "code",
   "execution_count": 11,
   "id": "d261f69a-88f8-4ba5-bca0-69a5b9156fff",
   "metadata": {},
   "outputs": [
    {
     "name": "stdout",
     "output_type": "stream",
     "text": [
      "Selamlar bu benim demo dosyam\n",
      "\n",
      "Dosya açma kapama işlemlerini öğreniyoruz\n",
      "\n"
     ]
    }
   ],
   "source": [
    "# satır satır okumaya yarar\n",
    "f = open(\"demofile.txt\", \"r\")\n",
    "print(f.readline())\n",
    "print(f.readline())\n",
    "f.close()"
   ]
  },
  {
   "cell_type": "code",
   "execution_count": null,
   "id": "afa48e2e-c5e7-4b62-ab57-a9100c94b455",
   "metadata": {},
   "outputs": [],
   "source": [
    "# Dosyaya yazı yazdırma\n",
    "# a ile dosyanın sonuna ekler"
   ]
  },
  {
   "cell_type": "code",
   "execution_count": 12,
   "id": "8559d24d-ff0a-4f5e-912c-02f0f3bfa262",
   "metadata": {},
   "outputs": [],
   "source": [
    "f = open(\"demofile.txt\", \"a\")\n",
    "f.write(\" bunlar yeni satır\")\n",
    "f.close()"
   ]
  },
  {
   "cell_type": "code",
   "execution_count": 13,
   "id": "a2cc04e5-df9f-4bdb-8350-c21c9f7cef5d",
   "metadata": {},
   "outputs": [
    {
     "name": "stdout",
     "output_type": "stream",
     "text": [
      "Selamlar bu benim demo dosyam\n",
      "Dosya açma kapama işlemlerini öğreniyoruz\n",
      "3. satır burada bunlar yeni satır bunlar yeni satır\n"
     ]
    }
   ],
   "source": [
    "# w ile dosyanın üstüne yazar\n",
    "f = open(\"demofile.txt\", \"r\")\n",
    "print(f.read())"
   ]
  },
  {
   "cell_type": "code",
   "execution_count": null,
   "id": "21e3ced7-85cc-4133-a2c8-e2aa573199fe",
   "metadata": {},
   "outputs": [],
   "source": [
    "import os\n",
    "#dosya silme\n",
    "os.remove(\"demofile.txt\")"
   ]
  },
  {
   "cell_type": "code",
   "execution_count": 15,
   "id": "e93fb6c3-cd7a-4b81-a2bf-674ba40472bb",
   "metadata": {},
   "outputs": [],
   "source": [
    "#klasör silme\n",
    "import os\n",
    "os.rmdir(\"newFolder\")"
   ]
  },
  {
   "cell_type": "code",
   "execution_count": 16,
   "id": "bbd9a385-ed5b-467f-8ad4-20ccb29bbcc9",
   "metadata": {},
   "outputs": [
    {
     "name": "stdout",
     "output_type": "stream",
     "text": [
      "[1 2 3 4 5]\n"
     ]
    }
   ],
   "source": [
    "# NUMPY\n",
    "# numpy Array oluşturma\n",
    "import numpy\n",
    "\n",
    "arr = numpy.array([1, 2, 3, 4, 5])\n",
    "\n",
    "print(arr)"
   ]
  },
  {
   "cell_type": "code",
   "execution_count": null,
   "id": "95ef23c4-c325-4dcb-bf33-bcb60f8fb6f7",
   "metadata": {},
   "outputs": [],
   "source": [
    "import numpy as np\n"
   ]
  },
  {
   "cell_type": "code",
   "execution_count": 17,
   "id": "7260240a-3f33-4b5d-84d6-e65860bec199",
   "metadata": {},
   "outputs": [
    {
     "name": "stdout",
     "output_type": "stream",
     "text": [
      "[1 2 3 4 5]\n",
      "<class 'numpy.ndarray'>\n"
     ]
    }
   ],
   "source": [
    "import numpy as np\n",
    "\n",
    "arr = np.array([1, 2, 3, 4, 5])\n",
    "\n",
    "print(arr)\n",
    "\n",
    "print(type(arr))"
   ]
  },
  {
   "cell_type": "code",
   "execution_count": 18,
   "id": "c7ad1960-4abe-4d91-89c9-8741b3c59df4",
   "metadata": {},
   "outputs": [
    {
     "name": "stdout",
     "output_type": "stream",
     "text": [
      "[1 2 3 4 5]\n"
     ]
    }
   ],
   "source": [
    "# tupple kullanarak da oluşturulabilir\n",
    "import numpy as np\n",
    "\n",
    "arr = np.array((1, 2, 3, 4, 5))\n",
    "\n",
    "print(arr)"
   ]
  },
  {
   "cell_type": "code",
   "execution_count": 19,
   "id": "4d743ad3-a4f6-4139-beb4-126b29eb9630",
   "metadata": {},
   "outputs": [
    {
     "name": "stdout",
     "output_type": "stream",
     "text": [
      "42\n"
     ]
    }
   ],
   "source": [
    "# 0 boyutlu array\n",
    "import numpy as np\n",
    "\n",
    "arr = np.array(42)\n",
    "\n",
    "print(arr)"
   ]
  },
  {
   "cell_type": "code",
   "execution_count": 20,
   "id": "fc1760f3-3180-4092-976d-688fcd82a484",
   "metadata": {},
   "outputs": [
    {
     "name": "stdout",
     "output_type": "stream",
     "text": [
      "[1 2 3 4 5]\n"
     ]
    }
   ],
   "source": [
    "# 1 boyutlu array\n",
    "import numpy as np\n",
    "\n",
    "arr = np.array([1, 2, 3, 4, 5])\n",
    "\n",
    "print(arr)"
   ]
  },
  {
   "cell_type": "code",
   "execution_count": 21,
   "id": "26b5bb49-5536-4ac7-8aff-a8520d5cc1cd",
   "metadata": {},
   "outputs": [
    {
     "name": "stdout",
     "output_type": "stream",
     "text": [
      "[[1 2 3]\n",
      " [4 5 6]]\n"
     ]
    }
   ],
   "source": [
    "# 2 bouytlu\n",
    "import numpy as np\n",
    "\n",
    "arr = np.array([[1, 2, 3], [4, 5, 6]])\n",
    "\n",
    "print(arr)"
   ]
  },
  {
   "cell_type": "code",
   "execution_count": 22,
   "id": "c0d4a665-7bd2-4841-b69f-0414c57badd0",
   "metadata": {},
   "outputs": [
    {
     "name": "stdout",
     "output_type": "stream",
     "text": [
      "[[[1 2 3]\n",
      "  [4 5 6]]\n",
      "\n",
      " [[1 2 3]\n",
      "  [4 5 6]]]\n"
     ]
    }
   ],
   "source": [
    "# 3 boyutlu\n",
    "import numpy as np\n",
    "\n",
    "arr = np.array([[[1, 2, 3], [4, 5, 6]], [[1, 2, 3], [4, 5, 6]]])\n",
    "\n",
    "print(arr)"
   ]
  },
  {
   "cell_type": "code",
   "execution_count": 23,
   "id": "a4a6168b-5b23-41af-ad3b-bd8de1bce405",
   "metadata": {},
   "outputs": [
    {
     "name": "stdout",
     "output_type": "stream",
     "text": [
      "0\n",
      "1\n",
      "2\n",
      "3\n"
     ]
    }
   ],
   "source": [
    "# boyut kontrolü\n",
    "import numpy as np\n",
    "\n",
    "a = np.array(42)\n",
    "b = np.array([1, 2, 3, 4, 5])\n",
    "c = np.array([[1, 2, 3], [4, 5, 6]])\n",
    "d = np.array([[[1, 2, 3], [4, 5, 6]], [[1, 2, 3], [4, 5, 6]]])\n",
    "\n",
    "print(a.ndim)\n",
    "print(b.ndim)\n",
    "print(c.ndim)\n",
    "print(d.ndim)"
   ]
  },
  {
   "cell_type": "code",
   "execution_count": 24,
   "id": "3c5f3d52-4f62-49f7-948e-9dbaa54f1671",
   "metadata": {},
   "outputs": [
    {
     "name": "stdout",
     "output_type": "stream",
     "text": [
      "1\n"
     ]
    }
   ],
   "source": [
    "# array indexleme\n",
    "import numpy as np\n",
    "\n",
    "arr = np.array([1, 2, 3, 4])\n",
    "\n",
    "print(arr[0])"
   ]
  },
  {
   "cell_type": "code",
   "execution_count": null,
   "id": "e8461516-adb1-42a0-ab86-1d242c9bcb84",
   "metadata": {},
   "outputs": [],
   "source": []
  }
 ],
 "metadata": {
  "kernelspec": {
   "display_name": "Python 3 (ipykernel)",
   "language": "python",
   "name": "python3"
  },
  "language_info": {
   "codemirror_mode": {
    "name": "ipython",
    "version": 3
   },
   "file_extension": ".py",
   "mimetype": "text/x-python",
   "name": "python",
   "nbconvert_exporter": "python",
   "pygments_lexer": "ipython3",
   "version": "3.12.1"
  }
 },
 "nbformat": 4,
 "nbformat_minor": 5
}

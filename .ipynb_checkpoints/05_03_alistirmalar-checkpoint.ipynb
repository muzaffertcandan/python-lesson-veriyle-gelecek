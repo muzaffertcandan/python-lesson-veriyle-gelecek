{
 "cells": [
  {
   "cell_type": "code",
   "execution_count": null,
   "id": "36584691-3e4e-422b-9a40-fe7d4294efaa",
   "metadata": {},
   "outputs": [],
   "source": [
    "# örn 1\n",
    "import random\n",
    "list1 = [1,2,3,4]\n",
    "list2 = [5,6,7,8]\n",
    "list1.extend(list2)"
   ]
  },
  {
   "cell_type": "code",
   "execution_count": null,
   "id": "fc68c201-c842-4f4b-bd4e-a2149ca38a31",
   "metadata": {},
   "outputs": [],
   "source": [
    "print(list1)"
   ]
  },
  {
   "cell_type": "code",
   "execution_count": null,
   "id": "0cb2835d-706a-4728-a8a7-fbec0522ea40",
   "metadata": {},
   "outputs": [],
   "source": [
    "list1.pop(random.randint(1,len(list1)))\n",
    "print(len(list1))\n",
    "print(list1)"
   ]
  },
  {
   "cell_type": "code",
   "execution_count": 1,
   "id": "169bf179-2fc3-4901-99d2-fed7e6128012",
   "metadata": {},
   "outputs": [
    {
     "name": "stdout",
     "output_type": "stream",
     "text": [
      "apple\n",
      "banana\n",
      "cherry\n",
      "mango\n",
      "strawberry\n",
      "['apple', 'cherry', 'strawberry']\n"
     ]
    }
   ],
   "source": [
    "#örn 2\n",
    "list = [\"apple\", \"bananA\", \"Cherry\", \"mango\", \"strawberry\"]\n",
    "new_list=[]\n",
    "for i in list:\n",
    "    \n",
    "    i= i.lower()\n",
    "    print(i)\n",
    "    \n",
    "    if \"e\" in i:\n",
    "        new_list.append(i)\n",
    "print(new_list)"
   ]
  },
  {
   "cell_type": "code",
   "execution_count": 6,
   "id": "0c7be577-d35d-4956-978e-1724cb7d92ef",
   "metadata": {},
   "outputs": [
    {
     "name": "stdout",
     "output_type": "stream",
     "text": [
      "10\n",
      "20\n",
      "30\n",
      "40\n",
      "45\n",
      "60\n",
      "[30, 40, 45, 60]\n"
     ]
    }
   ],
   "source": [
    "age = [10,20,30,40,45,60]\n",
    "new_list=[]\n",
    "for i in age:\n",
    "    print(i)\n",
    "    if i >= 30:\n",
    "        new_list.append(i)\n",
    "print(new_list)"
   ]
  },
  {
   "cell_type": "code",
   "execution_count": 7,
   "id": "ebe4224e-57f2-44ed-b4e9-fecbcb26854d",
   "metadata": {},
   "outputs": [
    {
     "name": "stdout",
     "output_type": "stream",
     "text": [
      "[26, 48, 47, 44, 29]\n"
     ]
    }
   ],
   "source": [
    "import random\n",
    "i= 1\n",
    "list= []\n",
    "while i < 6:\n",
    "    x = random.randint(1,50)\n",
    "    list.append(x)\n",
    "    i = i + 1\n",
    "\n",
    "print(list)"
   ]
  },
  {
   "cell_type": "code",
   "execution_count": 11,
   "id": "5e5908eb-088c-4a4c-b404-e61ce01dc8bb",
   "metadata": {},
   "outputs": [
    {
     "name": "stdin",
     "output_type": "stream",
     "text": [
      "vize notu giriniz:  asdasd\n"
     ]
    },
    {
     "name": "stdout",
     "output_type": "stream",
     "text": [
      "hata var\n"
     ]
    }
   ],
   "source": [
    "while True:\n",
    "    try:\n",
    "        vize = float(input(\"vize notu giriniz: \"))\n",
    "        final = float(input(\"final notu giriniz: \"))\n",
    "        vize_katsayi = float(input(\"vize katsayısını giriniz: \"))\n",
    "        final_katsayi = float(input(\"final katsayısını giriniz: \"))\n",
    "        \n",
    "        ortalama = (vize * vize_katsayi) + (final * final_katsayi) \n",
    "        \n",
    "        if (ortalama >= 60):\n",
    "    \n",
    "            print(\"Başarılı\")\n",
    "            quit = input(\"çıkış yapmak istiyor musunuz? (E/H)\")\n",
    "            if(quit.lower() == \"e\" ):\n",
    "                brea\n",
    "    \n",
    "        else:\n",
    "            print(\"başarısız\")\n",
    "            quit = input(\"çıkış yapmak istiyor musunuz? (E/H)\")\n",
    "            if(quit.lower() == \"e\" ):\n",
    "                break\n",
    "            \n",
    "    except:\n",
    "        print(\"hata var\")\n",
    "        break"
   ]
  },
  {
   "cell_type": "code",
   "execution_count": null,
   "id": "40254724-d6a1-4c0d-bdde-3e7d5d7db894",
   "metadata": {},
   "outputs": [],
   "source": []
  },
  {
   "cell_type": "code",
   "execution_count": 12,
   "id": "4b55e27d-8ce2-469c-bc94-a37eef785a12",
   "metadata": {},
   "outputs": [
    {
     "name": "stdout",
     "output_type": "stream",
     "text": [
      "İşlem seçenekleri:\n",
      "1. Toplama\n",
      "2. Çıkarma\n",
      "3. Çarpma\n",
      "4. Bölme\n",
      "5. Üs alma\n",
      "6. Karekök alma\n"
     ]
    },
    {
     "name": "stdin",
     "output_type": "stream",
     "text": [
      "işlem seçiniz (1/2/3/4/5/6):  6\n",
      "Birinci sayı:  64\n",
      "İkinci sayı:  24356789\n"
     ]
    },
    {
     "name": "stdout",
     "output_type": "stream",
     "text": [
      "Karekök alma: 8.0\n"
     ]
    }
   ],
   "source": [
    "#hesap makinesi\n",
    "import math\n",
    "def toplama(x, y):\n",
    "    return x + y\n",
    "\n",
    "def cikarma(x, y):\n",
    "    return x - y\n",
    "\n",
    "def carpma(x, y):\n",
    "    return x * y\n",
    "    \n",
    "def kare(x, y):\n",
    "    return x ** y\n",
    "\n",
    "def karekok(x):\n",
    "    return math.sqrt(x)\n",
    "\n",
    "def bolme(x, y):\n",
    "    if y == 0:\n",
    "        return \"Sıfıra bölme hatası! (zero devision)\"\n",
    "    else:\n",
    "        return x / y\n",
    "\n",
    "print(\"İşlem seçenekleri:\")\n",
    "print(\"1. Toplama\")\n",
    "print(\"2. Çıkarma\")\n",
    "print(\"3. Çarpma\")\n",
    "print(\"4. Bölme\")\n",
    "print(\"5. Üs alma\")\n",
    "print(\"6. Karekök alma\")\n",
    "\n",
    "secim = input(\"işlem seçiniz (1/2/3/4/5/6): \")\n",
    "\n",
    "sayi1 = float(input(\"Birinci sayı: \"))\n",
    "sayi2 = float(input(\"İkinci sayı: \"))\n",
    "\n",
    "if secim == '1':\n",
    "    print(\"Toplama:\", toplama(sayi1, sayi2))\n",
    "elif secim == '2':\n",
    "    print(\"Çıkarma:\", cikarma(sayi1, sayi2))\n",
    "elif secim == '3':\n",
    "    print(\"Çarpma:\", carpma(sayi1, sayi2))\n",
    "elif secim == '4':\n",
    "    print(\"Bölme:\", bolme(sayi1, sayi2))\n",
    "elif secim == '5':\n",
    "    print(\"Üs alma:\", kare(sayi1,sayi2))\n",
    "elif secim == '6':\n",
    "    print(\"Karekök alma:\", karekok(sayi1))\n",
    "\n",
    "else:\n",
    "    print(\"Geçersiz giriş!\")"
   ]
  }
 ],
 "metadata": {
  "kernelspec": {
   "display_name": "Python 3 (ipykernel)",
   "language": "python",
   "name": "python3"
  },
  "language_info": {
   "codemirror_mode": {
    "name": "ipython",
    "version": 3
   },
   "file_extension": ".py",
   "mimetype": "text/x-python",
   "name": "python",
   "nbconvert_exporter": "python",
   "pygments_lexer": "ipython3",
   "version": "3.12.1"
  }
 },
 "nbformat": 4,
 "nbformat_minor": 5
}

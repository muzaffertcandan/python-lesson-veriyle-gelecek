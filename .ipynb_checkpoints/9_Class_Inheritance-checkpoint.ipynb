{
 "cells": [
  {
   "cell_type": "code",
   "execution_count": 2,
   "id": "ad917e73-1dfa-41e4-a600-779939ceeb5c",
   "metadata": {},
   "outputs": [],
   "source": [
    "class MyClass:\n",
    "  x = 5\n"
   ]
  },
  {
   "cell_type": "code",
   "execution_count": 4,
   "id": "802ed440-c766-42b9-b72b-2d7b27155505",
   "metadata": {},
   "outputs": [
    {
     "name": "stdout",
     "output_type": "stream",
     "text": [
      "<__main__.MyClass object at 0x107843bf0>\n"
     ]
    }
   ],
   "source": [
    "p1 = MyClass()\n",
    "print(p1)"
   ]
  },
  {
   "cell_type": "code",
   "execution_count": 1,
   "id": "271bed6d-c86b-4949-b1a6-6c0bf86fcf91",
   "metadata": {},
   "outputs": [
    {
     "name": "stdout",
     "output_type": "stream",
     "text": [
      "John\n",
      "36\n"
     ]
    }
   ],
   "source": [
    "#init fonksiyonlarını nesne formu olarak tanımlayabiliriz\n",
    "class Person:\n",
    "  def __init__(self, name, age):\n",
    "    self.name = name\n",
    "    self.age = age\n",
    "\n",
    "p1 = Person(\"John\", 36)\n",
    "\n",
    "print(p1.name)\n",
    "print(p1.age)"
   ]
  },
  {
   "cell_type": "code",
   "execution_count": 2,
   "id": "2f34f583-1254-42d2-acf6-28da50e93800",
   "metadata": {},
   "outputs": [
    {
     "name": "stdout",
     "output_type": "stream",
     "text": [
      "<__main__.Person object at 0x107db6cf0>\n"
     ]
    }
   ],
   "source": [
    "#objeler string veri olmadığı için ekrana yazdırılmak istediğinde sadece objeyi belirtir \n",
    "class Person:\n",
    "  def __init__(self, name, age):\n",
    "    self.name = name\n",
    "    self.age = age\n",
    "\n",
    "p1 = Person(\"John\", 36)\n",
    "\n",
    "print(p1)"
   ]
  },
  {
   "cell_type": "code",
   "execution_count": 8,
   "id": "cfa51fc6-b85c-45d9-b8a4-fff0f16028c7",
   "metadata": {},
   "outputs": [
    {
     "name": "stdout",
     "output_type": "stream",
     "text": [
      "merhaba benim adım John(36)\n"
     ]
    }
   ],
   "source": [
    "#string bir veri şeklinde ekrana objeleri bu şekilde yazdırabiliriz\n",
    "class Person:\n",
    "  def __init__(self, name, age):\n",
    "    self.name = name\n",
    "    self.age = age\n",
    "\n",
    "  def __str__(self):\n",
    "    return f\"merhaba benim adım {self.name}({self.age})\"\n",
    "\n",
    "p1 = Person(\"John\", 36)\n",
    "\n",
    "print(p1)"
   ]
  },
  {
   "cell_type": "code",
   "execution_count": 17,
   "id": "dc9f6981-17bb-4c82-be06-1b64838369ff",
   "metadata": {},
   "outputs": [
    {
     "name": "stdout",
     "output_type": "stream",
     "text": [
      "Hello my name is John\n",
      "merhaba benim adım John yaşım 36\n"
     ]
    }
   ],
   "source": [
    "# her obje için fonksiyonlar atayabiliriz\n",
    "class Person:\n",
    "  def __init__(self, name, age):\n",
    "    self.name = name\n",
    "    self.age = age\n",
    "\n",
    "    \n",
    "  def __str__(self):\n",
    "    return f\"merhaba benim adım {self.name} yaşım {self.age}\"\n",
    "    \n",
    "  def myfunc(self):\n",
    "    print(\"Hello my name is \" + self.name)\n",
    "\n",
    "p1 = Person(\"John\", 36)\n",
    "p1.myfunc()\n",
    "print(p1)"
   ]
  },
  {
   "cell_type": "code",
   "execution_count": 19,
   "id": "b867d4f5-3332-4254-a9ce-96779f3e4ce9",
   "metadata": {},
   "outputs": [
    {
     "ename": "NameError",
     "evalue": "name 'copy' is not defined",
     "output_type": "error",
     "traceback": [
      "\u001b[0;31m---------------------------------------------------------------------------\u001b[0m",
      "\u001b[0;31mNameError\u001b[0m                                 Traceback (most recent call last)",
      "Cell \u001b[0;32mIn[19], line 1\u001b[0m\n\u001b[0;32m----> 1\u001b[0m p2 \u001b[38;5;241m=\u001b[39m \u001b[43mcopy\u001b[49m(p1)\n",
      "\u001b[0;31mNameError\u001b[0m: name 'copy' is not defined"
     ]
    }
   ],
   "source": []
  },
  {
   "cell_type": "code",
   "execution_count": 7,
   "id": "119efdd8-34e0-40a5-91d1-b7efe17d9fca",
   "metadata": {},
   "outputs": [
    {
     "name": "stdout",
     "output_type": "stream",
     "text": [
      "40\n"
     ]
    }
   ],
   "source": [
    "# obje değerleri propertyleri (prop) değiştirilebilir\n",
    "p1.age = 40\n",
    "print(p1.age)\n"
   ]
  },
  {
   "cell_type": "code",
   "execution_count": 12,
   "id": "b9f63f99-709c-4af6-97ce-6254712cfada",
   "metadata": {},
   "outputs": [],
   "source": [
    "# obje propları silinebilir\n",
    "del p1.age"
   ]
  },
  {
   "cell_type": "code",
   "execution_count": null,
   "id": "8657ba77-20ac-4319-b3ae-2ec7d252ac16",
   "metadata": {},
   "outputs": [],
   "source": []
  },
  {
   "cell_type": "code",
   "execution_count": 14,
   "id": "2e30e14c-39c0-4081-b022-be2daec486d2",
   "metadata": {},
   "outputs": [],
   "source": [
    "#objeler silinebilir\n",
    "del p1\n"
   ]
  },
  {
   "cell_type": "code",
   "execution_count": 16,
   "id": "d8496d94-f224-4cbd-8cf7-52e28aa9b5cf",
   "metadata": {},
   "outputs": [],
   "source": [
    "#print(p1)"
   ]
  },
  {
   "cell_type": "code",
   "execution_count": 14,
   "id": "a2077612-04c4-43f0-b5e6-e7bccda5e023",
   "metadata": {},
   "outputs": [],
   "source": [
    "# class tanımlamaları boş olamaz boş bırakabilmek için pass kullanırız\n",
    "class Person:\n",
    "  pass"
   ]
  },
  {
   "cell_type": "code",
   "execution_count": null,
   "id": "80c8239b-d213-40fa-8a80-5843b81bd026",
   "metadata": {},
   "outputs": [],
   "source": [
    "# Inheritance\n",
    "# inheritance sayesine parent class ın sahip olduğu özellikleri (propları)\n",
    "# child classlara da aktarabiliriz"
   ]
  },
  {
   "cell_type": "code",
   "execution_count": 15,
   "id": "113434ac-3a6c-452f-a942-9f16b4844f8d",
   "metadata": {},
   "outputs": [
    {
     "name": "stdout",
     "output_type": "stream",
     "text": [
      "John Doe\n"
     ]
    }
   ],
   "source": [
    "class Person:\n",
    "  def __init__(self, fname, lname):\n",
    "    self.firstname = fname\n",
    "    self.lastname = lname\n",
    "\n",
    "  def printname(self):\n",
    "    print(self.firstname, self.lastname)\n",
    "\n",
    "#Use the Person class to create an object, and then execute the printname method:\n",
    "\n",
    "x = Person(\"John\", \"Doe\")\n",
    "x.printname()"
   ]
  },
  {
   "cell_type": "code",
   "execution_count": 17,
   "id": "6a261ce2-ab70-4287-b837-fc4a5c20ceae",
   "metadata": {},
   "outputs": [],
   "source": [
    "# burada class ismini student koyduk ancak PERSON classından özelliklerini alır\n",
    "class Student(Person):\n",
    "  pass"
   ]
  },
  {
   "cell_type": "code",
   "execution_count": 18,
   "id": "5de31cc7-3b6c-4de0-a90a-4a0349a99708",
   "metadata": {},
   "outputs": [
    {
     "name": "stdout",
     "output_type": "stream",
     "text": [
      "Mike Olsen\n"
     ]
    }
   ],
   "source": [
    "x = Student(\"Mike\", \"Olsen\")\n",
    "x.printname()"
   ]
  },
  {
   "cell_type": "code",
   "execution_count": null,
   "id": "525042b7-a2a2-40b4-b3fb-5648dddfe8c8",
   "metadata": {},
   "outputs": [],
   "source": [
    "# parent class ın özelliklerinin üstüne kendi özellliklerini yazabilir\n",
    "class Student(Person):\n",
    "  def __init__(self, fname, lname):"
   ]
  },
  {
   "cell_type": "code",
   "execution_count": null,
   "id": "fb5e262c-91d5-433d-901a-c9391e03df13",
   "metadata": {},
   "outputs": [],
   "source": [
    "# parent classın özellikleri şu şekilde aktarılır:"
   ]
  },
  {
   "cell_type": "code",
   "execution_count": null,
   "id": "e8fba400-813f-4d64-be4e-ce0f11bd05f0",
   "metadata": {},
   "outputs": [],
   "source": [
    "class Student(Person):\n",
    "  def __init__(self, fname, lname):\n",
    "    Person.__init__(self, fname, lname)"
   ]
  },
  {
   "cell_type": "code",
   "execution_count": null,
   "id": "3d11ba90-0270-4831-8867-d83181986c90",
   "metadata": {},
   "outputs": [],
   "source": [
    "# aynı işlem super funciton ile de yapılabilir"
   ]
  },
  {
   "cell_type": "code",
   "execution_count": 22,
   "id": "a9d1732a-5a08-4f47-bcce-5b53089e7d13",
   "metadata": {},
   "outputs": [
    {
     "name": "stdout",
     "output_type": "stream",
     "text": [
      "muzaffer candan\n"
     ]
    }
   ],
   "source": [
    "class Student(Person):\n",
    "  def __init__(self, fname, lname):\n",
    "    super().__init__(fname, lname)\n",
    "\n",
    "p2 = Student(\"muzaffer\", \"candan\")\n",
    "p2.printname()"
   ]
  },
  {
   "cell_type": "code",
   "execution_count": null,
   "id": "4f3bd8e2-2b26-481a-baa8-ad57fccb74a1",
   "metadata": {},
   "outputs": [],
   "source": [
    "# iterators"
   ]
  },
  {
   "cell_type": "code",
   "execution_count": 23,
   "id": "cfb9779d-95a7-457d-bdb5-30b84b753427",
   "metadata": {},
   "outputs": [
    {
     "name": "stdout",
     "output_type": "stream",
     "text": [
      "apple\n",
      "banana\n",
      "cherry\n"
     ]
    }
   ],
   "source": [
    "#iteratorlar, bir veri koleksiyonundaki elemanlara sırayla erişmenizi sağlayan bir yapıdır.\n",
    "#Iteratorler, \"iterable\" olarak adlandırılan bir nesne üzerinde dolaşmak için kullanılır.\n",
    "# __iter__() metodunun görevi, iterator nesnesini döndürmektir.\n",
    "# __next__() metodunun görevi ise, bir sonraki elemanı döndürmek\n",
    "# sonrasında ise StopIteration hatası fırlatır\n",
    "mytuple = (\"apple\", \"banana\", \"cherry\")\n",
    "myit = iter(mytuple)\n",
    "\n",
    "print(next(myit))\n",
    "print(next(myit))\n",
    "print(next(myit))"
   ]
  },
  {
   "cell_type": "code",
   "execution_count": 24,
   "id": "f91674ef-d3b7-43cd-8940-80156ed41978",
   "metadata": {},
   "outputs": [
    {
     "name": "stdout",
     "output_type": "stream",
     "text": [
      "apple\n",
      "banana\n",
      "cherry\n"
     ]
    }
   ],
   "source": [
    "# itreatorlar for döngüleri ile de döndürülebilir\n",
    "mytuple = [\"apple\", \"banana\", \"cherry\"]\n",
    "\n",
    "for x in mytuple:\n",
    "  print(x)"
   ]
  },
  {
   "cell_type": "code",
   "execution_count": 25,
   "id": "77128a66-2234-4bac-b308-b205d0f8604b",
   "metadata": {},
   "outputs": [
    {
     "name": "stdout",
     "output_type": "stream",
     "text": [
      "b\n",
      "a\n",
      "n\n",
      "a\n",
      "n\n",
      "a\n"
     ]
    }
   ],
   "source": [
    "# stringler ile de çalışabilir\n",
    "mystr = \"banana\"\n",
    "\n",
    "for x in mystr:\n",
    "  print(x)"
   ]
  },
  {
   "cell_type": "code",
   "execution_count": 28,
   "id": "80245a75-754a-46f2-8942-24525f90e006",
   "metadata": {},
   "outputs": [
    {
     "name": "stdout",
     "output_type": "stream",
     "text": [
      "1\n",
      "2\n",
      "3\n",
      "4\n",
      "5\n"
     ]
    }
   ],
   "source": [
    "# iteration ları classlar ile yapmak istersek şu şekilde olur\n",
    "class MyNumbers:\n",
    "  def __iter__(self):\n",
    "    self.a = 1\n",
    "    return self\n",
    "\n",
    "  def __next__(self):\n",
    "    x = self.a\n",
    "    self.a += 1\n",
    "    return x\n",
    "\n",
    "myclass = MyNumbers()\n",
    "myiter = iter(myclass)\n",
    "\n",
    "print(next(myiter))\n",
    "print(next(myiter))\n",
    "print(next(myiter))\n",
    "print(next(myiter))\n",
    "print(next(myiter))"
   ]
  },
  {
   "cell_type": "code",
   "execution_count": 29,
   "id": "6f89b76d-c1de-4066-b368-ce5fdfbaa5a4",
   "metadata": {},
   "outputs": [
    {
     "name": "stdout",
     "output_type": "stream",
     "text": [
      "Drive!\n",
      "Sail!\n",
      "Fly!\n"
     ]
    }
   ],
   "source": [
    "#Polymorphism aynı kelimenin - fonksiyonun birden fazla iş yapması\n",
    "class Car:\n",
    "  def __init__(self, brand, model):\n",
    "    self.brand = brand\n",
    "    self.model = model\n",
    "\n",
    "  def move(self):\n",
    "    print(\"Drive!\")\n",
    "\n",
    "class Boat:\n",
    "  def __init__(self, brand, model):\n",
    "    self.brand = brand\n",
    "    self.model = model\n",
    "\n",
    "  def move(self):\n",
    "    print(\"Sail!\")\n",
    "\n",
    "class Plane:\n",
    "  def __init__(self, brand, model):\n",
    "    self.brand = brand\n",
    "    self.model = model\n",
    "\n",
    "  def move(self):\n",
    "    print(\"Fly!\")\n",
    "\n",
    "car1 = Car(\"Ford\", \"Mustang\")       #Create a Car class\n",
    "boat1 = Boat(\"Ibiza\", \"Touring 20\") #Create a Boat class\n",
    "plane1 = Plane(\"Boeing\", \"747\")     #Create a Plane class\n",
    "\n",
    "for x in (car1, boat1, plane1):\n",
    "  x.move()"
   ]
  },
  {
   "cell_type": "code",
   "execution_count": null,
   "id": "94cd5c23-89ef-40dd-b076-c20ace1f7f9d",
   "metadata": {},
   "outputs": [],
   "source": [
    "# Scope"
   ]
  },
  {
   "cell_type": "code",
   "execution_count": null,
   "id": "c96a89d8-f115-4378-95af-85b2f2f3c392",
   "metadata": {},
   "outputs": [],
   "source": [
    "# Scopelar bir değişkenin erişilebilir olduğu kod bloğunun veya etki alanının bir tanımıdır.\n",
    "# Python, belirli bir değişkenin nerede tanımlandığına bağlı olarak\n",
    "# o değişkenin hangi kapsamda (scope) olduğunu belirler.\n"
   ]
  },
  {
   "cell_type": "code",
   "execution_count": 30,
   "id": "b54f80dc-8d3c-46ec-902b-27eb79be1bef",
   "metadata": {},
   "outputs": [
    {
     "name": "stdout",
     "output_type": "stream",
     "text": [
      "300\n"
     ]
    }
   ],
   "source": [
    "#Local Scope\n",
    "def myfunc():\n",
    "  x = 300\n",
    "  print(x)\n",
    "\n",
    "myfunc()"
   ]
  },
  {
   "cell_type": "code",
   "execution_count": 33,
   "id": "4429e324-d0e2-4246-be99-9600ac43649f",
   "metadata": {},
   "outputs": [
    {
     "name": "stdout",
     "output_type": "stream",
     "text": [
      "500\n",
      "<__main__.Plane object at 0x118afba70>\n"
     ]
    }
   ],
   "source": [
    "#Enclosing Scope (Kapsayan Kapsam): içerideki fonksiyonun dışarıdaki fonksiyonun\n",
    "#variable ına erişebildiği durumdur\n",
    "def myfunc():\n",
    "  x = 500\n",
    "  def myinnerfunc():\n",
    "    print(x)\n",
    "  myinnerfunc()\n",
    "\n",
    "def yenifunc():\n",
    "    print(x)\n",
    "myfunc()\n",
    "yenifunc()"
   ]
  },
  {
   "cell_type": "code",
   "execution_count": 34,
   "id": "d1875f77-a5a1-4337-b980-480cf61abf9c",
   "metadata": {},
   "outputs": [
    {
     "name": "stdout",
     "output_type": "stream",
     "text": [
      "300\n",
      "300\n"
     ]
    }
   ],
   "source": [
    "# Global Scope (Global Kapsam): \n",
    "# Normalde fonksiyon dışında oluşturulmuş bir her varibale her yerden erişilebilir\n",
    "x = 300\n",
    "\n",
    "def myfunc():\n",
    "  print(x)\n",
    "\n",
    "myfunc()\n",
    "\n",
    "print(x)"
   ]
  },
  {
   "cell_type": "code",
   "execution_count": null,
   "id": "8c3ee0dd-19bf-4373-ae92-41b15bcb1379",
   "metadata": {},
   "outputs": [],
   "source": [
    "# Çıktısı ne olacaktır ?"
   ]
  },
  {
   "cell_type": "code",
   "execution_count": null,
   "id": "f251d25e-3e10-4c6a-954f-3a6a0e91674b",
   "metadata": {},
   "outputs": [],
   "source": [
    "x = 300\n",
    "\n",
    "def myfunc():\n",
    "  x = 200\n",
    "  print(x)\n",
    "\n",
    "myfunc()\n",
    "\n",
    "print(x)"
   ]
  },
  {
   "cell_type": "code",
   "execution_count": null,
   "id": "df8bfe7e-d1a2-4526-956a-3f008c39f100",
   "metadata": {},
   "outputs": [],
   "source": [
    "# ALIŞTIRMA Holdingler ve alt firmaları ile ilgili bir holding i ele alarak\n",
    "# başta bir Holdingi parent class olarak belirleyiniz\n",
    "# sonrasında alt şirketleri child classlar olarak ekleyip her şirketin\n",
    "# kuruluş yılı adı kurucusu vb verilerle sınıflar oluşturunuz"
   ]
  }
 ],
 "metadata": {
  "kernelspec": {
   "display_name": "Python 3 (ipykernel)",
   "language": "python",
   "name": "python3"
  },
  "language_info": {
   "codemirror_mode": {
    "name": "ipython",
    "version": 3
   },
   "file_extension": ".py",
   "mimetype": "text/x-python",
   "name": "python",
   "nbconvert_exporter": "python",
   "pygments_lexer": "ipython3",
   "version": "3.12.1"
  }
 },
 "nbformat": 4,
 "nbformat_minor": 5
}

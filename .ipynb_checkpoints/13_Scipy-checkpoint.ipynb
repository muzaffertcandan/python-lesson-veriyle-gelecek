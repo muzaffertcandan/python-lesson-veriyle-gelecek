{
 "cells": [
  {
   "cell_type": "code",
   "execution_count": null,
   "id": "d91b8173-efa7-4b2a-9116-37650305fa8d",
   "metadata": {},
   "outputs": [],
   "source": [
    "# scipy, numpy kullanarak bilimsel hesaplamalar yapan bir kütüphanedir\n",
    "# SciPy , Scientific Python anlamına gelir\n",
    "# içerisinde optimizasyon fonksiyonları içerir\n",
    "# ücretsizdir\n"
   ]
  },
  {
   "cell_type": "code",
   "execution_count": null,
   "id": "69ed8e18-fd5a-46e6-a916-73143fff046f",
   "metadata": {},
   "outputs": [],
   "source": [
    "\"\"\"\n",
    "Neden scipy kullanmalıyız?\n",
    "SciPy aslında numpy kullanır peki neden numpy kullanmıyoruz ?\n",
    "scipy optimize ve numpy kullanan hazır fonksiyonları bulunur\n",
    "ve bunlar sıklıkla Veri biliminde kullanılır\n",
    "\n",
    "scipy ağırlıklı olarak pythonla yazılmıştır ancak ama ara sıra C kullanılmıştır.\n",
    "scipy kütüphanesinin tamamı: https://github.com/scipy/scipy\n",
    "\"\"\""
   ]
  },
  {
   "cell_type": "code",
   "execution_count": 1,
   "id": "5f79103b-a1ad-4fe4-976d-96a82c37ae70",
   "metadata": {},
   "outputs": [
    {
     "name": "stdout",
     "output_type": "stream",
     "text": [
      "Requirement already satisfied: scipy in /opt/homebrew/Cellar/jupyterlab/4.0.9_2/libexec/lib/python3.12/site-packages (1.12.0)\n",
      "Requirement already satisfied: numpy<1.29.0,>=1.22.4 in /opt/homebrew/Cellar/jupyterlab/4.0.9_2/libexec/lib/python3.12/site-packages (from scipy) (1.26.4)\n",
      "\n",
      "\u001b[1m[\u001b[0m\u001b[34;49mnotice\u001b[0m\u001b[1;39;49m]\u001b[0m\u001b[39;49m A new release of pip is available: \u001b[0m\u001b[31;49m23.3.1\u001b[0m\u001b[39;49m -> \u001b[0m\u001b[32;49m24.0\u001b[0m\n",
      "\u001b[1m[\u001b[0m\u001b[34;49mnotice\u001b[0m\u001b[1;39;49m]\u001b[0m\u001b[39;49m To update, run: \u001b[0m\u001b[32;49m/opt/homebrew/Cellar/jupyterlab/4.0.9_2/libexec/bin/python -m pip install --upgrade pip\u001b[0m\n",
      "Note: you may need to restart the kernel to use updated packages.\n"
     ]
    }
   ],
   "source": [
    "pip install scipy"
   ]
  },
  {
   "cell_type": "code",
   "execution_count": 2,
   "id": "002ad523-43e2-4a07-ad45-f9e14a5070fe",
   "metadata": {},
   "outputs": [
    {
     "name": "stdout",
     "output_type": "stream",
     "text": [
      "0.001\n"
     ]
    }
   ],
   "source": [
    "# scipy içerisinden istenilen modüller import edilebilir\n",
    "from scipy import constants\n",
    "print(constants.liter)\n"
   ]
  },
  {
   "cell_type": "code",
   "execution_count": null,
   "id": "c95fee5c-8709-424e-ac48-d3fe8aba43e6",
   "metadata": {},
   "outputs": [],
   "source": [
    "# burada 1 litre 1 metre küpün 0.001 kadarı yer kaplar"
   ]
  },
  {
   "cell_type": "code",
   "execution_count": 4,
   "id": "a333f85f-a742-4708-b680-6efcbd8dc6da",
   "metadata": {},
   "outputs": [
    {
     "name": "stdout",
     "output_type": "stream",
     "text": [
      "1.12.0\n"
     ]
    }
   ],
   "source": [
    "import scipy\n",
    "\n",
    "print(scipy.__version__)\n"
   ]
  },
  {
   "cell_type": "code",
   "execution_count": 1,
   "id": "4062ff6a-52a1-48ca-821c-5634f0c4e43c",
   "metadata": {},
   "outputs": [
    {
     "name": "stdout",
     "output_type": "stream",
     "text": [
      "3.141592653589793\n"
     ]
    }
   ],
   "source": [
    "# Sabit değerler\n",
    "from scipy import constants\n",
    "\n",
    "print(constants.pi)"
   ]
  },
  {
   "cell_type": "code",
   "execution_count": 6,
   "id": "15cdd3a1-a389-44dc-b4dc-49be2e79864d",
   "metadata": {},
   "outputs": [
    {
     "name": "stdout",
     "output_type": "stream",
     "text": [
      "['Avogadro', 'Boltzmann', 'Btu', 'Btu_IT', 'Btu_th', 'ConstantWarning', 'G', 'Julian_year', 'N_A', 'Planck', 'R', 'Rydberg', 'Stefan_Boltzmann', 'Wien', '__all__', '__builtins__', '__cached__', '__doc__', '__file__', '__loader__', '__name__', '__package__', '__path__', '__spec__', '_codata', '_constants', '_obsolete_constants', 'acre', 'alpha', 'angstrom', 'arcmin', 'arcminute', 'arcsec', 'arcsecond', 'astronomical_unit', 'atm', 'atmosphere', 'atomic_mass', 'atto', 'au', 'bar', 'barrel', 'bbl', 'blob', 'c', 'calorie', 'calorie_IT', 'calorie_th', 'carat', 'centi', 'codata', 'constants', 'convert_temperature', 'day', 'deci', 'degree', 'degree_Fahrenheit', 'deka', 'dyn', 'dyne', 'e', 'eV', 'electron_mass', 'electron_volt', 'elementary_charge', 'epsilon_0', 'erg', 'exa', 'exbi', 'femto', 'fermi', 'find', 'fine_structure', 'fluid_ounce', 'fluid_ounce_US', 'fluid_ounce_imp', 'foot', 'g', 'gallon', 'gallon_US', 'gallon_imp', 'gas_constant', 'gibi', 'giga', 'golden', 'golden_ratio', 'grain', 'gram', 'gravitational_constant', 'h', 'hbar', 'hectare', 'hecto', 'horsepower', 'hour', 'hp', 'inch', 'k', 'kgf', 'kibi', 'kilo', 'kilogram_force', 'kmh', 'knot', 'lambda2nu', 'lb', 'lbf', 'light_year', 'liter', 'litre', 'long_ton', 'm_e', 'm_n', 'm_p', 'm_u', 'mach', 'mebi', 'mega', 'metric_ton', 'micro', 'micron', 'mil', 'mile', 'milli', 'minute', 'mmHg', 'mph', 'mu_0', 'nano', 'nautical_mile', 'neutron_mass', 'nu2lambda', 'ounce', 'oz', 'parsec', 'pebi', 'peta', 'physical_constants', 'pi', 'pico', 'point', 'pound', 'pound_force', 'precision', 'proton_mass', 'psi', 'pt', 'quecto', 'quetta', 'ronna', 'ronto', 'short_ton', 'sigma', 'slinch', 'slug', 'speed_of_light', 'speed_of_sound', 'stone', 'survey_foot', 'survey_mile', 'tebi', 'tera', 'test', 'ton_TNT', 'torr', 'troy_ounce', 'troy_pound', 'u', 'unit', 'value', 'week', 'yard', 'year', 'yobi', 'yocto', 'yotta', 'zebi', 'zepto', 'zero_Celsius', 'zetta']\n"
     ]
    }
   ],
   "source": [
    "print(dir(constants))\n",
    "1"
   ]
  },
  {
   "cell_type": "code",
   "execution_count": 13,
   "id": "e16458eb-8411-4126-8063-8d9a6feb0f0c",
   "metadata": {},
   "outputs": [
    {
     "name": "stdout",
     "output_type": "stream",
     "text": [
      "86400.0\n"
     ]
    }
   ],
   "source": [
    "print(constants.degree_Fahrenheit)"
   ]
  },
  {
   "cell_type": "code",
   "execution_count": null,
   "id": "b73b2ec6-e2ca-4646-8da4-66bc4b8cd0ad",
   "metadata": {},
   "outputs": [],
   "source": [
    "# alıştırma: day constantı ne işe yarar, verdiği çıktı neyi ifade eder\n",
    "# 1 constant seçerek ekrana yazdırınız\n",
    "print(constants.day)"
   ]
  },
  {
   "cell_type": "code",
   "execution_count": null,
   "id": "70c79b52-9c39-4967-821f-b470c8044a65",
   "metadata": {},
   "outputs": [],
   "source": [
    "#Metric (SI) Prefixes:\n",
    "# istenilen veriyi metre biriminden ifade eder örn: centi bize 0.01 değeri döndürür\n",
    "from scipy import constants\n",
    "\n",
    "print(constants.yotta)    #1e+24\n",
    "print(constants.zetta)    #1e+21\n",
    "print(constants.exa)      #1e+18\n",
    "print(constants.peta)     #1000000000000000.0\n",
    "print(constants.tera)     #1000000000000.0\n",
    "print(constants.giga)     #1000000000.0\n",
    "print(constants.mega)     #1000000.0\n",
    "print(constants.kilo)     #1000.0\n",
    "print(constants.hecto)    #100.0\n",
    "print(constants.deka)     #10.0\n",
    "print(constants.deci)     #0.1\n",
    "print(constants.centi)    #0.01\n",
    "print(constants.milli)    #0.001\n",
    "print(constants.micro)    #1e-06\n",
    "print(constants.nano)     #1e-09\n",
    "print(constants.pico)     #1e-12\n",
    "print(constants.femto)    #1e-15\n",
    "print(constants.atto)     #1e-18\n",
    "print(constants.zepto)    #1e-21"
   ]
  },
  {
   "cell_type": "code",
   "execution_count": null,
   "id": "a6a6a193-afdd-49d7-881f-96d1d607ca18",
   "metadata": {},
   "outputs": [],
   "source": [
    "# Binary Prefixes:\n",
    "# verilen değeri byte olarak döndürür\n",
    "# örn: 1 kilobayt 1024 byte dan oluşur 1 kibi bize 1024 değerini verir\n",
    "# 1 megabyte = 1024 kb\n",
    "\n",
    "print(constants.kibi)    #1024\n",
    "print(constants.mebi)    #1048576\n",
    "print(constants.gibi)    #1073741824\n",
    "print(constants.tebi)    #1099511627776\n",
    "print(constants.pebi)    #1125899906842624\n",
    "print(constants.exbi)    #1152921504606846976\n",
    "print(constants.zebi)    #1180591620717411303424\n",
    "print(constants.yobi)    #1208925819614629174706176"
   ]
  },
  {
   "cell_type": "code",
   "execution_count": null,
   "id": "238533c2-01e3-4dd3-a840-4567fc7df357",
   "metadata": {},
   "outputs": [],
   "source": [
    "# Mass (kütle)\n",
    "# verilen değeri kilogram cinsinden döndürür\n",
    "# 1 kg 1000 gramdır ve .gram bize 0.001 değerini verir\n",
    "\n",
    "print(constants.gram)        #0.001\n",
    "print(constants.metric_ton)  #1000.0\n",
    "print(constants.grain)       #6.479891e-05\n",
    "print(constants.lb)          #0.45359236999999997\n",
    "print(constants.pound)       #0.45359236999999997\n",
    "print(constants.oz)          #0.028349523124999998\n",
    "print(constants.ounce)       #0.028349523124999998\n",
    "print(constants.stone)       #6.3502931799999995\n",
    "print(constants.long_ton)    #1016.0469088\n",
    "print(constants.short_ton)   #907.1847399999999\n",
    "print(constants.troy_ounce)  #0.031103476799999998\n",
    "print(constants.troy_pound)  #0.37324172159999996\n",
    "print(constants.carat)       #0.0002\n",
    "print(constants.atomic_mass) #1.66053904e-27\n",
    "print(constants.m_u)         #1.66053904e-27\n",
    "print(constants.u)           #1.66053904e-27"
   ]
  },
  {
   "cell_type": "code",
   "execution_count": null,
   "id": "81360fc6-296d-4af0-aa57-a61d701c5fd5",
   "metadata": {},
   "outputs": [],
   "source": [
    "from scipy import constants\n",
    "# verilen birimi radyan şeklinde ekran yazdırır\n",
    "# dairenin çevresi 2 pi radyandır yani 360 dereceye eşittir\n",
    "print(constants.degree)     #0.017453292519943295\n",
    "print(constants.arcmin)     #0.0002908882086657216\n",
    "print(constants.arcminute)  #0.0002908882086657216\n",
    "print(constants.arcsec)     #4.84813681109536e-06\n",
    "print(constants.arcsecond)  #4.84813681109536e-06"
   ]
  },
  {
   "cell_type": "code",
   "execution_count": 16,
   "id": "bd4734bd-e889-4602-b77f-ffa315dd3cbd",
   "metadata": {},
   "outputs": [
    {
     "name": "stdout",
     "output_type": "stream",
     "text": [
      "60.0\n",
      "3600.0\n",
      "86400.0\n",
      "604800.0\n",
      "31536000.0\n",
      "31557600.0\n"
     ]
    }
   ],
   "source": [
    "#Time\n",
    "# verilen birimi saniye cinsinden yazdırır\n",
    "# örn: .hour bize 3600 değerini döndürür\n",
    "\n",
    "print(constants.minute)      #60.0\n",
    "print(constants.hour)        #3600.0\n",
    "print(constants.day)         #86400.0\n",
    "print(constants.week)        #604800.0\n",
    "print(constants.year)        #31536000.0\n",
    "print(constants.Julian_year) #31557600.0"
   ]
  },
  {
   "cell_type": "code",
   "execution_count": null,
   "id": "24a9cdf2-502a-46ca-ae93-07fa526a4155",
   "metadata": {},
   "outputs": [],
   "source": [
    "# Length\n",
    "# metre cinsinden verir\n",
    "\n",
    "print(constants.inch)              #0.0254\n",
    "print(constants.foot)              #0.30479999999999996\n",
    "print(constants.yard)              #0.9143999999999999\n",
    "print(constants.mile)              #1609.3439999999998\n",
    "print(constants.mil)               #2.5399999999999997e-05\n",
    "print(constants.pt)                #0.00035277777777777776\n",
    "print(constants.point)             #0.00035277777777777776\n",
    "print(constants.survey_foot)       #0.3048006096012192\n",
    "print(constants.survey_mile)       #1609.3472186944373\n",
    "print(constants.nautical_mile)     #1852.0\n",
    "print(constants.fermi)             #1e-15\n",
    "print(constants.angstrom)          #1e-10\n",
    "print(constants.micron)            #1e-06\n",
    "print(constants.au)                #149597870691.0\n",
    "print(constants.astronomical_unit) #149597870691.0\n",
    "print(constants.light_year)        #9460730472580800.0\n",
    "print(constants.parsec)            #3.0856775813057292e+16"
   ]
  },
  {
   "cell_type": "code",
   "execution_count": 17,
   "id": "f4a17b98-5034-4838-a2c4-ac487e47473d",
   "metadata": {},
   "outputs": [],
   "source": [
    "# Pressure\n",
    "# basınç paskal cinsinden verilir\n",
    "print(constants.atm)         #101325.0\n",
    "print(constants.atmosphere)  #101325.0\n",
    "print(constants.bar)         #100000.0\n",
    "print(constants.torr)        #133.32236842105263\n",
    "print(constants.mmHg)        #133.32236842105263\n",
    "print(constants.psi)         #6894.757293168361"
   ]
  },
  {
   "cell_type": "code",
   "execution_count": null,
   "id": "ff99129d-654d-4e42-9693-94d1da7121f5",
   "metadata": {},
   "outputs": [],
   "source": [
    "# Area\n",
    "# metre kare cinsinden verir\n",
    "print(constants.hectare) #10000.0\n",
    "print(constants.acre)    #4046.8564223999992"
   ]
  },
  {
   "cell_type": "code",
   "execution_count": 18,
   "id": "f4d0d084-48b0-43b7-88a0-87d629bab56f",
   "metadata": {},
   "outputs": [],
   "source": [
    "# Alıştırma: Alanı 14 bin 268.5 metre kare olan bir tarlanın kaç hektar olduğunu scipy kütüphanesi kullanarak hesaplayın"
   ]
  },
  {
   "cell_type": "code",
   "execution_count": null,
   "id": "bf17b488-6bc2-45e6-8a53-9fbfa0d75934",
   "metadata": {},
   "outputs": [],
   "source": [
    "# Volume (hacim)\n",
    "# metre küp cinsinden verir\n",
    "print(constants.liter)            #0.001\n",
    "print(constants.litre)            #0.001\n",
    "print(constants.gallon)           #0.0037854117839999997\n",
    "print(constants.gallon_US)        #0.0037854117839999997\n",
    "print(constants.gallon_imp)       #0.00454609\n",
    "print(constants.fluid_ounce)      #2.9573529562499998e-05\n",
    "print(constants.fluid_ounce_US)   #2.9573529562499998e-05\n",
    "print(constants.fluid_ounce_imp)  #2.84130625e-05\n",
    "print(constants.barrel)           #0.15898729492799998\n",
    "print(constants.bbl)              #0.15898729492799998"
   ]
  },
  {
   "cell_type": "code",
   "execution_count": null,
   "id": "7f89a2d4-672a-47f7-a857-c292bb821bbf",
   "metadata": {},
   "outputs": [],
   "source": [
    "# Speed\n",
    "# metre / saniye cinsinden verir\n",
    "print(constants.kmh)            #0.2777777777777778\n",
    "print(constants.mph)            #0.44703999999999994\n",
    "print(constants.mach)           #340.5\n",
    "print(constants.speed_of_sound) #340.5\n",
    "print(constants.knot)           #0.5144444444444445"
   ]
  },
  {
   "cell_type": "code",
   "execution_count": null,
   "id": "d97ae291-3e0e-4b65-83e7-f62d77ac4dfa",
   "metadata": {},
   "outputs": [],
   "source": [
    "# Alıştırma: hızı 60 km / saat olan bir araç kaç metre / saniye hız ile gider"
   ]
  },
  {
   "cell_type": "code",
   "execution_count": null,
   "id": "8c190e42-3b5e-4a9d-81d4-3d2806b820e8",
   "metadata": {},
   "outputs": [],
   "source": [
    "# Temprature (sıcaklık)\n",
    "# kelvin cinsinden verir\n",
    "print(constants.zero_Celsius)      #273.15\n",
    "print(constants.degree_Fahrenheit) #0.5555555555555556"
   ]
  },
  {
   "cell_type": "code",
   "execution_count": null,
   "id": "c99211f7-389b-4ca4-9faa-953b6842fb74",
   "metadata": {},
   "outputs": [],
   "source": [
    "# Energy\n",
    "# joule cinsinden verir\n",
    "print(constants.eV)            #1.6021766208e-19\n",
    "print(constants.electron_volt) #1.6021766208e-19\n",
    "print(constants.calorie)       #4.184\n",
    "print(constants.calorie_th)    #4.184\n",
    "print(constants.calorie_IT)    #4.1868\n",
    "print(constants.erg)           #1e-07\n",
    "print(constants.Btu)           #1055.05585262\n",
    "print(constants.Btu_IT)        #1055.05585262\n",
    "print(constants.Btu_th)        #1054.3502644888888\n",
    "print(constants.ton_TNT)       #4184000000.0"
   ]
  },
  {
   "cell_type": "code",
   "execution_count": null,
   "id": "fddde5f9-a8bd-4c2e-8f74-b983cbc8c592",
   "metadata": {},
   "outputs": [],
   "source": [
    "#Power\n",
    "# güç watt cinsinden verir\n",
    "print(constants.hp)         #745.6998715822701\n",
    "print(constants.horsepower) #745.6998715822701"
   ]
  },
  {
   "cell_type": "code",
   "execution_count": null,
   "id": "df5df812-74a5-4a7c-ad77-c92bff9191d8",
   "metadata": {},
   "outputs": [],
   "source": [
    "# Force\n",
    "# kuvvet newton cinsinden verilir\n",
    "print(constants.dyn)             #1e-05\n",
    "print(constants.dyne)            #1e-05\n",
    "print(constants.lbf)             #4.4482216152605\n",
    "print(constants.pound_force)     #4.4482216152605\n",
    "print(constants.kgf)             #9.80665\n",
    "print(constants.kilogram_force)  #9.80665"
   ]
  },
  {
   "cell_type": "code",
   "execution_count": null,
   "id": "6cc477ad-e4da-45a1-8a71-21c96059111f",
   "metadata": {},
   "outputs": [],
   "source": [
    "#SciPy Optimizers\n",
    "#Essentially, all of the algorithms in Machine Learning are nothing more than a complex equation that needs to be minimized with the help of given data.\n",
    "# Aslında tüm makine öğrenmesi algoritmaları karmaşık denklemlerden fazlası değildir\n",
    "# ve verilen veri yardımıyla minimize edilmelilerdir\n"
   ]
  },
  {
   "cell_type": "code",
   "execution_count": null,
   "id": "0d0ed123-08d1-4927-a805-27b708753420",
   "metadata": {},
   "outputs": [],
   "source": [
    "# Roots of an Equation\n",
    "# bir denklemin kökleri (sayısal analiz ile bulunur)\n",
    "# numpy bir polinomun veya doğrusal denklemin köklerini bulabilir\n",
    "# ama doğrusal olmayan denklemlerin köklerini bulamaz\n"
   ]
  },
  {
   "cell_type": "code",
   "execution_count": null,
   "id": "953f220c-db72-42ea-a5dd-49d67c29b89b",
   "metadata": {},
   "outputs": [],
   "source": [
    "# bulamayacağı örnek: x + cos(x)\n",
    "# scipy ile bulmak için optimze.root fonksiyonunu kullanabiliriz\n",
    "\"\"\"\n",
    "Bu fonksiyon 2 argüman alır\n",
    "fun - denklemi ifade eden bir fonksiyon\n",
    "x0 - köklerden birinin ilk tahmini\n",
    "fonksiyon çıktı olarak bir obje döndürür\n",
    "asıl sonuç objeninx değişkenin içindedir\n",
    "\"\"\"\n"
   ]
  },
  {
   "cell_type": "code",
   "execution_count": 28,
   "id": "4cd506da-043c-4814-b80f-83faba99aa25",
   "metadata": {},
   "outputs": [
    {
     "name": "stdout",
     "output_type": "stream",
     "text": [
      "[-0.73908513]\n"
     ]
    },
    {
     "name": "stderr",
     "output_type": "stream",
     "text": [
      "/var/folders/zq/4j2py0m9093fws0mymfysjz80000gn/T/ipykernel_75455/1464766098.py:5: DeprecationWarning: Conversion of an array with ndim > 0 to a scalar is deprecated, and will error in future. Ensure you extract a single element from your array before performing this operation. (Deprecated NumPy 1.25.)\n",
      "  return x + cos(x)\n"
     ]
    }
   ],
   "source": [
    "from scipy.optimize import root\n",
    "from math import cos\n",
    "\n",
    "def eqn(x):\n",
    "  return x + cos(x)\n",
    "\n",
    "myroot = root(eqn, 0)\n",
    "\n",
    "print(myroot.x)"
   ]
  },
  {
   "cell_type": "code",
   "execution_count": 31,
   "id": "a09de498-43f7-44a1-9581-aa34d6bb4356",
   "metadata": {},
   "outputs": [
    {
     "name": "stdout",
     "output_type": "stream",
     "text": [
      " message: The solution converged.\n",
      " success: True\n",
      "  status: 1\n",
      "     fun: [ 0.000e+00]\n",
      "       x: [-7.391e-01]\n",
      "  method: hybr\n",
      "    nfev: 9\n",
      "    fjac: [[-1.000e+00]]\n",
      "       r: [-1.674e+00]\n",
      "     qtf: [-2.668e-13]\n"
     ]
    }
   ],
   "source": [
    "# tüm sonuç\n",
    "print(myroot)"
   ]
  },
  {
   "cell_type": "code",
   "execution_count": 33,
   "id": "d0038859-57eb-4276-8512-e3db67f4fd14",
   "metadata": {},
   "outputs": [],
   "source": [
    "# Minimizing a Function\n",
    "# bir fonksiyon eğrileri temsil eder ve min max noktaları vardır\n",
    "# yüksek notalar maxima\n",
    "# düşük noktalar ise minima\n",
    "# en yüksek nokta global maxima ve diğer max noktalar local maxima dır\n",
    "# en düşük global minima ve diğer min noktalar local minima dır"
   ]
  },
  {
   "cell_type": "code",
   "execution_count": null,
   "id": "6a337836-d5b8-4080-8cba-6fcce373c95e",
   "metadata": {},
   "outputs": [],
   "source": [
    "# Finding Minima\n",
    "# scipy.optimize.minimize() bu fonksiyonu kullanabiliriz\n",
    "# fun - fonksiyon\n",
    "# x0 - kök tahmini.\n",
    "\"\"\"\n",
    "method - kullanılacak metod ismi. Legal values:\n",
    "    'CG'\n",
    "    'BFGS'\n",
    "    'Newton-CG'\n",
    "    'L-BFGS-B'\n",
    "    'TNC'\n",
    "    'COBYLA'\n",
    "    'SLSQP'\n",
    "    \n",
    " callback - function called after each iteration of optimization.\n",
    " options - a dictionary defining extra params:\n",
    "\n",
    "{\n",
    "     \"disp\": boolean - print detailed description\n",
    "     \"gtol\": number - the tolerance of the error\n",
    "  }\n",
    "\"\"\""
   ]
  },
  {
   "cell_type": "code",
   "execution_count": 34,
   "id": "9bc7e128-dcaa-41ad-80db-0542a9ab239a",
   "metadata": {},
   "outputs": [
    {
     "name": "stdout",
     "output_type": "stream",
     "text": [
      "  message: Optimization terminated successfully.\n",
      "  success: True\n",
      "   status: 0\n",
      "      fun: 1.75\n",
      "        x: [-5.000e-01]\n",
      "      nit: 2\n",
      "      jac: [ 0.000e+00]\n",
      " hess_inv: [[ 5.000e-01]]\n",
      "     nfev: 8\n",
      "     njev: 4\n"
     ]
    }
   ],
   "source": [
    "from scipy.optimize import minimize\n",
    "\n",
    "def eqn(x):\n",
    "  return x**2 + x + 2\n",
    "\n",
    "mymin = minimize(eqn, 0, method='BFGS')\n",
    "\n",
    "print(mymin)"
   ]
  },
  {
   "cell_type": "code",
   "execution_count": null,
   "id": "7e859fd8-b1c6-4796-8dbc-633e1677a8f6",
   "metadata": {},
   "outputs": [],
   "source": [
    "# SciPy Sparse Data (slaytta var)\n",
    "\"\"\"\n",
    "sparse veriler bir veri setinin çoğunluğunun bilgi taşımıyor olması (0 gibi)\n",
    "[1, 0, 2, 0, 0, 3, 0, 0, 0, 0, 0, 0]\n",
    "Dense Array: sparse array in tam tersidir verilerin çoğu 0 değildir\n",
    "bilimsel hesaplamalar yaparken sparse data ile karşılaşırız\n",
    "\"\"\"\n",
    "\n"
   ]
  },
  {
   "cell_type": "code",
   "execution_count": null,
   "id": "46222764-cb37-49cd-94b1-d87251569884",
   "metadata": {},
   "outputs": [],
   "source": [
    "\"\"\"\n",
    "scipy.sparse fonksiyonu kullanılabilir\n",
    "2 farklı sparse veri kullanırız\n",
    "CSC - Compressed Sparse Column. For efficient arithmetic, fast column slicing.\n",
    "CSR - Compressed Sparse Row. For fast row slicing, faster matrix vector products\n",
    "\n",
    "\"\"\""
   ]
  },
  {
   "cell_type": "code",
   "execution_count": 37,
   "id": "5c316726-70f2-47d0-a626-7c3b1014d470",
   "metadata": {},
   "outputs": [
    {
     "name": "stdout",
     "output_type": "stream",
     "text": [
      "  (0, 5)\t1\n",
      "  (0, 6)\t1\n",
      "  (0, 8)\t2\n"
     ]
    }
   ],
   "source": [
    "# fonksiyonun içine bir array yollayara martix oluşturabiliriz\n",
    "import numpy as np\n",
    "from scipy.sparse import csr_matrix\n",
    "\n",
    "arr = np.array([0, 0, 0, 0, 0, 1, 1, 0, 2])\n",
    "\n",
    "print(csr_matrix(arr))"
   ]
  },
  {
   "cell_type": "code",
   "execution_count": 38,
   "id": "efc5e789-4a67-4cbd-b84a-f7903f330131",
   "metadata": {},
   "outputs": [
    {
     "data": {
      "text/plain": [
       "'\\nçıktıda 3 farklı eleman ve değer görüyoruz\\n\\n 1. eleman satır 0 pozisyonu: 5 ve 1 değerine sahip\\n 2. eleman satır 0 pozisyonu: 6 ve 1 değerine sahip\\n 2. eleman satır 0 pozisyonu: 8 ve 3 değerine sahip\\n'"
      ]
     },
     "execution_count": 38,
     "metadata": {},
     "output_type": "execute_result"
    }
   ],
   "source": [
    "\"\"\"\n",
    "çıktıda 3 farklı eleman ve değer görüyoruz\n",
    "\n",
    " 1. eleman satır 0 pozisyonu: 5 ve 1 değerine sahip\n",
    " 2. eleman satır 0 pozisyonu: 6 ve 1 değerine sahip\n",
    " 2. eleman satır 0 pozisyonu: 8 ve 3 değerine sahip\n",
    "\"\"\""
   ]
  },
  {
   "cell_type": "code",
   "execution_count": 41,
   "id": "fd919949-02ea-4d94-b0b2-a4706ebd4f2c",
   "metadata": {},
   "outputs": [
    {
     "name": "stdout",
     "output_type": "stream",
     "text": [
      "[1 1 2]\n"
     ]
    }
   ],
   "source": [
    "import numpy as np\n",
    "\n",
    "from scipy.sparse import csr_matrix\n",
    "# burada array içerisindeki verilerden değere sahip olanları alıyoruz\n",
    "\n",
    "arr = np.array([[0, 0, 0], [0, 0, 1], [1, 0, 2]])\n",
    "\n",
    "print(csr_matrix(arr).data)"
   ]
  },
  {
   "cell_type": "code",
   "execution_count": 43,
   "id": "c9043030-56b8-4540-a856-cf533f2c1cae",
   "metadata": {},
   "outputs": [
    {
     "name": "stdout",
     "output_type": "stream",
     "text": [
      "3\n"
     ]
    }
   ],
   "source": [
    "# 0 olmayan kaç değer olduğunu gösterir\n",
    "import numpy as np\n",
    "from scipy.sparse import csr_matrix\n",
    "\n",
    "arr = np.array([[0, 0, 0], [0, 0, 1], [1, 0, 2]])\n",
    "\n",
    "print(csr_matrix(arr).count_nonzero())"
   ]
  },
  {
   "cell_type": "code",
   "execution_count": 44,
   "id": "748776a9-aefb-4c6d-91db-ce44e9b03e5c",
   "metadata": {},
   "outputs": [
    {
     "name": "stdout",
     "output_type": "stream",
     "text": [
      "  (1, 2)\t1\n",
      "  (2, 0)\t1\n",
      "  (2, 2)\t2\n"
     ]
    }
   ],
   "source": [
    "# 0 olmayan değerlerin konumları\n",
    "import numpy as np\n",
    "from scipy.sparse import csr_matrix\n",
    "\n",
    "arr = np.array([[0, 0, 0], [0, 0, 1], [1, 0, 2]])\n",
    "\n",
    "mat = csr_matrix(arr)\n",
    "mat.eliminate_zeros()\n",
    "\n",
    "print(mat)"
   ]
  },
  {
   "cell_type": "code",
   "execution_count": 46,
   "id": "480909b9-578a-4130-ac18-dac9b5afbe70",
   "metadata": {},
   "outputs": [
    {
     "name": "stdout",
     "output_type": "stream",
     "text": [
      "  (1, 2)\t1\n",
      "  (2, 0)\t1\n",
      "  (2, 2)\t2\n"
     ]
    }
   ],
   "source": [
    "# kopya verileri temizler\n",
    "import numpy as np\n",
    "from scipy.sparse import csr_matrix\n",
    "\n",
    "arr = np.array([[0, 0, 0], [0, 0, 1], [1, 0, 2]])\n",
    "\n",
    "mat = csr_matrix(arr)\n",
    "mat.sum_duplicates()\n",
    "\n",
    "print(mat)"
   ]
  },
  {
   "cell_type": "code",
   "execution_count": 47,
   "id": "518ee6f5-9205-40e8-8ef3-d76f62e575ca",
   "metadata": {},
   "outputs": [
    {
     "name": "stdout",
     "output_type": "stream",
     "text": [
      "  (2, 0)\t1\n",
      "  (1, 2)\t1\n",
      "  (2, 2)\t2\n"
     ]
    }
   ],
   "source": [
    "# csr dan csc ye çevirir\n",
    "import numpy as np\n",
    "from scipy.sparse import csr_matrix\n",
    "\n",
    "arr = np.array([[0, 0, 0], [0, 0, 1], [1, 0, 2]])\n",
    "\n",
    "newarr = csr_matrix(arr).tocsc()\n",
    "\n",
    "print(newarr)"
   ]
  },
  {
   "cell_type": "code",
   "execution_count": 48,
   "id": "6ad056cc-57e5-45e9-b534-f3511deeafda",
   "metadata": {},
   "outputs": [],
   "source": [
    "# SciPy Graphs\n",
    "# scipy.sparse.csgraph"
   ]
  },
  {
   "cell_type": "code",
   "execution_count": null,
   "id": "5cb40276-3582-43bb-8b65-abf268ae9da7",
   "metadata": {},
   "outputs": [],
   "source": [
    "#Adjacency Matrix (slayt)\n",
    "\"\"\"\n",
    "nxn matrislerdir n eleman sayısıdır ve değerlerde sayılar arası bağlantıları ifade eder\n"
   ]
  },
  {
   "cell_type": "code",
   "execution_count": 69,
   "id": "2a1c26bb-d3d7-4a2a-b72d-184fb285e2e7",
   "metadata": {},
   "outputs": [
    {
     "name": "stdout",
     "output_type": "stream",
     "text": [
      "(1, array([0, 0, 0], dtype=int32))\n"
     ]
    }
   ],
   "source": [
    "# Connected Components\n",
    "# tüm connected componentleri görmek için connected_components() metodu kullanılır.\n",
    "import numpy as np\n",
    "from scipy.sparse.csgraph import connected_components\n",
    "from scipy.sparse import csr_matrix\n",
    "\n",
    "arr = np.array([\n",
    "  [0, 1, 2],\n",
    "  [1, 0, 0],\n",
    "  [2, 0, 0]\n",
    "])\n",
    "\n",
    "newarr = csr_matrix(arr)\n",
    "\n",
    "print(connected_components(newarr))"
   ]
  },
  {
   "cell_type": "code",
   "execution_count": null,
   "id": "f9dcb0ab-9b8a-44cc-b5ab-5584a4e75fc4",
   "metadata": {},
   "outputs": [],
   "source": [
    "# Dijkstra\n"
   ]
  }
 ],
 "metadata": {
  "kernelspec": {
   "display_name": "Python 3 (ipykernel)",
   "language": "python",
   "name": "python3"
  },
  "language_info": {
   "codemirror_mode": {
    "name": "ipython",
    "version": 3
   },
   "file_extension": ".py",
   "mimetype": "text/x-python",
   "name": "python",
   "nbconvert_exporter": "python",
   "pygments_lexer": "ipython3",
   "version": "3.12.1"
  }
 },
 "nbformat": 4,
 "nbformat_minor": 5
}

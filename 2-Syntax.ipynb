{
 "cells": [
  {
   "cell_type": "code",
   "execution_count": 5,
   "id": "5b1bf9e2-8c44-4d3c-88e6-443eda141671",
   "metadata": {},
   "outputs": [
    {
     "name": "stdout",
     "output_type": "stream",
     "text": [
      "dört beşten küçüktür\n",
      "hi\n"
     ]
    }
   ],
   "source": [
    "if 4 < 5:\n",
    "    print(\"dört beşten küçüktür\")\n",
    "print(\"hi\")"
   ]
  },
  {
   "cell_type": "code",
   "execution_count": 7,
   "id": "04f44b33-ce58-4236-8f22-8a7bdf69f00b",
   "metadata": {},
   "outputs": [
    {
     "name": "stdout",
     "output_type": "stream",
     "text": [
      "Üç beşten küçüktür\n"
     ]
    }
   ],
   "source": [
    "if 5 > 6:\n",
    "    print(\"Bu yanlış bir ifadedir\")\n",
    "if 3 < 5:\n",
    "  print(\"Üç beşten küçüktür\")\n"
   ]
  },
  {
   "cell_type": "code",
   "execution_count": 13,
   "id": "695aed55-cd6f-4c1e-89ff-8bfaf0b3ee62",
   "metadata": {},
   "outputs": [],
   "source": [
    "#Variables - Değişkenler\n"
   ]
  },
  {
   "cell_type": "code",
   "execution_count": 10,
   "id": "c7190c49-36e9-46d1-ace2-f20e0bf46c62",
   "metadata": {},
   "outputs": [
    {
     "name": "stdout",
     "output_type": "stream",
     "text": [
      "Hello, 86 World!\n"
     ]
    }
   ],
   "source": [
    "x = 5\n",
    "y = \"Hello, 86 World!\"\n",
    "print(y)"
   ]
  },
  {
   "cell_type": "code",
   "execution_count": null,
   "id": "e0e776c9-8b94-4d69-b9bf-43a8d1b13924",
   "metadata": {},
   "outputs": [],
   "source": [
    "# Yorum Satırı\n",
    "\n",
    "# Bu bir yorum satırıdır\n",
    "print(\"yorum satırı\")"
   ]
  },
  {
   "cell_type": "code",
   "execution_count": 11,
   "id": "5cd33629-27d7-4af3-96f4-473a2f9904f1",
   "metadata": {},
   "outputs": [
    {
     "name": "stdout",
     "output_type": "stream",
     "text": [
      "6\n"
     ]
    }
   ],
   "source": [
    "print (6) # Yorum satırları kod bloğunun sonuna da eklenebilir"
   ]
  },
  {
   "cell_type": "code",
   "execution_count": 12,
   "id": "c4618006-f2bc-486b-9259-eea57260c7c6",
   "metadata": {},
   "outputs": [
    {
     "data": {
      "text/plain": [
       "'\\nÇok satırlı \\nyorum\\nsatırları\\n'"
      ]
     },
     "execution_count": 12,
     "metadata": {},
     "output_type": "execute_result"
    }
   ],
   "source": [
    "\"\"\"\n",
    "Çok satırlı \n",
    "yorum\n",
    "satırları\n",
    "\"\"\""
   ]
  },
  {
   "cell_type": "code",
   "execution_count": 15,
   "id": "d0359d72-1fa3-4f5d-9291-ccb1d07d3d73",
   "metadata": {},
   "outputs": [
    {
     "name": "stdout",
     "output_type": "stream",
     "text": [
      "merhaba\n",
      "ben\n",
      "   muzaffer\n"
     ]
    }
   ],
   "source": [
    "print(\"merhaba\\nben\\n   muzaffer\")"
   ]
  },
  {
   "cell_type": "code",
   "execution_count": null,
   "id": "f73d4113-594a-4a6c-b20a-a62b8c19a964",
   "metadata": {},
   "outputs": [],
   "source": []
  }
 ],
 "metadata": {
  "kernelspec": {
   "display_name": "Python 3 (ipykernel)",
   "language": "python",
   "name": "python3"
  },
  "language_info": {
   "codemirror_mode": {
    "name": "ipython",
    "version": 3
   },
   "file_extension": ".py",
   "mimetype": "text/x-python",
   "name": "python",
   "nbconvert_exporter": "python",
   "pygments_lexer": "ipython3",
   "version": "3.12.1"
  }
 },
 "nbformat": 4,
 "nbformat_minor": 5
}

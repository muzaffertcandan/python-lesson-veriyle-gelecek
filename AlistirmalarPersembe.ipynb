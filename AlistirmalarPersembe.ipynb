{
 "cells": [
  {
   "cell_type": "code",
   "execution_count": 6,
   "id": "7221d5b6-426d-4c36-a759-b76de51a43ba",
   "metadata": {},
   "outputs": [
    {
     "name": "stdin",
     "output_type": "stream",
     "text": [
      "kilonuzu kilogram cinsinden giriniz 5\n",
      "boyunuzu metre cinsinden giriniz 10\n"
     ]
    },
    {
     "name": "stdout",
     "output_type": "stream",
     "text": [
      "vki:  0.05\n"
     ]
    }
   ],
   "source": [
    "#VKİ\n",
    "\n",
    "kilo = float(input(\"kilonuzu kilogram cinsinden giriniz\"))\n",
    "boy = float(input(\"boyunuzu metre cinsinden giriniz\"))\n",
    "boy **= 2\n",
    "vki = kilo / boy\n",
    "print(\"vki: \", vki)"
   ]
  },
  {
   "cell_type": "code",
   "execution_count": 7,
   "id": "c76deb6e-0de1-4000-9b7c-f4cf7e05cbce",
   "metadata": {},
   "outputs": [
    {
     "name": "stdout",
     "output_type": "stream",
     "text": [
      "çalışma bitiş saati: 10:34\n"
     ]
    }
   ],
   "source": [
    "#ALIŞTIRMA:\n",
    "# Bir iş yerinde 8 saat çalışılmaktadır\n",
    "# İşe şuan başlamış bir kişi saat kaçta işi bırakacaktır (18.20) gibi\n",
    "import datetime\n",
    "work_hour = 8\n",
    "x = datetime.datetime.now()\n",
    "now_hour = int(x.strftime(\"%H\"))\n",
    "now_minute = int(x.strftime(\"%M\"))\n",
    "work_end_hour = (now_hour + work_hour)\n",
    "end_time = \"çalışma bitiş saati: {0}:{1}\".format(work_end_hour, now_minute)\n",
    "print(end_time)"
   ]
  },
  {
   "cell_type": "code",
   "execution_count": 9,
   "id": "c278dac6-e64c-4b3e-93f4-1dbfbfcf125e",
   "metadata": {},
   "outputs": [
    {
     "name": "stdout",
     "output_type": "stream",
     "text": [
      "7.5\n"
     ]
    }
   ],
   "source": [
    "# iki dik kenarı verilmiş üçgenin alanını bulunuz\n",
    "kenar1= 3\n",
    "kenar2= 5\n",
    "alan = (kenar1 * kenar2) / 2\n",
    "print(alan)"
   ]
  },
  {
   "cell_type": "code",
   "execution_count": 13,
   "id": "6c0b8f87-2fb9-4949-be3a-b8c8eb934814",
   "metadata": {},
   "outputs": [
    {
     "name": "stdout",
     "output_type": "stream",
     "text": [
      "78.53981633974483\n"
     ]
    }
   ],
   "source": [
    "# Yarıçapı verilmiş bir dairenin alanını bulan program yazınız\n",
    "import math\n",
    "r = 5\n",
    "pi = math.pi\n",
    "alan = pi * (r**2)\n",
    "print(alan)"
   ]
  },
  {
   "cell_type": "code",
   "execution_count": 24,
   "id": "ea2d71bd-f509-4f4a-a69f-1288a862d9d3",
   "metadata": {},
   "outputs": [
    {
     "name": "stdout",
     "output_type": "stream",
     "text": [
      "Ahmet 18 yaşında, Talha 20 yaşında, Levent 21 yaşında\n"
     ]
    }
   ],
   "source": [
    "age1= 18\n",
    "age2= 20 \n",
    "age3= 21\n",
    "\n",
    "main_text = \"Ahmet {0} yaşında, Talha {1} yaşında, Levent {2} yaşında\".format(age, age2, age3)\n",
    "print(main_text)"
   ]
  },
  {
   "cell_type": "code",
   "execution_count": null,
   "id": "e6a18670-73d1-4cde-9517-42c13e895580",
   "metadata": {},
   "outputs": [],
   "source": [
    "#CUMA GÜNÜ:"
   ]
  },
  {
   "cell_type": "code",
   "execution_count": null,
   "id": "10c3d206-d3a4-4c61-9c71-08ae4e358c43",
   "metadata": {},
   "outputs": [],
   "source": []
  },
  {
   "cell_type": "code",
   "execution_count": null,
   "id": "3867757f-48c1-4564-b63d-66301e9345db",
   "metadata": {},
   "outputs": [],
   "source": []
  },
  {
   "cell_type": "code",
   "execution_count": 2,
   "id": "fac7716f-3cc2-44af-a7ae-4d23657743eb",
   "metadata": {},
   "outputs": [
    {
     "name": "stdout",
     "output_type": "stream",
     "text": [
      "1\n",
      "[43]\n",
      "2\n",
      "[43, 32]\n",
      "3\n",
      "[43, 32, 25]\n",
      "4\n",
      "[43, 32, 25, 7]\n",
      "5\n",
      "[43, 32, 25, 7, 27]\n"
     ]
    }
   ],
   "source": [
    "\n",
    "\n",
    "\n",
    "\n",
    "#\n",
    "import random\n",
    "i = 1\n",
    "my_list = []\n",
    "while i < 6:\n",
    "    print(i)\n",
    "    i += 1\n",
    "    my_list.append(random.randint(1, 50))\n",
    "    print(my_list)"
   ]
  },
  {
   "cell_type": "code",
   "execution_count": null,
   "id": "7b2b3abb-7264-416e-a166-3ec517fafdd7",
   "metadata": {},
   "outputs": [],
   "source": []
  }
 ],
 "metadata": {
  "kernelspec": {
   "display_name": "Python 3 (ipykernel)",
   "language": "python",
   "name": "python3"
  },
  "language_info": {
   "codemirror_mode": {
    "name": "ipython",
    "version": 3
   },
   "file_extension": ".py",
   "mimetype": "text/x-python",
   "name": "python",
   "nbconvert_exporter": "python",
   "pygments_lexer": "ipython3",
   "version": "3.12.1"
  }
 },
 "nbformat": 4,
 "nbformat_minor": 5
}
